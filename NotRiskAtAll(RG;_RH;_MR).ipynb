{
  "cells": [
    {
      "cell_type": "markdown",
      "metadata": {
        "id": "2n_suG0hAsar"
      },
      "source": [
        ""
      ]
    },
    {
      "cell_type": "markdown",
      "metadata": {
        "id": "NLmEaobmP6TS"
      },
      "source": [
        "# Trabajo Práctico final de integración\n",
        "# Grupo 5 \"besgrupeva\""
      ]
    },
    {
      "cell_type": "markdown",
      "metadata": {
        "id": "zSiQ0ykRQHNv"
      },
      "source": [
        "Integrantes: Raul Garcia / Rodrigo Hidalgo / Maximiliano Romero\n"
      ]
    },
    {
      "cell_type": "markdown",
      "metadata": {
        "id": "isSwzjhyZAYJ"
      },
      "source": [
        "# Introducción al Problema"
      ]
    },
    {
      "cell_type": "markdown",
      "metadata": {
        "id": "yZjR9y2jyTsY"
      },
      "source": [
        "**Planteamiento del problema** \n",
        "* Somos besgrupeva, una consultora joven pero pujante en el mercado del data science, Nuestro cliente \"NotRiskAtAll \" se encuentra peocupado por la alta tasa de morosidad que se experimenta en latinoamérica en esta era post Covid. En los últimos años, el CEO (mr bigote), ha recopilado mucha información de datos bancarios, crediticios, y poblacionales de muchos de sus clientes. Por otro lado, siendo un entusiasta seguidor de los foros de tendencias de negocios ha llegado a la idea de que el machine learning puede ayudarle a construir un modelo que le permita saber a que futuros clientes prestarles y a cuales no.\n",
        "\n",
        "**Objetivo**\n",
        " * Identificar la calificación crediticia (Credit_Score), de un cliente y calificarla en base a tres niveles posibles “Good (1) & Poor (0)”.**\n",
        "\n",
        "**Referencias y Fuente de datos**\n",
        "https://www.kaggle.com/datasets/parisrohan/credit-score-classification\n"
      ]
    },
    {
      "cell_type": "markdown",
      "metadata": {
        "id": "arNEmW_X2gLs"
      },
      "source": [
        "**Objetivos Generales Entrega 1:**\n",
        "1. Entender el problema de negocio e identificar los elementos a ser \n",
        "considerados para el planteamiento de un Modelo de Data Science.\n",
        "2. Describir los datos de negocio y las relaciones entre datos mediante el Análisis Exploratorio de Datos.\n",
        "3. Construir una presentación ejecutiva para la alta gerencia mostrando los resultados obtenidos"
      ]
    },
    {
      "cell_type": "markdown",
      "metadata": {
        "id": "ArcS0swM3K1G"
      },
      "source": [
        "**1. Entendiendo el problema**\n",
        "Dada la información relacionada con datos crediticios y poblacionales de las personas, se debe crear un modelo de aprendizaje automático que pueda clasificar el puntaje crediticio. Para ello utilizaremos herrmientas de clasificación (aprendizaje supervisado, pues existe un flag con el resultado deseado).\n"
      ]
    },
    {
      "cell_type": "markdown",
      "metadata": {
        "id": "OVzJhuRD3zCr"
      },
      "source": [
        "**2. Describir los datos de negocio e identificar los elementos a ser considerados para el planteamieto del modelo de Data Science**\n",
        "Si bien, el set de datos se compone de solo una tabla, es necesario traer a colación que el dataset no puede ser utilizado tal cual está por los siguientes motivos:\n",
        "* aun no conocemos en detalle como es el set en si.\n",
        "* existen datos faltantes e incorrectos\n",
        "* los clientes aparecen muchas veces en el set, por lo cual es necesario sumarizar y perfilar el set.\n",
        "* pueden existir variables redundantes o irrelevantes.\n",
        "\n",
        "    **### estos puntos se profundizarán en el apartado EDA (exploratory data analysis)###**"
      ]
    },
    {
      "cell_type": "markdown",
      "metadata": {
        "id": "xKvPMCE148eT"
      },
      "source": [
        "**3. Construir una presentación ejecutiva para la alta gerencia mostrando los resultados obtenidos**\n",
        "Consideramos que esta presentación es una de las últimas cosas a realizar, en especiál hasta que llegemos a un resultado contundente."
      ]
    },
    {
      "cell_type": "markdown",
      "metadata": {
        "id": "hnd9sOKrN15l"
      },
      "source": [
        "# Configuración y librerías\n",
        "Intentademos ir agregando en estas líneas las librerías a medida que las precisemos."
      ]
    },
    {
      "cell_type": "code",
      "execution_count": null,
      "metadata": {
        "colab": {
          "base_uri": "https://localhost:8080/"
        },
        "id": "BoquYqAPoy0K",
        "outputId": "912d9f5f-9140-455a-ac95-968bcbc3d82e"
      },
      "outputs": [
        {
          "output_type": "stream",
          "name": "stdout",
          "text": [
            "Looking in indexes: https://pypi.org/simple, https://us-python.pkg.dev/colab-wheels/public/simple/\n",
            "Requirement already satisfied: pandas_profiling in /usr/local/lib/python3.7/dist-packages (1.4.1)\n",
            "Collecting pandas_profiling\n",
            "  Downloading pandas_profiling-3.4.0-py2.py3-none-any.whl (315 kB)\n",
            "\u001b[K     |████████████████████████████████| 315 kB 4.4 MB/s \n",
            "\u001b[?25hCollecting htmlmin==0.1.12\n",
            "  Downloading htmlmin-0.1.12.tar.gz (19 kB)\n",
            "Requirement already satisfied: numpy<1.24,>=1.16.0 in /usr/local/lib/python3.7/dist-packages (from pandas_profiling) (1.21.6)\n",
            "Collecting visions[type_image_path]==0.7.5\n",
            "  Downloading visions-0.7.5-py3-none-any.whl (102 kB)\n",
            "\u001b[K     |████████████████████████████████| 102 kB 44.6 MB/s \n",
            "\u001b[?25hCollecting phik<0.13,>=0.11.1\n",
            "  Downloading phik-0.12.2-cp37-cp37m-manylinux_2_17_x86_64.manylinux2014_x86_64.whl (690 kB)\n",
            "\u001b[K     |████████████████████████████████| 690 kB 52.8 MB/s \n",
            "\u001b[?25hCollecting multimethod<1.10,>=1.4\n",
            "  Downloading multimethod-1.9-py3-none-any.whl (10 kB)\n",
            "Collecting statsmodels<0.14,>=0.13.2\n",
            "  Downloading statsmodels-0.13.5-cp37-cp37m-manylinux_2_17_x86_64.manylinux2014_x86_64.whl (9.9 MB)\n",
            "\u001b[K     |████████████████████████████████| 9.9 MB 43.2 MB/s \n",
            "\u001b[?25hRequirement already satisfied: PyYAML<6.1,>=5.0.0 in /usr/local/lib/python3.7/dist-packages (from pandas_profiling) (6.0)\n",
            "Collecting requests<2.29,>=2.24.0\n",
            "  Downloading requests-2.28.1-py3-none-any.whl (62 kB)\n",
            "\u001b[K     |████████████████████████████████| 62 kB 1.1 MB/s \n",
            "\u001b[?25hRequirement already satisfied: pydantic<1.11,>=1.8.1 in /usr/local/lib/python3.7/dist-packages (from pandas_profiling) (1.10.2)\n",
            "Requirement already satisfied: missingno<0.6,>=0.4.2 in /usr/local/lib/python3.7/dist-packages (from pandas_profiling) (0.5.1)\n",
            "Requirement already satisfied: tqdm<4.65,>=4.48.2 in /usr/local/lib/python3.7/dist-packages (from pandas_profiling) (4.64.1)\n",
            "Requirement already satisfied: seaborn<0.13,>=0.10.1 in /usr/local/lib/python3.7/dist-packages (from pandas_profiling) (0.11.2)\n",
            "Requirement already satisfied: jinja2<3.2,>=2.11.1 in /usr/local/lib/python3.7/dist-packages (from pandas_profiling) (2.11.3)\n",
            "Requirement already satisfied: matplotlib<3.6,>=3.2 in /usr/local/lib/python3.7/dist-packages (from pandas_profiling) (3.2.2)\n",
            "Requirement already satisfied: pandas!=1.4.0,<1.6,>1.1 in /usr/local/lib/python3.7/dist-packages (from pandas_profiling) (1.3.5)\n",
            "Requirement already satisfied: scipy<1.10,>=1.4.1 in /usr/local/lib/python3.7/dist-packages (from pandas_profiling) (1.7.3)\n",
            "Requirement already satisfied: attrs>=19.3.0 in /usr/local/lib/python3.7/dist-packages (from visions[type_image_path]==0.7.5->pandas_profiling) (22.1.0)\n",
            "Collecting tangled-up-in-unicode>=0.0.4\n",
            "  Downloading tangled_up_in_unicode-0.2.0-py3-none-any.whl (4.7 MB)\n",
            "\u001b[K     |████████████████████████████████| 4.7 MB 33.1 MB/s \n",
            "\u001b[?25hRequirement already satisfied: networkx>=2.4 in /usr/local/lib/python3.7/dist-packages (from visions[type_image_path]==0.7.5->pandas_profiling) (2.6.3)\n",
            "Requirement already satisfied: Pillow in /usr/local/lib/python3.7/dist-packages (from visions[type_image_path]==0.7.5->pandas_profiling) (7.1.2)\n",
            "Collecting imagehash\n",
            "  Downloading ImageHash-4.3.1-py2.py3-none-any.whl (296 kB)\n",
            "\u001b[K     |████████████████████████████████| 296 kB 69.7 MB/s \n",
            "\u001b[?25hRequirement already satisfied: MarkupSafe>=0.23 in /usr/local/lib/python3.7/dist-packages (from jinja2<3.2,>=2.11.1->pandas_profiling) (2.0.1)\n",
            "Requirement already satisfied: cycler>=0.10 in /usr/local/lib/python3.7/dist-packages (from matplotlib<3.6,>=3.2->pandas_profiling) (0.11.0)\n",
            "Requirement already satisfied: python-dateutil>=2.1 in /usr/local/lib/python3.7/dist-packages (from matplotlib<3.6,>=3.2->pandas_profiling) (2.8.2)\n",
            "Requirement already satisfied: kiwisolver>=1.0.1 in /usr/local/lib/python3.7/dist-packages (from matplotlib<3.6,>=3.2->pandas_profiling) (1.4.4)\n",
            "Requirement already satisfied: pyparsing!=2.0.4,!=2.1.2,!=2.1.6,>=2.0.1 in /usr/local/lib/python3.7/dist-packages (from matplotlib<3.6,>=3.2->pandas_profiling) (3.0.9)\n",
            "Requirement already satisfied: typing-extensions in /usr/local/lib/python3.7/dist-packages (from kiwisolver>=1.0.1->matplotlib<3.6,>=3.2->pandas_profiling) (4.1.1)\n",
            "Requirement already satisfied: pytz>=2017.3 in /usr/local/lib/python3.7/dist-packages (from pandas!=1.4.0,<1.6,>1.1->pandas_profiling) (2022.5)\n",
            "Requirement already satisfied: joblib>=0.14.1 in /usr/local/lib/python3.7/dist-packages (from phik<0.13,>=0.11.1->pandas_profiling) (1.2.0)\n",
            "Requirement already satisfied: six>=1.5 in /usr/local/lib/python3.7/dist-packages (from python-dateutil>=2.1->matplotlib<3.6,>=3.2->pandas_profiling) (1.15.0)\n",
            "Requirement already satisfied: charset-normalizer<3,>=2 in /usr/local/lib/python3.7/dist-packages (from requests<2.29,>=2.24.0->pandas_profiling) (2.1.1)\n",
            "Requirement already satisfied: idna<4,>=2.5 in /usr/local/lib/python3.7/dist-packages (from requests<2.29,>=2.24.0->pandas_profiling) (2.10)\n",
            "Requirement already satisfied: urllib3<1.27,>=1.21.1 in /usr/local/lib/python3.7/dist-packages (from requests<2.29,>=2.24.0->pandas_profiling) (1.24.3)\n",
            "Requirement already satisfied: certifi>=2017.4.17 in /usr/local/lib/python3.7/dist-packages (from requests<2.29,>=2.24.0->pandas_profiling) (2022.9.24)\n",
            "Requirement already satisfied: patsy>=0.5.2 in /usr/local/lib/python3.7/dist-packages (from statsmodels<0.14,>=0.13.2->pandas_profiling) (0.5.3)\n",
            "Requirement already satisfied: packaging>=21.3 in /usr/local/lib/python3.7/dist-packages (from statsmodels<0.14,>=0.13.2->pandas_profiling) (21.3)\n",
            "Requirement already satisfied: PyWavelets in /usr/local/lib/python3.7/dist-packages (from imagehash->visions[type_image_path]==0.7.5->pandas_profiling) (1.3.0)\n",
            "Building wheels for collected packages: htmlmin\n",
            "  Building wheel for htmlmin (setup.py) ... \u001b[?25l\u001b[?25hdone\n",
            "  Created wheel for htmlmin: filename=htmlmin-0.1.12-py3-none-any.whl size=27098 sha256=7540eddef0bc08510cf750fa9765a7f5bebdc9d7e19f262d938a4a020a193c07\n",
            "  Stored in directory: /root/.cache/pip/wheels/70/e1/52/5b14d250ba868768823940c3229e9950d201a26d0bd3ee8655\n",
            "Successfully built htmlmin\n",
            "Installing collected packages: tangled-up-in-unicode, multimethod, visions, imagehash, statsmodels, requests, phik, htmlmin, pandas-profiling\n",
            "  Attempting uninstall: statsmodels\n",
            "    Found existing installation: statsmodels 0.12.2\n",
            "    Uninstalling statsmodels-0.12.2:\n",
            "      Successfully uninstalled statsmodels-0.12.2\n",
            "  Attempting uninstall: requests\n",
            "    Found existing installation: requests 2.23.0\n",
            "    Uninstalling requests-2.23.0:\n",
            "      Successfully uninstalled requests-2.23.0\n",
            "  Attempting uninstall: pandas-profiling\n",
            "    Found existing installation: pandas-profiling 1.4.1\n",
            "    Uninstalling pandas-profiling-1.4.1:\n",
            "      Successfully uninstalled pandas-profiling-1.4.1\n",
            "Successfully installed htmlmin-0.1.12 imagehash-4.3.1 multimethod-1.9 pandas-profiling-3.4.0 phik-0.12.2 requests-2.28.1 statsmodels-0.13.5 tangled-up-in-unicode-0.2.0 visions-0.7.5\n"
          ]
        }
      ],
      "source": [
        "!pip3 install pandas_profiling --upgrade"
      ]
    },
    {
      "cell_type": "code",
      "execution_count": null,
      "metadata": {
        "id": "LbUa0jfbh3Fy"
      },
      "outputs": [],
      "source": [
        "import pandas as pd\n",
        "import numpy as np\n",
        "import seaborn as sns\n",
        "\n",
        "from matplotlib import pyplot as plt\n",
        "import pandas_profiling\n",
        "\n",
        "from statistics import mode\n",
        "\n",
        "#import statsmodels.api as sm\n",
        "#from statsmodels.formula.api import ols\n",
        "#from sklearn.linear_model import LogisticRegression\n",
        "#from sklearn.model_selection import train_test_split\n",
        "#from sklearn.metrics import accuracy_score\n",
        "#from sklearn.preprocessing import StandardScaler\n",
        "\n",
        "#from imblearn.over_sampling import SMOTE\n",
        "#from sklearn.metrics import (confusion_matrix, accuracy_score)\n",
        "#from sklearn.metrics import ConfusionMatrixDisplay"
      ]
    },
    {
      "cell_type": "markdown",
      "metadata": {
        "id": "cSx9cAkpZNu_"
      },
      "source": [
        "# Carga del data set (Credit_score_train)"
      ]
    },
    {
      "cell_type": "code",
      "execution_count": null,
      "metadata": {
        "colab": {
          "base_uri": "https://localhost:8080/"
        },
        "id": "5m0RqiS8iBLT",
        "outputId": "2facaa20-3b81-43f7-fa48-1c51618599c9"
      },
      "outputs": [
        {
          "output_type": "stream",
          "name": "stderr",
          "text": [
            "/usr/local/lib/python3.7/dist-packages/IPython/core/interactiveshell.py:3326: DtypeWarning: Columns (26) have mixed types.Specify dtype option on import or set low_memory=False.\n",
            "  exec(code_obj, self.user_global_ns, self.user_ns)\n"
          ]
        }
      ],
      "source": [
        "# A traves de pd.read_csv() podremos cargar el archivo.\n",
        "url = 'https://raw.githubusercontent.com/rnhidalgo/CoderHouse_DataScience/main/Credit_score_train.csv'\n",
        "df_full = pd.read_csv(url)\n",
        "#df_full = pd.read_csv('Credit_score_train.csv')"
      ]
    },
    {
      "cell_type": "markdown",
      "metadata": {
        "id": "VyLpiDbQ62sY"
      },
      "source": [
        "### Análisis rápido de la carga\n",
        "\n"
      ]
    },
    {
      "cell_type": "code",
      "execution_count": null,
      "metadata": {
        "colab": {
          "base_uri": "https://localhost:8080/"
        },
        "id": "GWO7SH9f6Pt1",
        "outputId": "fe4240dd-1bcb-4169-eabd-1f464674b5d0"
      },
      "outputs": [
        {
          "output_type": "stream",
          "name": "stdout",
          "text": [
            "largo del df:  100000\n"
          ]
        }
      ],
      "source": [
        "# primero vemos cuantos registros tiene el set de datos.\n",
        "print('largo del df: ',len(df_full))"
      ]
    },
    {
      "cell_type": "code",
      "execution_count": null,
      "metadata": {
        "colab": {
          "base_uri": "https://localhost:8080/"
        },
        "id": "DdRUXTVxC3HI",
        "outputId": "32da5951-4729-49b5-9db3-9b219ea192b2"
      },
      "outputs": [
        {
          "output_type": "execute_result",
          "data": {
            "text/plain": [
              "Index(['ID', 'Customer_ID', 'Month', 'Name', 'Age', 'SSN', 'Occupation',\n",
              "       'Annual_Income', 'Monthly_Inhand_Salary', 'Num_Bank_Accounts',\n",
              "       'Num_Credit_Card', 'Interest_Rate', 'Num_of_Loan', 'Type_of_Loan',\n",
              "       'Delay_from_due_date', 'Num_of_Delayed_Payment', 'Changed_Credit_Limit',\n",
              "       'Num_Credit_Inquiries', 'Credit_Mix', 'Outstanding_Debt',\n",
              "       'Credit_Utilization_Ratio', 'Credit_History_Age',\n",
              "       'Payment_of_Min_Amount', 'Total_EMI_per_month',\n",
              "       'Amount_invested_monthly', 'Payment_Behaviour', 'Monthly_Balance',\n",
              "       'Credit_Score'],\n",
              "      dtype='object')"
            ]
          },
          "metadata": {},
          "execution_count": 5
        }
      ],
      "source": [
        "#miramos la columnas\n",
        "df_full.columns"
      ]
    },
    {
      "cell_type": "code",
      "execution_count": null,
      "metadata": {
        "colab": {
          "base_uri": "https://localhost:8080/"
        },
        "id": "uJ43-PsI3v-v",
        "outputId": "6426cf1d-b431-4f29-af47-804d825c8799"
      },
      "outputs": [
        {
          "output_type": "stream",
          "name": "stdout",
          "text": [
            "<class 'pandas.core.frame.DataFrame'>\n",
            "RangeIndex: 100000 entries, 0 to 99999\n",
            "Data columns (total 28 columns):\n",
            " #   Column                    Non-Null Count   Dtype  \n",
            "---  ------                    --------------   -----  \n",
            " 0   ID                        100000 non-null  object \n",
            " 1   Customer_ID               100000 non-null  object \n",
            " 2   Month                     100000 non-null  object \n",
            " 3   Name                      90015 non-null   object \n",
            " 4   Age                       100000 non-null  object \n",
            " 5   SSN                       100000 non-null  object \n",
            " 6   Occupation                100000 non-null  object \n",
            " 7   Annual_Income             100000 non-null  object \n",
            " 8   Monthly_Inhand_Salary     84998 non-null   float64\n",
            " 9   Num_Bank_Accounts         100000 non-null  int64  \n",
            " 10  Num_Credit_Card           100000 non-null  int64  \n",
            " 11  Interest_Rate             100000 non-null  int64  \n",
            " 12  Num_of_Loan               100000 non-null  object \n",
            " 13  Type_of_Loan              88592 non-null   object \n",
            " 14  Delay_from_due_date       100000 non-null  int64  \n",
            " 15  Num_of_Delayed_Payment    92998 non-null   object \n",
            " 16  Changed_Credit_Limit      100000 non-null  object \n",
            " 17  Num_Credit_Inquiries      98035 non-null   float64\n",
            " 18  Credit_Mix                100000 non-null  object \n",
            " 19  Outstanding_Debt          100000 non-null  object \n",
            " 20  Credit_Utilization_Ratio  100000 non-null  float64\n",
            " 21  Credit_History_Age        90970 non-null   object \n",
            " 22  Payment_of_Min_Amount     100000 non-null  object \n",
            " 23  Total_EMI_per_month       100000 non-null  float64\n",
            " 24  Amount_invested_monthly   95521 non-null   object \n",
            " 25  Payment_Behaviour         100000 non-null  object \n",
            " 26  Monthly_Balance           98800 non-null   object \n",
            " 27  Credit_Score              100000 non-null  object \n",
            "dtypes: float64(4), int64(4), object(20)\n",
            "memory usage: 21.4+ MB\n"
          ]
        }
      ],
      "source": [
        "#Primero hacemos un DataFrame.Info() para entender la cantidad de variables, la cantidad de datos y el tipo de dats de cada una.\n",
        "df_full.info()"
      ]
    },
    {
      "cell_type": "code",
      "execution_count": null,
      "metadata": {
        "colab": {
          "base_uri": "https://localhost:8080/",
          "height": 473
        },
        "id": "-UNCUTZTjfth",
        "outputId": "f024b046-fbfd-45d3-d770-70527b69229a"
      },
      "outputs": [
        {
          "output_type": "execute_result",
          "data": {
            "text/plain": [
              "       ID Customer_ID     Month           Name   Age          SSN Occupation  \\\n",
              "0  0x1602   CUS_0xd40   January  Aaron Maashoh    23  821-00-0265  Scientist   \n",
              "1  0x1603   CUS_0xd40  February  Aaron Maashoh    23  821-00-0265  Scientist   \n",
              "2  0x1604   CUS_0xd40     March  Aaron Maashoh  -500  821-00-0265  Scientist   \n",
              "3  0x1605   CUS_0xd40     April  Aaron Maashoh    23  821-00-0265  Scientist   \n",
              "4  0x1606   CUS_0xd40       May  Aaron Maashoh    23  821-00-0265  Scientist   \n",
              "\n",
              "  Annual_Income  Monthly_Inhand_Salary  Num_Bank_Accounts  ...  Credit_Mix  \\\n",
              "0      19114.12            1824.843333                  3  ...           _   \n",
              "1      19114.12                    NaN                  3  ...        Good   \n",
              "2      19114.12                    NaN                  3  ...        Good   \n",
              "3      19114.12                    NaN                  3  ...        Good   \n",
              "4      19114.12            1824.843333                  3  ...        Good   \n",
              "\n",
              "   Outstanding_Debt Credit_Utilization_Ratio     Credit_History_Age  \\\n",
              "0            809.98                26.822620  22 Years and 1 Months   \n",
              "1            809.98                31.944960                    NaN   \n",
              "2            809.98                28.609352  22 Years and 3 Months   \n",
              "3            809.98                31.377862  22 Years and 4 Months   \n",
              "4            809.98                24.797347  22 Years and 5 Months   \n",
              "\n",
              "   Payment_of_Min_Amount Total_EMI_per_month Amount_invested_monthly  \\\n",
              "0                     No           49.574949       80.41529543900253   \n",
              "1                     No           49.574949      118.28022162236736   \n",
              "2                     No           49.574949         81.699521264648   \n",
              "3                     No           49.574949       199.4580743910713   \n",
              "4                     No           49.574949      41.420153086217326   \n",
              "\n",
              "                  Payment_Behaviour     Monthly_Balance Credit_Score  \n",
              "0   High_spent_Small_value_payments  312.49408867943663         Good  \n",
              "1    Low_spent_Large_value_payments  284.62916249607184         Good  \n",
              "2   Low_spent_Medium_value_payments   331.2098628537912         Good  \n",
              "3    Low_spent_Small_value_payments  223.45130972736786         Good  \n",
              "4  High_spent_Medium_value_payments  341.48923103222177         Good  \n",
              "\n",
              "[5 rows x 28 columns]"
            ],
            "text/html": [
              "\n",
              "  <div id=\"df-4c24b522-c672-418c-bf3a-e6fcff00d1d3\">\n",
              "    <div class=\"colab-df-container\">\n",
              "      <div>\n",
              "<style scoped>\n",
              "    .dataframe tbody tr th:only-of-type {\n",
              "        vertical-align: middle;\n",
              "    }\n",
              "\n",
              "    .dataframe tbody tr th {\n",
              "        vertical-align: top;\n",
              "    }\n",
              "\n",
              "    .dataframe thead th {\n",
              "        text-align: right;\n",
              "    }\n",
              "</style>\n",
              "<table border=\"1\" class=\"dataframe\">\n",
              "  <thead>\n",
              "    <tr style=\"text-align: right;\">\n",
              "      <th></th>\n",
              "      <th>ID</th>\n",
              "      <th>Customer_ID</th>\n",
              "      <th>Month</th>\n",
              "      <th>Name</th>\n",
              "      <th>Age</th>\n",
              "      <th>SSN</th>\n",
              "      <th>Occupation</th>\n",
              "      <th>Annual_Income</th>\n",
              "      <th>Monthly_Inhand_Salary</th>\n",
              "      <th>Num_Bank_Accounts</th>\n",
              "      <th>...</th>\n",
              "      <th>Credit_Mix</th>\n",
              "      <th>Outstanding_Debt</th>\n",
              "      <th>Credit_Utilization_Ratio</th>\n",
              "      <th>Credit_History_Age</th>\n",
              "      <th>Payment_of_Min_Amount</th>\n",
              "      <th>Total_EMI_per_month</th>\n",
              "      <th>Amount_invested_monthly</th>\n",
              "      <th>Payment_Behaviour</th>\n",
              "      <th>Monthly_Balance</th>\n",
              "      <th>Credit_Score</th>\n",
              "    </tr>\n",
              "  </thead>\n",
              "  <tbody>\n",
              "    <tr>\n",
              "      <th>0</th>\n",
              "      <td>0x1602</td>\n",
              "      <td>CUS_0xd40</td>\n",
              "      <td>January</td>\n",
              "      <td>Aaron Maashoh</td>\n",
              "      <td>23</td>\n",
              "      <td>821-00-0265</td>\n",
              "      <td>Scientist</td>\n",
              "      <td>19114.12</td>\n",
              "      <td>1824.843333</td>\n",
              "      <td>3</td>\n",
              "      <td>...</td>\n",
              "      <td>_</td>\n",
              "      <td>809.98</td>\n",
              "      <td>26.822620</td>\n",
              "      <td>22 Years and 1 Months</td>\n",
              "      <td>No</td>\n",
              "      <td>49.574949</td>\n",
              "      <td>80.41529543900253</td>\n",
              "      <td>High_spent_Small_value_payments</td>\n",
              "      <td>312.49408867943663</td>\n",
              "      <td>Good</td>\n",
              "    </tr>\n",
              "    <tr>\n",
              "      <th>1</th>\n",
              "      <td>0x1603</td>\n",
              "      <td>CUS_0xd40</td>\n",
              "      <td>February</td>\n",
              "      <td>Aaron Maashoh</td>\n",
              "      <td>23</td>\n",
              "      <td>821-00-0265</td>\n",
              "      <td>Scientist</td>\n",
              "      <td>19114.12</td>\n",
              "      <td>NaN</td>\n",
              "      <td>3</td>\n",
              "      <td>...</td>\n",
              "      <td>Good</td>\n",
              "      <td>809.98</td>\n",
              "      <td>31.944960</td>\n",
              "      <td>NaN</td>\n",
              "      <td>No</td>\n",
              "      <td>49.574949</td>\n",
              "      <td>118.28022162236736</td>\n",
              "      <td>Low_spent_Large_value_payments</td>\n",
              "      <td>284.62916249607184</td>\n",
              "      <td>Good</td>\n",
              "    </tr>\n",
              "    <tr>\n",
              "      <th>2</th>\n",
              "      <td>0x1604</td>\n",
              "      <td>CUS_0xd40</td>\n",
              "      <td>March</td>\n",
              "      <td>Aaron Maashoh</td>\n",
              "      <td>-500</td>\n",
              "      <td>821-00-0265</td>\n",
              "      <td>Scientist</td>\n",
              "      <td>19114.12</td>\n",
              "      <td>NaN</td>\n",
              "      <td>3</td>\n",
              "      <td>...</td>\n",
              "      <td>Good</td>\n",
              "      <td>809.98</td>\n",
              "      <td>28.609352</td>\n",
              "      <td>22 Years and 3 Months</td>\n",
              "      <td>No</td>\n",
              "      <td>49.574949</td>\n",
              "      <td>81.699521264648</td>\n",
              "      <td>Low_spent_Medium_value_payments</td>\n",
              "      <td>331.2098628537912</td>\n",
              "      <td>Good</td>\n",
              "    </tr>\n",
              "    <tr>\n",
              "      <th>3</th>\n",
              "      <td>0x1605</td>\n",
              "      <td>CUS_0xd40</td>\n",
              "      <td>April</td>\n",
              "      <td>Aaron Maashoh</td>\n",
              "      <td>23</td>\n",
              "      <td>821-00-0265</td>\n",
              "      <td>Scientist</td>\n",
              "      <td>19114.12</td>\n",
              "      <td>NaN</td>\n",
              "      <td>3</td>\n",
              "      <td>...</td>\n",
              "      <td>Good</td>\n",
              "      <td>809.98</td>\n",
              "      <td>31.377862</td>\n",
              "      <td>22 Years and 4 Months</td>\n",
              "      <td>No</td>\n",
              "      <td>49.574949</td>\n",
              "      <td>199.4580743910713</td>\n",
              "      <td>Low_spent_Small_value_payments</td>\n",
              "      <td>223.45130972736786</td>\n",
              "      <td>Good</td>\n",
              "    </tr>\n",
              "    <tr>\n",
              "      <th>4</th>\n",
              "      <td>0x1606</td>\n",
              "      <td>CUS_0xd40</td>\n",
              "      <td>May</td>\n",
              "      <td>Aaron Maashoh</td>\n",
              "      <td>23</td>\n",
              "      <td>821-00-0265</td>\n",
              "      <td>Scientist</td>\n",
              "      <td>19114.12</td>\n",
              "      <td>1824.843333</td>\n",
              "      <td>3</td>\n",
              "      <td>...</td>\n",
              "      <td>Good</td>\n",
              "      <td>809.98</td>\n",
              "      <td>24.797347</td>\n",
              "      <td>22 Years and 5 Months</td>\n",
              "      <td>No</td>\n",
              "      <td>49.574949</td>\n",
              "      <td>41.420153086217326</td>\n",
              "      <td>High_spent_Medium_value_payments</td>\n",
              "      <td>341.48923103222177</td>\n",
              "      <td>Good</td>\n",
              "    </tr>\n",
              "  </tbody>\n",
              "</table>\n",
              "<p>5 rows × 28 columns</p>\n",
              "</div>\n",
              "      <button class=\"colab-df-convert\" onclick=\"convertToInteractive('df-4c24b522-c672-418c-bf3a-e6fcff00d1d3')\"\n",
              "              title=\"Convert this dataframe to an interactive table.\"\n",
              "              style=\"display:none;\">\n",
              "        \n",
              "  <svg xmlns=\"http://www.w3.org/2000/svg\" height=\"24px\"viewBox=\"0 0 24 24\"\n",
              "       width=\"24px\">\n",
              "    <path d=\"M0 0h24v24H0V0z\" fill=\"none\"/>\n",
              "    <path d=\"M18.56 5.44l.94 2.06.94-2.06 2.06-.94-2.06-.94-.94-2.06-.94 2.06-2.06.94zm-11 1L8.5 8.5l.94-2.06 2.06-.94-2.06-.94L8.5 2.5l-.94 2.06-2.06.94zm10 10l.94 2.06.94-2.06 2.06-.94-2.06-.94-.94-2.06-.94 2.06-2.06.94z\"/><path d=\"M17.41 7.96l-1.37-1.37c-.4-.4-.92-.59-1.43-.59-.52 0-1.04.2-1.43.59L10.3 9.45l-7.72 7.72c-.78.78-.78 2.05 0 2.83L4 21.41c.39.39.9.59 1.41.59.51 0 1.02-.2 1.41-.59l7.78-7.78 2.81-2.81c.8-.78.8-2.07 0-2.86zM5.41 20L4 18.59l7.72-7.72 1.47 1.35L5.41 20z\"/>\n",
              "  </svg>\n",
              "      </button>\n",
              "      \n",
              "  <style>\n",
              "    .colab-df-container {\n",
              "      display:flex;\n",
              "      flex-wrap:wrap;\n",
              "      gap: 12px;\n",
              "    }\n",
              "\n",
              "    .colab-df-convert {\n",
              "      background-color: #E8F0FE;\n",
              "      border: none;\n",
              "      border-radius: 50%;\n",
              "      cursor: pointer;\n",
              "      display: none;\n",
              "      fill: #1967D2;\n",
              "      height: 32px;\n",
              "      padding: 0 0 0 0;\n",
              "      width: 32px;\n",
              "    }\n",
              "\n",
              "    .colab-df-convert:hover {\n",
              "      background-color: #E2EBFA;\n",
              "      box-shadow: 0px 1px 2px rgba(60, 64, 67, 0.3), 0px 1px 3px 1px rgba(60, 64, 67, 0.15);\n",
              "      fill: #174EA6;\n",
              "    }\n",
              "\n",
              "    [theme=dark] .colab-df-convert {\n",
              "      background-color: #3B4455;\n",
              "      fill: #D2E3FC;\n",
              "    }\n",
              "\n",
              "    [theme=dark] .colab-df-convert:hover {\n",
              "      background-color: #434B5C;\n",
              "      box-shadow: 0px 1px 3px 1px rgba(0, 0, 0, 0.15);\n",
              "      filter: drop-shadow(0px 1px 2px rgba(0, 0, 0, 0.3));\n",
              "      fill: #FFFFFF;\n",
              "    }\n",
              "  </style>\n",
              "\n",
              "      <script>\n",
              "        const buttonEl =\n",
              "          document.querySelector('#df-4c24b522-c672-418c-bf3a-e6fcff00d1d3 button.colab-df-convert');\n",
              "        buttonEl.style.display =\n",
              "          google.colab.kernel.accessAllowed ? 'block' : 'none';\n",
              "\n",
              "        async function convertToInteractive(key) {\n",
              "          const element = document.querySelector('#df-4c24b522-c672-418c-bf3a-e6fcff00d1d3');\n",
              "          const dataTable =\n",
              "            await google.colab.kernel.invokeFunction('convertToInteractive',\n",
              "                                                     [key], {});\n",
              "          if (!dataTable) return;\n",
              "\n",
              "          const docLinkHtml = 'Like what you see? Visit the ' +\n",
              "            '<a target=\"_blank\" href=https://colab.research.google.com/notebooks/data_table.ipynb>data table notebook</a>'\n",
              "            + ' to learn more about interactive tables.';\n",
              "          element.innerHTML = '';\n",
              "          dataTable['output_type'] = 'display_data';\n",
              "          await google.colab.output.renderOutput(dataTable, element);\n",
              "          const docLink = document.createElement('div');\n",
              "          docLink.innerHTML = docLinkHtml;\n",
              "          element.appendChild(docLink);\n",
              "        }\n",
              "      </script>\n",
              "    </div>\n",
              "  </div>\n",
              "  "
            ]
          },
          "metadata": {},
          "execution_count": 7
        }
      ],
      "source": [
        "# Podemos ver un poco el set\n",
        "df_full.head(5)"
      ]
    },
    {
      "cell_type": "code",
      "execution_count": null,
      "metadata": {
        "colab": {
          "base_uri": "https://localhost:8080/",
          "height": 300
        },
        "id": "HHFo6IwMjxnn",
        "outputId": "8b078bb7-ca47-4443-fee2-7621cdfbe49d"
      },
      "outputs": [
        {
          "output_type": "execute_result",
          "data": {
            "text/plain": [
              "                             count     mean      std     min      25%  \\\n",
              "Monthly_Inhand_Salary      84998.0  4194.17  3183.69  303.65  1625.57   \n",
              "Num_Bank_Accounts         100000.0    17.09   117.40   -1.00     3.00   \n",
              "Num_Credit_Card           100000.0    22.47   129.06    0.00     4.00   \n",
              "Interest_Rate             100000.0    72.47   466.42    1.00     8.00   \n",
              "Delay_from_due_date       100000.0    21.07    14.86   -5.00    10.00   \n",
              "Num_Credit_Inquiries       98035.0    27.75   193.18    0.00     3.00   \n",
              "Credit_Utilization_Ratio  100000.0    32.29     5.12   20.00    28.05   \n",
              "Total_EMI_per_month       100000.0  1403.12  8306.04    0.00    30.31   \n",
              "\n",
              "                              50%      75%       max  \n",
              "Monthly_Inhand_Salary     3093.75  5957.45  15204.63  \n",
              "Num_Bank_Accounts            6.00     7.00   1798.00  \n",
              "Num_Credit_Card              5.00     7.00   1499.00  \n",
              "Interest_Rate               13.00    20.00   5797.00  \n",
              "Delay_from_due_date         18.00    28.00     67.00  \n",
              "Num_Credit_Inquiries         6.00     9.00   2597.00  \n",
              "Credit_Utilization_Ratio    32.31    36.50     50.00  \n",
              "Total_EMI_per_month         69.25   161.22  82331.00  "
            ],
            "text/html": [
              "\n",
              "  <div id=\"df-410481f5-4cfa-486a-a2a1-ac33deb25df7\">\n",
              "    <div class=\"colab-df-container\">\n",
              "      <div>\n",
              "<style scoped>\n",
              "    .dataframe tbody tr th:only-of-type {\n",
              "        vertical-align: middle;\n",
              "    }\n",
              "\n",
              "    .dataframe tbody tr th {\n",
              "        vertical-align: top;\n",
              "    }\n",
              "\n",
              "    .dataframe thead th {\n",
              "        text-align: right;\n",
              "    }\n",
              "</style>\n",
              "<table border=\"1\" class=\"dataframe\">\n",
              "  <thead>\n",
              "    <tr style=\"text-align: right;\">\n",
              "      <th></th>\n",
              "      <th>count</th>\n",
              "      <th>mean</th>\n",
              "      <th>std</th>\n",
              "      <th>min</th>\n",
              "      <th>25%</th>\n",
              "      <th>50%</th>\n",
              "      <th>75%</th>\n",
              "      <th>max</th>\n",
              "    </tr>\n",
              "  </thead>\n",
              "  <tbody>\n",
              "    <tr>\n",
              "      <th>Monthly_Inhand_Salary</th>\n",
              "      <td>84998.0</td>\n",
              "      <td>4194.17</td>\n",
              "      <td>3183.69</td>\n",
              "      <td>303.65</td>\n",
              "      <td>1625.57</td>\n",
              "      <td>3093.75</td>\n",
              "      <td>5957.45</td>\n",
              "      <td>15204.63</td>\n",
              "    </tr>\n",
              "    <tr>\n",
              "      <th>Num_Bank_Accounts</th>\n",
              "      <td>100000.0</td>\n",
              "      <td>17.09</td>\n",
              "      <td>117.40</td>\n",
              "      <td>-1.00</td>\n",
              "      <td>3.00</td>\n",
              "      <td>6.00</td>\n",
              "      <td>7.00</td>\n",
              "      <td>1798.00</td>\n",
              "    </tr>\n",
              "    <tr>\n",
              "      <th>Num_Credit_Card</th>\n",
              "      <td>100000.0</td>\n",
              "      <td>22.47</td>\n",
              "      <td>129.06</td>\n",
              "      <td>0.00</td>\n",
              "      <td>4.00</td>\n",
              "      <td>5.00</td>\n",
              "      <td>7.00</td>\n",
              "      <td>1499.00</td>\n",
              "    </tr>\n",
              "    <tr>\n",
              "      <th>Interest_Rate</th>\n",
              "      <td>100000.0</td>\n",
              "      <td>72.47</td>\n",
              "      <td>466.42</td>\n",
              "      <td>1.00</td>\n",
              "      <td>8.00</td>\n",
              "      <td>13.00</td>\n",
              "      <td>20.00</td>\n",
              "      <td>5797.00</td>\n",
              "    </tr>\n",
              "    <tr>\n",
              "      <th>Delay_from_due_date</th>\n",
              "      <td>100000.0</td>\n",
              "      <td>21.07</td>\n",
              "      <td>14.86</td>\n",
              "      <td>-5.00</td>\n",
              "      <td>10.00</td>\n",
              "      <td>18.00</td>\n",
              "      <td>28.00</td>\n",
              "      <td>67.00</td>\n",
              "    </tr>\n",
              "    <tr>\n",
              "      <th>Num_Credit_Inquiries</th>\n",
              "      <td>98035.0</td>\n",
              "      <td>27.75</td>\n",
              "      <td>193.18</td>\n",
              "      <td>0.00</td>\n",
              "      <td>3.00</td>\n",
              "      <td>6.00</td>\n",
              "      <td>9.00</td>\n",
              "      <td>2597.00</td>\n",
              "    </tr>\n",
              "    <tr>\n",
              "      <th>Credit_Utilization_Ratio</th>\n",
              "      <td>100000.0</td>\n",
              "      <td>32.29</td>\n",
              "      <td>5.12</td>\n",
              "      <td>20.00</td>\n",
              "      <td>28.05</td>\n",
              "      <td>32.31</td>\n",
              "      <td>36.50</td>\n",
              "      <td>50.00</td>\n",
              "    </tr>\n",
              "    <tr>\n",
              "      <th>Total_EMI_per_month</th>\n",
              "      <td>100000.0</td>\n",
              "      <td>1403.12</td>\n",
              "      <td>8306.04</td>\n",
              "      <td>0.00</td>\n",
              "      <td>30.31</td>\n",
              "      <td>69.25</td>\n",
              "      <td>161.22</td>\n",
              "      <td>82331.00</td>\n",
              "    </tr>\n",
              "  </tbody>\n",
              "</table>\n",
              "</div>\n",
              "      <button class=\"colab-df-convert\" onclick=\"convertToInteractive('df-410481f5-4cfa-486a-a2a1-ac33deb25df7')\"\n",
              "              title=\"Convert this dataframe to an interactive table.\"\n",
              "              style=\"display:none;\">\n",
              "        \n",
              "  <svg xmlns=\"http://www.w3.org/2000/svg\" height=\"24px\"viewBox=\"0 0 24 24\"\n",
              "       width=\"24px\">\n",
              "    <path d=\"M0 0h24v24H0V0z\" fill=\"none\"/>\n",
              "    <path d=\"M18.56 5.44l.94 2.06.94-2.06 2.06-.94-2.06-.94-.94-2.06-.94 2.06-2.06.94zm-11 1L8.5 8.5l.94-2.06 2.06-.94-2.06-.94L8.5 2.5l-.94 2.06-2.06.94zm10 10l.94 2.06.94-2.06 2.06-.94-2.06-.94-.94-2.06-.94 2.06-2.06.94z\"/><path d=\"M17.41 7.96l-1.37-1.37c-.4-.4-.92-.59-1.43-.59-.52 0-1.04.2-1.43.59L10.3 9.45l-7.72 7.72c-.78.78-.78 2.05 0 2.83L4 21.41c.39.39.9.59 1.41.59.51 0 1.02-.2 1.41-.59l7.78-7.78 2.81-2.81c.8-.78.8-2.07 0-2.86zM5.41 20L4 18.59l7.72-7.72 1.47 1.35L5.41 20z\"/>\n",
              "  </svg>\n",
              "      </button>\n",
              "      \n",
              "  <style>\n",
              "    .colab-df-container {\n",
              "      display:flex;\n",
              "      flex-wrap:wrap;\n",
              "      gap: 12px;\n",
              "    }\n",
              "\n",
              "    .colab-df-convert {\n",
              "      background-color: #E8F0FE;\n",
              "      border: none;\n",
              "      border-radius: 50%;\n",
              "      cursor: pointer;\n",
              "      display: none;\n",
              "      fill: #1967D2;\n",
              "      height: 32px;\n",
              "      padding: 0 0 0 0;\n",
              "      width: 32px;\n",
              "    }\n",
              "\n",
              "    .colab-df-convert:hover {\n",
              "      background-color: #E2EBFA;\n",
              "      box-shadow: 0px 1px 2px rgba(60, 64, 67, 0.3), 0px 1px 3px 1px rgba(60, 64, 67, 0.15);\n",
              "      fill: #174EA6;\n",
              "    }\n",
              "\n",
              "    [theme=dark] .colab-df-convert {\n",
              "      background-color: #3B4455;\n",
              "      fill: #D2E3FC;\n",
              "    }\n",
              "\n",
              "    [theme=dark] .colab-df-convert:hover {\n",
              "      background-color: #434B5C;\n",
              "      box-shadow: 0px 1px 3px 1px rgba(0, 0, 0, 0.15);\n",
              "      filter: drop-shadow(0px 1px 2px rgba(0, 0, 0, 0.3));\n",
              "      fill: #FFFFFF;\n",
              "    }\n",
              "  </style>\n",
              "\n",
              "      <script>\n",
              "        const buttonEl =\n",
              "          document.querySelector('#df-410481f5-4cfa-486a-a2a1-ac33deb25df7 button.colab-df-convert');\n",
              "        buttonEl.style.display =\n",
              "          google.colab.kernel.accessAllowed ? 'block' : 'none';\n",
              "\n",
              "        async function convertToInteractive(key) {\n",
              "          const element = document.querySelector('#df-410481f5-4cfa-486a-a2a1-ac33deb25df7');\n",
              "          const dataTable =\n",
              "            await google.colab.kernel.invokeFunction('convertToInteractive',\n",
              "                                                     [key], {});\n",
              "          if (!dataTable) return;\n",
              "\n",
              "          const docLinkHtml = 'Like what you see? Visit the ' +\n",
              "            '<a target=\"_blank\" href=https://colab.research.google.com/notebooks/data_table.ipynb>data table notebook</a>'\n",
              "            + ' to learn more about interactive tables.';\n",
              "          element.innerHTML = '';\n",
              "          dataTable['output_type'] = 'display_data';\n",
              "          await google.colab.output.renderOutput(dataTable, element);\n",
              "          const docLink = document.createElement('div');\n",
              "          docLink.innerHTML = docLinkHtml;\n",
              "          element.appendChild(docLink);\n",
              "        }\n",
              "      </script>\n",
              "    </div>\n",
              "  </div>\n",
              "  "
            ]
          },
          "metadata": {},
          "execution_count": 8
        }
      ],
      "source": [
        "df_full.describe().round(2).T"
      ]
    },
    {
      "cell_type": "markdown",
      "metadata": {
        "id": "g2XBPl_5DATI"
      },
      "source": [
        "Aqui nos damos cuenta que hay variables que deberían ser numéricas pero estan como object. de ahi que no aparecen en el describe."
      ]
    },
    {
      "cell_type": "markdown",
      "metadata": {
        "id": "CjJivhR-glfD"
      },
      "source": [
        "## Estudio macro de las variables"
      ]
    },
    {
      "cell_type": "markdown",
      "metadata": {
        "id": "t3yUAnK9DHiK"
      },
      "source": [
        "# Definición de Funciones Globales"
      ]
    },
    {
      "cell_type": "code",
      "execution_count": null,
      "metadata": {
        "id": "gZljztooDH6D"
      },
      "outputs": [],
      "source": [
        "def quitarcaracter(celda):\n",
        "  return celda.replace('_','') "
      ]
    },
    {
      "cell_type": "markdown",
      "metadata": {
        "id": "5Xe7jCtFdLT7"
      },
      "source": [
        "# **<<< Comienza Limpieza y trabajo de variables >>>**"
      ]
    },
    {
      "cell_type": "markdown",
      "metadata": {
        "id": "g602eYn86pa3"
      },
      "source": [
        "Ahora, vamos a agregar algúnas líneas de código para entender un poco mejor los datos. Mediante un iterador del tipo 'for', chequaremos las cantidades, tipo, nulls y valores únicos de cada variable. Nos dejaremos un espacion en la impresión para poder hacer un copy+paste del resultado del código y poder hacer anotaciones preliminares del set previos al EDA.\n",
        "\n",
        "\n",
        "```\n",
        "# Despues de hacer varias veces esto para un par de variables, y cansados de cambiar datos hicimos esta genialidad:\n",
        "columnas=df_full.columns\n",
        "columnas=df_full.columns\n",
        "for col in columnas:\n",
        "  print('**********************************************************************************************************')\n",
        "  print('* Variable:',col,\n",
        "        '.\\n  * ->Tipo de datos: ',df_full[col].dtype, \n",
        "        ' . -> valores totales: ',df_full[col].count(),\n",
        "        '. -> No nulos: ',df_full[col][df_full[col].notna()==True].count(),\n",
        "        '. -> % nulos: ',(df_full[col].count()-df_full[col][df_full[col].notna()==True].count())/df_full[col].count(),\n",
        "        '. -> Unicos: ',df_full[col].nunique(),'\\n   * Notas Manuales: \\n')\n",
        "  print('-------------------------------------------------------------------------------------------------------------------------')\n",
        "  print('Variable: ',df_full[col].dtype)\n",
        "  print('Unicos: ',df_full[col].nunique(),'\\n')\n",
        "  print('Conteo único: ',df_full[col].value_counts().sort_values(ascending=False),'\\n')\n",
        "  print('\\n Estadistica descriptiva:\\n',df_full[col].value_counts().describe())\n",
        "  print('- END - \\n \\n')\n",
        "```\n",
        "A continuación podemos ver su salida 😀\n"
      ]
    },
    {
      "cell_type": "markdown",
      "metadata": {
        "id": "APTbi8HT1TkE"
      },
      "source": [
        "### Probando el código "
      ]
    },
    {
      "cell_type": "markdown",
      "metadata": {
        "id": "1dcCtuPjg5cB"
      },
      "source": [
        "A continuación haremos un código que nos permita recorrer las columnas de una manera adicional al describe y al .info"
      ]
    },
    {
      "cell_type": "code",
      "execution_count": null,
      "metadata": {
        "colab": {
          "base_uri": "https://localhost:8080/"
        },
        "id": "luMq9FKn1kXK",
        "outputId": "45438f6f-4c52-4893-d8a4-54a115c1990d"
      },
      "outputs": [
        {
          "output_type": "stream",
          "name": "stdout",
          "text": [
            "**********************************************************************************************************\n",
            "* Variable: ID .\n",
            "  * ->Tipo de datos:  object  . -> valores totales:  100000 . -> No nulos:  100000 . -> % nulos:  0.0 . -> Unicos:  100000 \n",
            "   * Notas Manuales: \n",
            "\n",
            "-------------------------------------------------------------------------------------------------------------------------\n",
            "Variable:  object\n",
            "Unicos:  100000 \n",
            "\n",
            "Conteo único:  0x1602     1\n",
            "0x1672     1\n",
            "0x1607     1\n",
            "0x1608     1\n",
            "0x1609     1\n",
            "          ..\n",
            "0x25feb    1\n",
            "0x25fec    1\n",
            "0x25fdf    1\n",
            "0x25fcf    1\n",
            "0x25fed    1\n",
            "Name: ID, Length: 100000, dtype: int64 \n",
            "\n",
            "\n",
            " Estadistica descriptiva:\n",
            " count    100000.0\n",
            "mean          1.0\n",
            "std           0.0\n",
            "min           1.0\n",
            "25%           1.0\n",
            "50%           1.0\n",
            "75%           1.0\n",
            "max           1.0\n",
            "Name: ID, dtype: float64\n",
            "- END - \n",
            " \n",
            "\n",
            "**********************************************************************************************************\n",
            "* Variable: Customer_ID .\n",
            "  * ->Tipo de datos:  object  . -> valores totales:  100000 . -> No nulos:  100000 . -> % nulos:  0.0 . -> Unicos:  12500 \n",
            "   * Notas Manuales: \n",
            "\n",
            "-------------------------------------------------------------------------------------------------------------------------\n",
            "Variable:  object\n",
            "Unicos:  12500 \n",
            "\n",
            "Conteo único:  CUS_0xd40     8\n",
            "CUS_0x75c6    8\n",
            "CUS_0x5b48    8\n",
            "CUS_0xc0ab    8\n",
            "CUS_0x2dbc    8\n",
            "             ..\n",
            "CUS_0xb11c    8\n",
            "CUS_0xad4f    8\n",
            "CUS_0x51b3    8\n",
            "CUS_0x2084    8\n",
            "CUS_0x942c    8\n",
            "Name: Customer_ID, Length: 12500, dtype: int64 \n",
            "\n",
            "\n",
            " Estadistica descriptiva:\n",
            " count    12500.0\n",
            "mean         8.0\n",
            "std          0.0\n",
            "min          8.0\n",
            "25%          8.0\n",
            "50%          8.0\n",
            "75%          8.0\n",
            "max          8.0\n",
            "Name: Customer_ID, dtype: float64\n",
            "- END - \n",
            " \n",
            "\n",
            "**********************************************************************************************************\n",
            "* Variable: Month .\n",
            "  * ->Tipo de datos:  object  . -> valores totales:  100000 . -> No nulos:  100000 . -> % nulos:  0.0 . -> Unicos:  8 \n",
            "   * Notas Manuales: \n",
            "\n",
            "-------------------------------------------------------------------------------------------------------------------------\n",
            "Variable:  object\n",
            "Unicos:  8 \n",
            "\n",
            "Conteo único:  January     12500\n",
            "February    12500\n",
            "March       12500\n",
            "April       12500\n",
            "May         12500\n",
            "June        12500\n",
            "July        12500\n",
            "August      12500\n",
            "Name: Month, dtype: int64 \n",
            "\n",
            "\n",
            " Estadistica descriptiva:\n",
            " count        8.0\n",
            "mean     12500.0\n",
            "std          0.0\n",
            "min      12500.0\n",
            "25%      12500.0\n",
            "50%      12500.0\n",
            "75%      12500.0\n",
            "max      12500.0\n",
            "Name: Month, dtype: float64\n",
            "- END - \n",
            " \n",
            "\n",
            "**********************************************************************************************************\n",
            "* Variable: Name .\n",
            "  * ->Tipo de datos:  object  . -> valores totales:  90015 . -> No nulos:  90015 . -> % nulos:  0.0 . -> Unicos:  10139 \n",
            "   * Notas Manuales: \n",
            "\n",
            "-------------------------------------------------------------------------------------------------------------------------\n",
            "Variable:  object\n",
            "Unicos:  10139 \n",
            "\n",
            "Conteo único:  Langep                44\n",
            "Stevex                44\n",
            "Vaughanl              39\n",
            "Jessicad              39\n",
            "Raymondr              38\n",
            "                      ..\n",
            "Doris Frankely         4\n",
            "Vinocurw               4\n",
            "Josephine Masonz       4\n",
            "Olesya Dmitracovaq     4\n",
            "Timothyl               3\n",
            "Name: Name, Length: 10139, dtype: int64 \n",
            "\n",
            "\n",
            " Estadistica descriptiva:\n",
            " count    10139.000000\n",
            "mean         8.878094\n",
            "std          4.129958\n",
            "min          3.000000\n",
            "25%          7.000000\n",
            "50%          8.000000\n",
            "75%          8.000000\n",
            "max         44.000000\n",
            "Name: Name, dtype: float64\n",
            "- END - \n",
            " \n",
            "\n",
            "**********************************************************************************************************\n",
            "* Variable: Age .\n",
            "  * ->Tipo de datos:  object  . -> valores totales:  100000 . -> No nulos:  100000 . -> % nulos:  0.0 . -> Unicos:  1788 \n",
            "   * Notas Manuales: \n",
            "\n",
            "-------------------------------------------------------------------------------------------------------------------------\n",
            "Variable:  object\n",
            "Unicos:  1788 \n",
            "\n",
            "Conteo único:  38       2833\n",
            "28       2829\n",
            "31       2806\n",
            "26       2792\n",
            "32       2749\n",
            "         ... \n",
            "8490        1\n",
            "5798_       1\n",
            "2406        1\n",
            "8315        1\n",
            "1342        1\n",
            "Name: Age, Length: 1788, dtype: int64 \n",
            "\n",
            "\n",
            " Estadistica descriptiva:\n",
            " count    1788.000000\n",
            "mean       55.928412\n",
            "std       346.505690\n",
            "min         1.000000\n",
            "25%         1.000000\n",
            "50%         1.000000\n",
            "75%         1.000000\n",
            "max      2833.000000\n",
            "Name: Age, dtype: float64\n",
            "- END - \n",
            " \n",
            "\n",
            "**********************************************************************************************************\n",
            "* Variable: SSN .\n",
            "  * ->Tipo de datos:  object  . -> valores totales:  100000 . -> No nulos:  100000 . -> % nulos:  0.0 . -> Unicos:  12501 \n",
            "   * Notas Manuales: \n",
            "\n",
            "-------------------------------------------------------------------------------------------------------------------------\n",
            "Variable:  object\n",
            "Unicos:  12501 \n",
            "\n",
            "Conteo único:  #F%$D@*&8      5572\n",
            "879-76-2190       8\n",
            "830-21-5902       8\n",
            "905-87-8021       8\n",
            "108-21-3481       8\n",
            "               ... \n",
            "856-06-6147       4\n",
            "753-72-2651       4\n",
            "331-28-1921       4\n",
            "604-62-6133       4\n",
            "286-44-9634       4\n",
            "Name: SSN, Length: 12501, dtype: int64 \n",
            "\n",
            "\n",
            " Estadistica descriptiva:\n",
            " count    12501.000000\n",
            "mean         7.999360\n",
            "std         49.772134\n",
            "min          4.000000\n",
            "25%          7.000000\n",
            "50%          8.000000\n",
            "75%          8.000000\n",
            "max       5572.000000\n",
            "Name: SSN, dtype: float64\n",
            "- END - \n",
            " \n",
            "\n",
            "**********************************************************************************************************\n",
            "* Variable: Occupation .\n",
            "  * ->Tipo de datos:  object  . -> valores totales:  100000 . -> No nulos:  100000 . -> % nulos:  0.0 . -> Unicos:  16 \n",
            "   * Notas Manuales: \n",
            "\n",
            "-------------------------------------------------------------------------------------------------------------------------\n",
            "Variable:  object\n",
            "Unicos:  16 \n",
            "\n",
            "Conteo único:  _______          7062\n",
            "Lawyer           6575\n",
            "Architect        6355\n",
            "Engineer         6350\n",
            "Scientist        6299\n",
            "Mechanic         6291\n",
            "Accountant       6271\n",
            "Developer        6235\n",
            "Media_Manager    6232\n",
            "Teacher          6215\n",
            "Entrepreneur     6174\n",
            "Doctor           6087\n",
            "Journalist       6085\n",
            "Manager          5973\n",
            "Musician         5911\n",
            "Writer           5885\n",
            "Name: Occupation, dtype: int64 \n",
            "\n",
            "\n",
            " Estadistica descriptiva:\n",
            " count      16.000000\n",
            "mean     6250.000000\n",
            "std       280.087605\n",
            "min      5885.000000\n",
            "25%      6086.500000\n",
            "50%      6233.500000\n",
            "75%      6311.750000\n",
            "max      7062.000000\n",
            "Name: Occupation, dtype: float64\n",
            "- END - \n",
            " \n",
            "\n",
            "**********************************************************************************************************\n",
            "* Variable: Annual_Income .\n",
            "  * ->Tipo de datos:  object  . -> valores totales:  100000 . -> No nulos:  100000 . -> % nulos:  0.0 . -> Unicos:  18940 \n",
            "   * Notas Manuales: \n",
            "\n",
            "-------------------------------------------------------------------------------------------------------------------------\n",
            "Variable:  object\n",
            "Unicos:  18940 \n",
            "\n",
            "Conteo único:  36585.12      16\n",
            "20867.67      16\n",
            "17273.83      16\n",
            "9141.63       15\n",
            "33029.66      15\n",
            "              ..\n",
            "140357.32_     1\n",
            "9166.465_      1\n",
            "108884.76_     1\n",
            "38856.53_      1\n",
            "4262933.0      1\n",
            "Name: Annual_Income, Length: 18940, dtype: int64 \n",
            "\n",
            "\n",
            " Estadistica descriptiva:\n",
            " count    18940.000000\n",
            "mean         5.279831\n",
            "std          2.997798\n",
            "min          1.000000\n",
            "25%          1.000000\n",
            "50%          7.000000\n",
            "75%          8.000000\n",
            "max         16.000000\n",
            "Name: Annual_Income, dtype: float64\n",
            "- END - \n",
            " \n",
            "\n",
            "**********************************************************************************************************\n",
            "* Variable: Monthly_Inhand_Salary .\n",
            "  * ->Tipo de datos:  float64  . -> valores totales:  84998 . -> No nulos:  84998 . -> % nulos:  0.0 . -> Unicos:  13235 \n",
            "   * Notas Manuales: \n",
            "\n",
            "-------------------------------------------------------------------------------------------------------------------------\n",
            "Variable:  float64\n",
            "Unicos:  13235 \n",
            "\n",
            "Conteo único:  6769.130000    15\n",
            "6082.187500    15\n",
            "6358.956667    15\n",
            "2295.058333    15\n",
            "3080.555000    14\n",
            "               ..\n",
            "6183.897312     1\n",
            "7205.810000     1\n",
            "1364.610833     1\n",
            "7237.397300     1\n",
            "2443.654131     1\n",
            "Name: Monthly_Inhand_Salary, Length: 13235, dtype: int64 \n",
            "\n",
            "\n",
            " Estadistica descriptiva:\n",
            " count    13235.000000\n",
            "mean         6.422214\n",
            "std          1.560058\n",
            "min          1.000000\n",
            "25%          6.000000\n",
            "50%          7.000000\n",
            "75%          7.000000\n",
            "max         15.000000\n",
            "Name: Monthly_Inhand_Salary, dtype: float64\n",
            "- END - \n",
            " \n",
            "\n",
            "**********************************************************************************************************\n",
            "* Variable: Num_Bank_Accounts .\n",
            "  * ->Tipo de datos:  int64  . -> valores totales:  100000 . -> No nulos:  100000 . -> % nulos:  0.0 . -> Unicos:  943 \n",
            "   * Notas Manuales: \n",
            "\n",
            "-------------------------------------------------------------------------------------------------------------------------\n",
            "Variable:  int64\n",
            "Unicos:  943 \n",
            "\n",
            "Conteo único:  6       13001\n",
            "7       12823\n",
            "8       12765\n",
            "4       12186\n",
            "5       12118\n",
            "        ...  \n",
            "242         1\n",
            "1328        1\n",
            "1294        1\n",
            "1309        1\n",
            "697         1\n",
            "Name: Num_Bank_Accounts, Length: 943, dtype: int64 \n",
            "\n",
            "\n",
            " Estadistica descriptiva:\n",
            " count      943.000000\n",
            "mean       106.044539\n",
            "std       1049.981969\n",
            "min          1.000000\n",
            "25%          1.000000\n",
            "50%          1.000000\n",
            "75%          2.000000\n",
            "max      13001.000000\n",
            "Name: Num_Bank_Accounts, dtype: float64\n",
            "- END - \n",
            " \n",
            "\n",
            "**********************************************************************************************************\n",
            "* Variable: Num_Credit_Card .\n",
            "  * ->Tipo de datos:  int64  . -> valores totales:  100000 . -> No nulos:  100000 . -> % nulos:  0.0 . -> Unicos:  1179 \n",
            "   * Notas Manuales: \n",
            "\n",
            "-------------------------------------------------------------------------------------------------------------------------\n",
            "Variable:  int64\n",
            "Unicos:  1179 \n",
            "\n",
            "Conteo único:  5       18459\n",
            "7       16615\n",
            "6       16559\n",
            "4       14030\n",
            "3       13277\n",
            "        ...  \n",
            "966         1\n",
            "931         1\n",
            "1026        1\n",
            "1280        1\n",
            "679         1\n",
            "Name: Num_Credit_Card, Length: 1179, dtype: int64 \n",
            "\n",
            "\n",
            " Estadistica descriptiva:\n",
            " count     1179.000000\n",
            "mean        84.817642\n",
            "std       1064.371717\n",
            "min          1.000000\n",
            "25%          1.000000\n",
            "50%          2.000000\n",
            "75%          2.000000\n",
            "max      18459.000000\n",
            "Name: Num_Credit_Card, dtype: float64\n",
            "- END - \n",
            " \n",
            "\n",
            "**********************************************************************************************************\n",
            "* Variable: Interest_Rate .\n",
            "  * ->Tipo de datos:  int64  . -> valores totales:  100000 . -> No nulos:  100000 . -> % nulos:  0.0 . -> Unicos:  1750 \n",
            "   * Notas Manuales: \n",
            "\n",
            "-------------------------------------------------------------------------------------------------------------------------\n",
            "Variable:  int64\n",
            "Unicos:  1750 \n",
            "\n",
            "Conteo único:  8       5012\n",
            "5       4979\n",
            "6       4721\n",
            "12      4540\n",
            "10      4540\n",
            "        ... \n",
            "1110       1\n",
            "2290       1\n",
            "5733       1\n",
            "1052       1\n",
            "5729       1\n",
            "Name: Interest_Rate, Length: 1750, dtype: int64 \n",
            "\n",
            "\n",
            " Estadistica descriptiva:\n",
            " count    1750.000000\n",
            "mean       57.142857\n",
            "std       435.638336\n",
            "min         1.000000\n",
            "25%         1.000000\n",
            "50%         1.000000\n",
            "75%         1.000000\n",
            "max      5012.000000\n",
            "Name: Interest_Rate, dtype: float64\n",
            "- END - \n",
            " \n",
            "\n",
            "**********************************************************************************************************\n",
            "* Variable: Num_of_Loan .\n",
            "  * ->Tipo de datos:  object  . -> valores totales:  100000 . -> No nulos:  100000 . -> % nulos:  0.0 . -> Unicos:  434 \n",
            "   * Notas Manuales: \n",
            "\n",
            "-------------------------------------------------------------------------------------------------------------------------\n",
            "Variable:  object\n",
            "Unicos:  434 \n",
            "\n",
            "Conteo único:  3      14386\n",
            "2      14250\n",
            "4      14016\n",
            "0      10380\n",
            "1      10083\n",
            "       ...  \n",
            "927        1\n",
            "653        1\n",
            "662        1\n",
            "529        1\n",
            "966        1\n",
            "Name: Num_of_Loan, Length: 434, dtype: int64 \n",
            "\n",
            "\n",
            " Estadistica descriptiva:\n",
            " count      434.000000\n",
            "mean       230.414747\n",
            "std       1506.205220\n",
            "min          1.000000\n",
            "25%          1.000000\n",
            "50%          1.000000\n",
            "75%          1.000000\n",
            "max      14386.000000\n",
            "Name: Num_of_Loan, dtype: float64\n",
            "- END - \n",
            " \n",
            "\n",
            "**********************************************************************************************************\n",
            "* Variable: Type_of_Loan .\n",
            "  * ->Tipo de datos:  object  . -> valores totales:  88592 . -> No nulos:  88592 . -> % nulos:  0.0 . -> Unicos:  6260 \n",
            "   * Notas Manuales: \n",
            "\n",
            "-------------------------------------------------------------------------------------------------------------------------\n",
            "Variable:  object\n",
            "Unicos:  6260 \n",
            "\n",
            "Conteo único:  Not Specified                                                                                                                  1408\n",
            "Credit-Builder Loan                                                                                                            1280\n",
            "Personal Loan                                                                                                                  1272\n",
            "Debt Consolidation Loan                                                                                                        1264\n",
            "Student Loan                                                                                                                   1240\n",
            "                                                                                                                               ... \n",
            "Home Equity Loan, Debt Consolidation Loan, Home Equity Loan, and Auto Loan                                                        8\n",
            "Personal Loan, Home Equity Loan, Payday Loan, Personal Loan, Personal Loan, Home Equity Loan, Payday Loan, and Student Loan       8\n",
            "Student Loan, Credit-Builder Loan, Student Loan, and Debt Consolidation Loan                                                      8\n",
            "Not Specified, Home Equity Loan, Not Specified, Auto Loan, Not Specified, and Payday Loan                                         8\n",
            "Personal Loan, Auto Loan, Mortgage Loan, Student Loan, and Student Loan                                                           8\n",
            "Name: Type_of_Loan, Length: 6260, dtype: int64 \n",
            "\n",
            "\n",
            " Estadistica descriptiva:\n",
            " count    6260.000000\n",
            "mean       14.152077\n",
            "std        51.462483\n",
            "min         8.000000\n",
            "25%         8.000000\n",
            "50%         8.000000\n",
            "75%         8.000000\n",
            "max      1408.000000\n",
            "Name: Type_of_Loan, dtype: float64\n",
            "- END - \n",
            " \n",
            "\n",
            "**********************************************************************************************************\n",
            "* Variable: Delay_from_due_date .\n",
            "  * ->Tipo de datos:  int64  . -> valores totales:  100000 . -> No nulos:  100000 . -> % nulos:  0.0 . -> Unicos:  73 \n",
            "   * Notas Manuales: \n",
            "\n",
            "-------------------------------------------------------------------------------------------------------------------------\n",
            "Variable:  int64\n",
            "Unicos:  73 \n",
            "\n",
            "Conteo único:   15    3596\n",
            " 13    3424\n",
            " 8     3324\n",
            " 14    3313\n",
            " 10    3281\n",
            "       ... \n",
            "-4       62\n",
            " 65      56\n",
            "-5       33\n",
            " 66      32\n",
            " 67      22\n",
            "Name: Delay_from_due_date, Length: 73, dtype: int64 \n",
            "\n",
            "\n",
            " Estadistica descriptiva:\n",
            " count      73.000000\n",
            "mean     1369.863014\n",
            "std      1147.024100\n",
            "min        22.000000\n",
            "25%       536.000000\n",
            "50%       628.000000\n",
            "75%      2489.000000\n",
            "max      3596.000000\n",
            "Name: Delay_from_due_date, dtype: float64\n",
            "- END - \n",
            " \n",
            "\n",
            "**********************************************************************************************************\n",
            "* Variable: Num_of_Delayed_Payment .\n",
            "  * ->Tipo de datos:  object  . -> valores totales:  92998 . -> No nulos:  92998 . -> % nulos:  0.0 . -> Unicos:  749 \n",
            "   * Notas Manuales: \n",
            "\n",
            "-------------------------------------------------------------------------------------------------------------------------\n",
            "Variable:  object\n",
            "Unicos:  749 \n",
            "\n",
            "Conteo único:  19      5327\n",
            "17      5261\n",
            "16      5173\n",
            "10      5153\n",
            "18      5083\n",
            "        ... \n",
            "541        1\n",
            "2875       1\n",
            "4344       1\n",
            "2081       1\n",
            "2047       1\n",
            "Name: Num_of_Delayed_Payment, Length: 749, dtype: int64 \n",
            "\n",
            "\n",
            " Estadistica descriptiva:\n",
            " count     749.000000\n",
            "mean      124.162884\n",
            "std       681.457209\n",
            "min         1.000000\n",
            "25%         1.000000\n",
            "50%         1.000000\n",
            "75%         1.000000\n",
            "max      5327.000000\n",
            "Name: Num_of_Delayed_Payment, dtype: float64\n",
            "- END - \n",
            " \n",
            "\n",
            "**********************************************************************************************************\n",
            "* Variable: Changed_Credit_Limit .\n",
            "  * ->Tipo de datos:  object  . -> valores totales:  100000 . -> No nulos:  100000 . -> % nulos:  0.0 . -> Unicos:  4384 \n",
            "   * Notas Manuales: \n",
            "\n",
            "-------------------------------------------------------------------------------------------------------------------------\n",
            "Variable:  object\n",
            "Unicos:  4384 \n",
            "\n",
            "Conteo único:  _        2091\n",
            "8.22      133\n",
            "11.5      127\n",
            "11.32     126\n",
            "7.35      121\n",
            "         ... \n",
            "31.15       1\n",
            "32.11       1\n",
            "-2.96       1\n",
            "-6.48       1\n",
            "21.17       1\n",
            "Name: Changed_Credit_Limit, Length: 4384, dtype: int64 \n",
            "\n",
            "\n",
            " Estadistica descriptiva:\n",
            " count    4384.000000\n",
            "mean       22.810219\n",
            "std        39.503767\n",
            "min         1.000000\n",
            "25%         3.000000\n",
            "50%        11.000000\n",
            "75%        38.000000\n",
            "max      2091.000000\n",
            "Name: Changed_Credit_Limit, dtype: float64\n",
            "- END - \n",
            " \n",
            "\n",
            "**********************************************************************************************************\n",
            "* Variable: Num_Credit_Inquiries .\n",
            "  * ->Tipo de datos:  float64  . -> valores totales:  98035 . -> No nulos:  98035 . -> % nulos:  0.0 . -> Unicos:  1223 \n",
            "   * Notas Manuales: \n",
            "\n",
            "-------------------------------------------------------------------------------------------------------------------------\n",
            "Variable:  float64\n",
            "Unicos:  1223 \n",
            "\n",
            "Conteo único:  4.0       11271\n",
            "3.0        8890\n",
            "6.0        8111\n",
            "7.0        8058\n",
            "2.0        8028\n",
            "          ...  \n",
            "1001.0        1\n",
            "1261.0        1\n",
            "2151.0        1\n",
            "469.0         1\n",
            "74.0          1\n",
            "Name: Num_Credit_Inquiries, Length: 1223, dtype: int64 \n",
            "\n",
            "\n",
            " Estadistica descriptiva:\n",
            " count     1223.000000\n",
            "mean        80.159444\n",
            "std        755.093602\n",
            "min          1.000000\n",
            "25%          1.000000\n",
            "50%          1.000000\n",
            "75%          2.000000\n",
            "max      11271.000000\n",
            "Name: Num_Credit_Inquiries, dtype: float64\n",
            "- END - \n",
            " \n",
            "\n",
            "**********************************************************************************************************\n",
            "* Variable: Credit_Mix .\n",
            "  * ->Tipo de datos:  object  . -> valores totales:  100000 . -> No nulos:  100000 . -> % nulos:  0.0 . -> Unicos:  4 \n",
            "   * Notas Manuales: \n",
            "\n",
            "-------------------------------------------------------------------------------------------------------------------------\n",
            "Variable:  object\n",
            "Unicos:  4 \n",
            "\n",
            "Conteo único:  Standard    36479\n",
            "Good        24337\n",
            "_           20195\n",
            "Bad         18989\n",
            "Name: Credit_Mix, dtype: int64 \n",
            "\n",
            "\n",
            " Estadistica descriptiva:\n",
            " count        4.000000\n",
            "mean     25000.000000\n",
            "std       7988.056835\n",
            "min      18989.000000\n",
            "25%      19893.500000\n",
            "50%      22266.000000\n",
            "75%      27372.500000\n",
            "max      36479.000000\n",
            "Name: Credit_Mix, dtype: float64\n",
            "- END - \n",
            " \n",
            "\n",
            "**********************************************************************************************************\n",
            "* Variable: Outstanding_Debt .\n",
            "  * ->Tipo de datos:  object  . -> valores totales:  100000 . -> No nulos:  100000 . -> % nulos:  0.0 . -> Unicos:  13178 \n",
            "   * Notas Manuales: \n",
            "\n",
            "-------------------------------------------------------------------------------------------------------------------------\n",
            "Variable:  object\n",
            "Unicos:  13178 \n",
            "\n",
            "Conteo único:  1360.45     24\n",
            "1151.7      23\n",
            "1109.03     23\n",
            "460.46      23\n",
            "1484.51     16\n",
            "            ..\n",
            "64.69_       1\n",
            "2559.02_     1\n",
            "2607.71_     1\n",
            "248.71_      1\n",
            "1013.53_     1\n",
            "Name: Outstanding_Debt, Length: 13178, dtype: int64 \n",
            "\n",
            "\n",
            " Estadistica descriptiva:\n",
            " count    13178.000000\n",
            "mean         7.588405\n",
            "std          2.217400\n",
            "min          1.000000\n",
            "25%          8.000000\n",
            "50%          8.000000\n",
            "75%          8.000000\n",
            "max         24.000000\n",
            "Name: Outstanding_Debt, dtype: float64\n",
            "- END - \n",
            " \n",
            "\n",
            "**********************************************************************************************************\n",
            "* Variable: Credit_Utilization_Ratio .\n",
            "  * ->Tipo de datos:  float64  . -> valores totales:  100000 . -> No nulos:  100000 . -> % nulos:  0.0 . -> Unicos:  100000 \n",
            "   * Notas Manuales: \n",
            "\n",
            "-------------------------------------------------------------------------------------------------------------------------\n",
            "Variable:  float64\n",
            "Unicos:  100000 \n",
            "\n",
            "Conteo único:  26.822620    1\n",
            "25.189232    1\n",
            "27.262259    1\n",
            "22.537593    1\n",
            "23.933795    1\n",
            "            ..\n",
            "41.255522    1\n",
            "33.638208    1\n",
            "33.359987    1\n",
            "32.803431    1\n",
            "34.192463    1\n",
            "Name: Credit_Utilization_Ratio, Length: 100000, dtype: int64 \n",
            "\n",
            "\n",
            " Estadistica descriptiva:\n",
            " count    100000.0\n",
            "mean          1.0\n",
            "std           0.0\n",
            "min           1.0\n",
            "25%           1.0\n",
            "50%           1.0\n",
            "75%           1.0\n",
            "max           1.0\n",
            "Name: Credit_Utilization_Ratio, dtype: float64\n",
            "- END - \n",
            " \n",
            "\n",
            "**********************************************************************************************************\n",
            "* Variable: Credit_History_Age .\n",
            "  * ->Tipo de datos:  object  . -> valores totales:  90970 . -> No nulos:  90970 . -> % nulos:  0.0 . -> Unicos:  404 \n",
            "   * Notas Manuales: \n",
            "\n",
            "-------------------------------------------------------------------------------------------------------------------------\n",
            "Variable:  object\n",
            "Unicos:  404 \n",
            "\n",
            "Conteo único:  15 Years and 11 Months    446\n",
            "19 Years and 4 Months     445\n",
            "19 Years and 5 Months     444\n",
            "17 Years and 11 Months    443\n",
            "19 Years and 3 Months     441\n",
            "                         ... \n",
            "0 Years and 3 Months       20\n",
            "0 Years and 2 Months       15\n",
            "33 Years and 7 Months      14\n",
            "33 Years and 8 Months      12\n",
            "0 Years and 1 Months        2\n",
            "Name: Credit_History_Age, Length: 404, dtype: int64 \n",
            "\n",
            "\n",
            " Estadistica descriptiva:\n",
            " count    404.000000\n",
            "mean     225.173267\n",
            "std       93.662981\n",
            "min        2.000000\n",
            "25%      200.000000\n",
            "50%      230.000000\n",
            "75%      252.000000\n",
            "max      446.000000\n",
            "Name: Credit_History_Age, dtype: float64\n",
            "- END - \n",
            " \n",
            "\n",
            "**********************************************************************************************************\n",
            "* Variable: Payment_of_Min_Amount .\n",
            "  * ->Tipo de datos:  object  . -> valores totales:  100000 . -> No nulos:  100000 . -> % nulos:  0.0 . -> Unicos:  3 \n",
            "   * Notas Manuales: \n",
            "\n",
            "-------------------------------------------------------------------------------------------------------------------------\n",
            "Variable:  object\n",
            "Unicos:  3 \n",
            "\n",
            "Conteo único:  Yes    52326\n",
            "No     35667\n",
            "NM     12007\n",
            "Name: Payment_of_Min_Amount, dtype: int64 \n",
            "\n",
            "\n",
            " Estadistica descriptiva:\n",
            " count        3.000000\n",
            "mean     33333.333333\n",
            "std      20260.551333\n",
            "min      12007.000000\n",
            "25%      23837.000000\n",
            "50%      35667.000000\n",
            "75%      43996.500000\n",
            "max      52326.000000\n",
            "Name: Payment_of_Min_Amount, dtype: float64\n",
            "- END - \n",
            " \n",
            "\n",
            "**********************************************************************************************************\n",
            "* Variable: Total_EMI_per_month .\n",
            "  * ->Tipo de datos:  float64  . -> valores totales:  100000 . -> No nulos:  100000 . -> % nulos:  0.0 . -> Unicos:  14950 \n",
            "   * Notas Manuales: \n",
            "\n",
            "-------------------------------------------------------------------------------------------------------------------------\n",
            "Variable:  float64\n",
            "Unicos:  14950 \n",
            "\n",
            "Conteo único:  0.000000        10613\n",
            "55.703407           8\n",
            "114.993991          8\n",
            "23.253705           8\n",
            "94.482428           8\n",
            "                ...  \n",
            "49970.000000        1\n",
            "3051.000000         1\n",
            "27027.000000        1\n",
            "31546.000000        1\n",
            "58638.000000        1\n",
            "Name: Total_EMI_per_month, Length: 14950, dtype: int64 \n",
            "\n",
            "\n",
            " Estadistica descriptiva:\n",
            " count    14950.000000\n",
            "mean         6.688963\n",
            "std         86.798179\n",
            "min          1.000000\n",
            "25%          3.000000\n",
            "50%          8.000000\n",
            "75%          8.000000\n",
            "max      10613.000000\n",
            "Name: Total_EMI_per_month, dtype: float64\n",
            "- END - \n",
            " \n",
            "\n",
            "**********************************************************************************************************\n",
            "* Variable: Amount_invested_monthly .\n",
            "  * ->Tipo de datos:  object  . -> valores totales:  95521 . -> No nulos:  95521 . -> % nulos:  0.0 . -> Unicos:  91049 \n",
            "   * Notas Manuales: \n",
            "\n",
            "-------------------------------------------------------------------------------------------------------------------------\n",
            "Variable:  object\n",
            "Unicos:  91049 \n",
            "\n",
            "Conteo único:  __10000__             4305\n",
            "0.0                    169\n",
            "38.73937670100975        1\n",
            "84.95284817115969        1\n",
            "178.3440674122349        1\n",
            "                      ... \n",
            "251.67258219721603       1\n",
            "173.2755025599617        1\n",
            "215.48638555294247       1\n",
            "125.95659173463726       1\n",
            "167.1638651610451        1\n",
            "Name: Amount_invested_monthly, Length: 91049, dtype: int64 \n",
            "\n",
            "\n",
            " Estadistica descriptiva:\n",
            " count    91049.000000\n",
            "mean         1.049116\n",
            "std         14.274637\n",
            "min          1.000000\n",
            "25%          1.000000\n",
            "50%          1.000000\n",
            "75%          1.000000\n",
            "max       4305.000000\n",
            "Name: Amount_invested_monthly, dtype: float64\n",
            "- END - \n",
            " \n",
            "\n",
            "**********************************************************************************************************\n",
            "* Variable: Payment_Behaviour .\n",
            "  * ->Tipo de datos:  object  . -> valores totales:  100000 . -> No nulos:  100000 . -> % nulos:  0.0 . -> Unicos:  7 \n",
            "   * Notas Manuales: \n",
            "\n",
            "-------------------------------------------------------------------------------------------------------------------------\n",
            "Variable:  object\n",
            "Unicos:  7 \n",
            "\n",
            "Conteo único:  Low_spent_Small_value_payments      25513\n",
            "High_spent_Medium_value_payments    17540\n",
            "Low_spent_Medium_value_payments     13861\n",
            "High_spent_Large_value_payments     13721\n",
            "High_spent_Small_value_payments     11340\n",
            "Low_spent_Large_value_payments      10425\n",
            "!@9#%8                               7600\n",
            "Name: Payment_Behaviour, dtype: int64 \n",
            "\n",
            "\n",
            " Estadistica descriptiva:\n",
            " count        7.000000\n",
            "mean     14285.714286\n",
            "std       5851.249545\n",
            "min       7600.000000\n",
            "25%      10882.500000\n",
            "50%      13721.000000\n",
            "75%      15700.500000\n",
            "max      25513.000000\n",
            "Name: Payment_Behaviour, dtype: float64\n",
            "- END - \n",
            " \n",
            "\n",
            "**********************************************************************************************************\n",
            "* Variable: Monthly_Balance .\n",
            "  * ->Tipo de datos:  object  . -> valores totales:  98800 . -> No nulos:  98800 . -> % nulos:  0.0 . -> Unicos:  98792 \n",
            "   * Notas Manuales: \n",
            "\n",
            "-------------------------------------------------------------------------------------------------------------------------\n",
            "Variable:  object\n",
            "Unicos:  98792 \n",
            "\n",
            "Conteo único:  __-333333333333333333333333333__    9\n",
            "27.301874884033168                  1\n",
            "341.48923103222177                  1\n",
            "340.4792117872438                   1\n",
            "244.5653167062043                   1\n",
            "                                   ..\n",
            "516.8090832742814                   1\n",
            "319.1649785257098                   1\n",
            "307.65929119739087                  1\n",
            "381.935842392064                    1\n",
            "393.6736955618808                   1\n",
            "Name: Monthly_Balance, Length: 98792, dtype: int64 \n",
            "\n",
            "\n",
            " Estadistica descriptiva:\n",
            " count    98792.000000\n",
            "mean         1.000081\n",
            "std          0.025452\n",
            "min          1.000000\n",
            "25%          1.000000\n",
            "50%          1.000000\n",
            "75%          1.000000\n",
            "max          9.000000\n",
            "Name: Monthly_Balance, dtype: float64\n",
            "- END - \n",
            " \n",
            "\n",
            "**********************************************************************************************************\n",
            "* Variable: Credit_Score .\n",
            "  * ->Tipo de datos:  object  . -> valores totales:  100000 . -> No nulos:  100000 . -> % nulos:  0.0 . -> Unicos:  3 \n",
            "   * Notas Manuales: \n",
            "\n",
            "-------------------------------------------------------------------------------------------------------------------------\n",
            "Variable:  object\n",
            "Unicos:  3 \n",
            "\n",
            "Conteo único:  Standard    53174\n",
            "Poor        28998\n",
            "Good        17828\n",
            "Name: Credit_Score, dtype: int64 \n",
            "\n",
            "\n",
            " Estadistica descriptiva:\n",
            " count        3.000000\n",
            "mean     33333.333333\n",
            "std      18067.408927\n",
            "min      17828.000000\n",
            "25%      23413.000000\n",
            "50%      28998.000000\n",
            "75%      41086.000000\n",
            "max      53174.000000\n",
            "Name: Credit_Score, dtype: float64\n",
            "- END - \n",
            " \n",
            "\n"
          ]
        }
      ],
      "source": [
        "columnas=df_full.columns\n",
        "for col in columnas:\n",
        "  print('**********************************************************************************************************')\n",
        "  print('* Variable:',col,\n",
        "        '.\\n  * ->Tipo de datos: ',df_full[col].dtype, \n",
        "        ' . -> valores totales: ',df_full[col].count(),\n",
        "        '. -> No nulos: ',df_full[col][df_full[col].notna()==True].count(),\n",
        "        '. -> % nulos: ',(df_full[col].count()-df_full[col][df_full[col].notna()==True].count())/df_full[col].count(),\n",
        "        '. -> Unicos: ',df_full[col].nunique(),'\\n   * Notas Manuales: \\n')\n",
        "  print('-------------------------------------------------------------------------------------------------------------------------')\n",
        "  print('Variable: ',df_full[col].dtype)\n",
        "  print('Unicos: ',df_full[col].nunique(),'\\n')\n",
        "  print('Conteo único: ',df_full[col].value_counts().sort_values(ascending=False),'\\n')\n",
        "  print('\\n Estadistica descriptiva:\\n',df_full[col].value_counts().describe())\n",
        "  print('- END - \\n \\n')"
      ]
    },
    {
      "cell_type": "markdown",
      "metadata": {
        "id": "CXb3u4B9-JVS"
      },
      "source": [
        "###  Descripción de las variables y acciones preliminares\n"
      ]
    },
    {
      "cell_type": "markdown",
      "metadata": {
        "id": "aOv8Z5WwhC5M"
      },
      "source": [
        "Ahora hacemos una copia de este texto y con ello aprovecharemoas para describir preliminarmente las variables y el primer curso de acción de la limplieza y trabajo del set."
      ]
    },
    {
      "cell_type": "markdown",
      "metadata": {
        "id": "gkATeLCVzi7n"
      },
      "source": [
        "**********************************************************************************************************\n",
        "* Variable: ID .\n",
        "  * ->Tipo de datos:  object  . -> valores totales:  100000 . -> No nulos:  100000 . -> % nulos:  0.0 . -> Unicos:  100000 \n",
        "   * Notas Manuales: Es el Index del data frame, en esta instancia no aportará mucho al modelo. Descartarla.\n",
        "\n",
        "-------------------------------------------------------------------------------------------------------------------------\n",
        "**********************************************************************************************************\n",
        "* Variable: Customer_ID .\n",
        "  * ->Tipo de datos:  object  . -> valores totales:  100000 . -> No nulos:  100000 . -> % nulos:  0.0 . -> Unicos:  12500 \n",
        "   * Notas Manuales: Es el número de cliente. Cada cliente aparece varias veces, de hecho hasta 8 renglones por cliente y cada renglon es un mes. son 12500 clientes x 8 meses cada uno. De alguna manera este dato nos servirá para sumarizar el gran set.\n",
        "\n",
        "-------------------------------------------------------------------------------------------------------------------------\n",
        "**********************************************************************************************************\n",
        "* Variable: Month .\n",
        "  * ->Tipo de datos:  object  . -> valores totales:  100000 . -> No nulos:  100000 . -> % nulos:  0.0 . -> Unicos:  8 \n",
        "   * Notas Manuales: Como los clientes se repiten varias veces, este dato permite en combinación con el número de cliente, ubicar de manera univoca cada registro. El mes se encuentra expresado en formato texto, podemos pasarlo a numero ordinal para mejor trabajo. Recordemoa que nos permitirá en combinación con el customer id sumarizar la tabla.\n",
        "-------------------------------------------------------------------------------------------------------------------------\n",
        "**********************************************************************************************************\n",
        "* Variable: Name .\n",
        "  * ->Tipo de datos:  object  . -> valores totales:  90015 . -> No nulos:  90015 . -> % nulos:  0.0 . -> Unicos:  10139 \n",
        "   * Notas Manuales: Es el nombre de los clientes. Tiene alcunos missings y posiblemente malas escrituras o errores. Consideramos que no aporta al analisis dado que el verdadero identificador de los clientes sera el Customer id. Descartarla.\n",
        "\n",
        "-------------------------------------------------------------------------------------------------------------------------\n",
        "**********************************************************************************************************\n",
        "* Variable: Age .\n",
        "  * ->Tipo de datos:  object  . -> valores totales:  100000 . -> No nulos:  100000 . -> % nulos:  0.0 . -> Unicos:  1788 \n",
        "   * Notas Manuales: Es la edad del cliente. Si bien esta almacenado como texto, son números. Podemos observar Erroneos como ser el -500. Conviene castearla a número y ver algúna especie de replace para los outlayers. Este replace no debe afectar la capacidad de sumarización posterior. Hay que pasarlo a numero y analizar pues 1788 valores parecería que es mucho para las posibles edades. Se esperann menos 100 edades.\n",
        "\n",
        "-------------------------------------------------------------------------------------------------------------------------\n",
        "**********************************************************************************************************\n",
        "* Variable: SSN .\n",
        "  * ->Tipo de datos:  object  . -> valores totales:  100000 . -> No nulos:  100000 . -> % nulos:  0.0 . -> Unicos:  12501 \n",
        "   * Notas Manuales:  Es el numero de seguridad social, se supone que debrería coincidir en cardinalidad con el número de cliente pero resulta que en este caso hay un valor más. Este es el valor #F%$D@*&8 y aparece en muchos meses. Si bien podemos arreglarla, consideramos que con el número de cliente como identificador ya es suficiente. Descartarla.\n",
        "\n",
        "-------------------------------------------------------------------------------------------------------------------------\n",
        "**********************************************************************************************************\n",
        "* Variable: Occupation .\n",
        "  * ->Tipo de datos:  object  . -> valores totales:  100000 . -> No nulos:  100000 . -> % nulos:  0.0 . -> Unicos:  16 \n",
        "   * Notas Manuales: Es la ocupacion de los clientes. Vemos que hay 16 valores, el formato texto es correcto. Pinta a ser una buena variable. Hay que chequear si para los distintos meses, un cliente tiene distinto trabajo, en ese caso, tomaremos una decisión. La moda o mediana, es un estadístico prometedor.\n",
        "\n",
        "\n",
        "-------------------------------------------------------------------------------------------------------------------------\n",
        "**********************************************************************************************************\n",
        "* Variable: Annual_Income .\n",
        "  * ->Tipo de datos:  float64  . -> valores totales:  100000 . -> No nulos:  100000 . -> % nulos:  0.0 . -> Unicos:  13487 \n",
        "   * Notas Manuales: Es el ingreso anual del cliente. Hay que trabajarlo para que sea un numero sin outlayers. Mismas consideraciones que la variable anterior con la existencia de varios valores.\n",
        "\n",
        "-------------------------------------------------------------------------------------------------------------------------\n",
        "**********************************************************************************************************\n",
        "* Variable: Monthly_Inhand_Salary .\n",
        "  * ->Tipo de datos:  float64  . -> valores totales:  84998 . -> No nulos:  84998 . -> % nulos:  0.0 . -> Unicos:  13235 \n",
        "   * Notas Manuales: Ingreso mensual. Vemos muchos faltantes, claramente es una variable correlacionada a la anterior. Se puede llenar con la anterior en el caso de los faltantes y/o descartarla.\n",
        "\n",
        "-------------------------------------------------------------------------------------------------------------------------\n",
        "**********************************************************************************************************\n",
        "* Variable: Num_Bank_Accounts .\n",
        "  * ->Tipo de datos:  int64  . -> valores totales:  100000 . -> No nulos:  100000 . -> % nulos:  0.0 . -> Unicos:  943 \n",
        "   * Notas Manuales: Ws la cantidad de cuentas que tienen los clientes. Vemos que 943 valores únicos o distintivos parecería mucho. Es conveniente chequear mínimos y máximos probables.\n",
        "\n",
        "-------------------------------------------------------------------------------------------------------------------------\n",
        "**********************************************************************************************************\n",
        "* Variable: Num_Credit_Card .\n",
        "  * ->Tipo de datos:  int64  . -> valores totales:  100000 . -> No nulos:  100000 . -> % nulos:  0.0 . -> Unicos:  1179 \n",
        "   * Notas Manuales: Es la cantidad de tarjetas de crédito que tienen los clientes. Como se encuentra expresada en texto, primero deberíamos pasarla a númerica. Por otro lado, 1179 valores únicos o distintivos parecería mucho tambien (al igual que en la variable anterior).\n",
        "\n",
        "-------------------------------------------------------------------------------------------------------------------------\n",
        "**********************************************************************************************************\n",
        "* Variable: Interest_Rate .\n",
        "  * ->Tipo de datos:  int64  . -> valores totales:  100000 . -> No nulos:  100000 . -> % nulos:  0.0 . -> Unicos:  1750 \n",
        "   * Notas Manuales: Es la tasa de interes de o de los prestamo. Por otro lado luego hay que entender como varían en los distintos meses meses y tomar decisiones de simplificación.\n",
        "\n",
        "-------------------------------------------------------------------------------------------------------------------------\n",
        "**********************************************************************************************************\n",
        "* Variable: Num_of_Loan .\n",
        "  * ->Tipo de datos:  object  . -> valores totales:  100000 . -> No nulos:  100000 . -> % nulos:  0.0 . -> Unicos:  434 \n",
        "   * Notas Manuales: Es el número de prestamos tomados por el cliente. Seguro hay outlayers porque 434 parecerían demasiadas alternativas. Tambien debemos vero como sumarizarla entre distintos meses. \n",
        "\n",
        "-------------------------------------------------------------------------------------------------------------------------\n",
        "**********************************************************************************************************\n",
        "* Variable: Type_of_Loan .\n",
        "  * ->Tipo de datos:  object  . -> valores totales:  88592 . -> No nulos:  88592 . -> % nulos:  0.0 . -> Unicos:  6260 \n",
        "   * Notas Manuales: Al analizar esta variable, vemos que es un texto concatenado de la cantidad de prestamos, nos puede servir para chequear la anterior. Podemos contar la cantidad de comas y sumarle uno.\n",
        "\n",
        "-------------------------------------------------------------------------------------------------------------------------\n",
        "**********************************************************************************************************\n",
        "* Variable: Delay_from_due_date .\n",
        "  * ->Tipo de datos:  int64  . -> valores totales:  100000 . -> No nulos:  100000 . -> % nulos:  0.0 . -> Unicos:  73 \n",
        "   * Notas Manuales: De un análisis rápido se ve que hay valores que seguro son errores de tipeo o improvables.\n",
        "\n",
        "-------------------------------------------------------------------------------------------------------------------------\n",
        "**********************************************************************************************************\n",
        "* Variable: Num_of_Delayed_Payment .\n",
        "  * ->Tipo de datos:  object  . -> valores totales:  92998 . -> No nulos:  92998 . -> % nulos:  0.0 . -> Unicos:  749 \n",
        "   * Notas Manuales: Debería ser un número, hay que castearlo y sacarle los caracteres raros.\n",
        "-------------------------------------------------------------------------------------------------------------------------\n",
        "**********************************************************************************************************\n",
        "* Variable: Changed_Credit_Limit .\n",
        "  * ->Tipo de datos:  object  . -> valores totales:  100000 . -> No nulos:  100000 . -> % nulos:  0.0 . -> Unicos:  4384 \n",
        "   * Notas Manuales: Debería ser un porcentaje que expresa el cambio en % del limite de crédito. Castear y sacar símbolos raros. ojo con los negativos. Por otro lado si no entendemos como se calcula de poco nos va a servir.\n",
        "\n",
        "-------------------------------------------------------------------------------------------------------------------------\n",
        "**********************************************************************************************************\n",
        "* Variable: Num_Credit_Inquiries .\n",
        "  * ->Tipo de datos:  float64  . -> valores totales:  98035 . -> No nulos:  98035 . -> % nulos:  0.0 . -> Unicos:  1223 \n",
        "   * Notas Manuales: Es la cantidad de tarjetas solicitadas. A juzgar por la cantidad de valores únicos parece que hay outlayers o erroneos. Tambien hay que ver los erroneos y como reconstruirlo con casos correctos de otros meses.\n",
        "\n",
        "-------------------------------------------------------------------------------------------------------------------------\n",
        "**********************************************************************************************************\n",
        "* Variable: Credit_Mix .\n",
        "  * ->Tipo de datos:  object  . -> valores totales:  100000 . -> No nulos:  100000 . -> % nulos:  0.0 . -> Unicos:  4 \n",
        "   * Notas Manuales: Es un texto con una clasificación crediticia del tipo de deuda de los clientes. Esta bueno que solo son 4 valores, puee llegar a tener potencial. el 4to valor suena a minninsg o no clasificados.\n",
        "\n",
        "-------------------------------------------------------------------------------------------------------------------------\n",
        "**********************************************************************************************************\n",
        "* Variable: Outstanding_Debt .\n",
        "  * ->Tipo de datos:  object  . -> valores totales:  100000 . -> No nulos:  100000 . -> % nulos:  0.0 . -> Unicos:  13178 \n",
        "   * Notas Manuales: Es el saldo deudor de la deuda. Debería castearse a número.\n",
        "\n",
        "\n",
        "-------------------------------------------------------------------------------------------------------------------------\n",
        "**********************************************************************************************************\n",
        "* Variable: Credit_Utilization_Ratio .\n",
        "  * ->Tipo de datos:  float64  . -> valores totales:  100000 . -> No nulos:  100000 . -> % nulos:  0.0 . -> Unicos:  100000 \n",
        "   * Notas Manuales: Es el % de utilización del crédito de las tarjetas. Debería ser un número, hay que castearlo.\n",
        "\n",
        "-------------------------------------------------------------------------------------------------------------------------\n",
        "**********************************************************************************************************\n",
        "* Variable: Credit_History_Age .\n",
        "  * ->Tipo de datos:  object  . -> valores totales:  90970 . -> No nulos:  90970 . -> % nulos:  0.0 . -> Unicos:  404 \n",
        "   * Notas Manuales: Es un texto que dice la antiguedad de la historia crediticia del cliente. hay que trabajarlo y llevarlo a números pues es un string que combina años y meses.\n",
        "\n",
        "-------------------------------------------------------------------------------------------------------------------------\n",
        "**********************************************************************************************************\n",
        "* Variable: Payment_of_Min_Amount .\n",
        "  * ->Tipo de datos:  object  . -> valores totales:  100000 . -> No nulos:  100000 . -> % nulos:  0.0 . -> Unicos:  3 \n",
        "   * Notas Manuales: Es un texto que dice si el cliente en ese mes pagó o no el mínimo. Tambien hay un % de datos que no son ni \"si\" ni \"no\".\n",
        "\n",
        "-------------------------------------------------------------------------------------------------------------------------\n",
        "**********************************************************************************************************\n",
        "* Variable: Total_EMI_per_month .\n",
        "  * ->Tipo de datos:  float64  . -> valores totales:  100000 . -> No nulos:  100000 . -> % nulos:  0.0 . -> Unicos:  14950 \n",
        "   * Notas Manuales: Una cuota mensual equiparada (EMI) es un monto de pago fijo realizado por un prestatario a un prestamista en una fecha específica cada mes calendario. Se calcula como EMI = Deuda x Plazo demanente x Tasa. Debería ser un número, Primero castear luego analizar\n",
        "\n",
        "-------------------------------------------------------------------------------------------------------------------------\n",
        "**********************************************************************************************************\n",
        "* Variable: Amount_invested_monthly .\n",
        "  * ->Tipo de datos:  object  . -> valores totales:  95521 . -> No nulos:  95521 . -> % nulos:  0.0 . -> Unicos:  91049 \n",
        "   * Notas Manuales: Debería ser un número y representa el saldo en activos de inversión del cliente. Castear y luego analizar.\n",
        "\n",
        "-------------------------------------------------------------------------------------------------------------------------\n",
        "**********************************************************************************************************\n",
        "* Variable: Payment_Behaviour .\n",
        "  * ->Tipo de datos:  object  . -> valores totales:  100000 . -> No nulos:  100000 . -> % nulos:  0.0 . -> Unicos:  7 \n",
        "   * Notas Manuales: Es un texto que clasifica el comportamiento de los gastos del cliente con respecto al comportamiento de los pagos que realiza. Quizas es conveniente partir de alguna manera el dato en dos columnas una de pagos y otra de montos.\n",
        "-------------------------------------------------------------------------------------------------------------------------\n",
        "**********************************************************************************************************\n",
        "* Variable: Monthly_Balance .\n",
        "  * ->Tipo de datos:  object  . -> valores totales:  98800 . -> No nulos:  98800 . -> % nulos:  0.0 . -> Unicos:  98792 \n",
        "   * Notas Manuales: Es el saldo en cuenta (disponibilidades) de los clientes. Deberíamos castearlo a número y analizar la distribución.\n",
        "\n",
        "-------------------------------------------------------------------------------------------------------------------------\n",
        "**********************************************************************************************************\n",
        "* Variable: Credit_Score .\n",
        "  * ->Tipo de datos:  object  . -> valores totales:  100000 . -> No nulos:  100000 . -> % nulos:  0.0 . -> Unicos:  3 \n",
        "   * Notas Manuales: Esta es nuestra variable testigo, flag o \"Y\". Tiene 3 niveles y es un string. Quizas debemos llevarla a ordinal, dato a chequear.\n",
        "\n",
        "-------------------------------------------------------------------------------------------------------------------------\n"
      ]
    },
    {
      "cell_type": "code",
      "execution_count": null,
      "metadata": {
        "colab": {
          "base_uri": "https://localhost:8080/",
          "height": 519
        },
        "id": "VDfFpiMv2nya",
        "outputId": "df9f6cf6-bdab-4b58-a417-826dba5933f4"
      },
      "outputs": [
        {
          "output_type": "execute_result",
          "data": {
            "text/plain": [
              "             ID  Month  Name  Age  SSN  Occupation  Annual_Income  \\\n",
              "Customer_ID                                                         \n",
              "CUS_0x1000    8      8     7    8    8           8              8   \n",
              "CUS_0x1009    8      8     8    8    8           8              8   \n",
              "CUS_0x100b    8      8     7    8    8           8              8   \n",
              "CUS_0x1011    8      8     8    8    8           8              8   \n",
              "CUS_0x1013    8      8     8    8    8           8              8   \n",
              "...          ..    ...   ...  ...  ...         ...            ...   \n",
              "CUS_0xff3     8      8     6    8    8           8              8   \n",
              "CUS_0xff4     8      8     7    8    8           8              8   \n",
              "CUS_0xff6     8      8     8    8    8           8              8   \n",
              "CUS_0xffc     8      8     8    8    8           8              8   \n",
              "CUS_0xffd     8      8     7    8    8           8              8   \n",
              "\n",
              "             Monthly_Inhand_Salary  Num_Bank_Accounts  Num_Credit_Card  ...  \\\n",
              "Customer_ID                                                             ...   \n",
              "CUS_0x1000                       7                  8                8  ...   \n",
              "CUS_0x1009                       8                  8                8  ...   \n",
              "CUS_0x100b                       7                  8                8  ...   \n",
              "CUS_0x1011                       7                  8                8  ...   \n",
              "CUS_0x1013                       5                  8                8  ...   \n",
              "...                            ...                ...              ...  ...   \n",
              "CUS_0xff3                        7                  8                8  ...   \n",
              "CUS_0xff4                        7                  8                8  ...   \n",
              "CUS_0xff6                        8                  8                8  ...   \n",
              "CUS_0xffc                        8                  8                8  ...   \n",
              "CUS_0xffd                        7                  8                8  ...   \n",
              "\n",
              "             Credit_Mix  Outstanding_Debt  Credit_Utilization_Ratio  \\\n",
              "Customer_ID                                                           \n",
              "CUS_0x1000            8                 8                         8   \n",
              "CUS_0x1009            8                 8                         8   \n",
              "CUS_0x100b            8                 8                         8   \n",
              "CUS_0x1011            8                 8                         8   \n",
              "CUS_0x1013            8                 8                         8   \n",
              "...                 ...               ...                       ...   \n",
              "CUS_0xff3             8                 8                         8   \n",
              "CUS_0xff4             8                 8                         8   \n",
              "CUS_0xff6             8                 8                         8   \n",
              "CUS_0xffc             8                 8                         8   \n",
              "CUS_0xffd             8                 8                         8   \n",
              "\n",
              "             Credit_History_Age  Payment_of_Min_Amount  Total_EMI_per_month  \\\n",
              "Customer_ID                                                                   \n",
              "CUS_0x1000                    8                      8                    8   \n",
              "CUS_0x1009                    7                      8                    8   \n",
              "CUS_0x100b                    7                      8                    8   \n",
              "CUS_0x1011                    8                      8                    8   \n",
              "CUS_0x1013                    7                      8                    8   \n",
              "...                         ...                    ...                  ...   \n",
              "CUS_0xff3                     7                      8                    8   \n",
              "CUS_0xff4                     7                      8                    8   \n",
              "CUS_0xff6                     8                      8                    8   \n",
              "CUS_0xffc                     6                      8                    8   \n",
              "CUS_0xffd                     8                      8                    8   \n",
              "\n",
              "             Amount_invested_monthly  Payment_Behaviour  Monthly_Balance  \\\n",
              "Customer_ID                                                                \n",
              "CUS_0x1000                         8                  8                8   \n",
              "CUS_0x1009                         8                  8                8   \n",
              "CUS_0x100b                         7                  8                8   \n",
              "CUS_0x1011                         8                  8                8   \n",
              "CUS_0x1013                         8                  8                8   \n",
              "...                              ...                ...              ...   \n",
              "CUS_0xff3                          8                  8                8   \n",
              "CUS_0xff4                          8                  8                8   \n",
              "CUS_0xff6                          7                  8                7   \n",
              "CUS_0xffc                          8                  8                8   \n",
              "CUS_0xffd                          8                  8                8   \n",
              "\n",
              "             Credit_Score  \n",
              "Customer_ID                \n",
              "CUS_0x1000              8  \n",
              "CUS_0x1009              8  \n",
              "CUS_0x100b              8  \n",
              "CUS_0x1011              8  \n",
              "CUS_0x1013              8  \n",
              "...                   ...  \n",
              "CUS_0xff3               8  \n",
              "CUS_0xff4               8  \n",
              "CUS_0xff6               8  \n",
              "CUS_0xffc               8  \n",
              "CUS_0xffd               8  \n",
              "\n",
              "[12500 rows x 27 columns]"
            ],
            "text/html": [
              "\n",
              "  <div id=\"df-aa47b07f-a6ec-427b-9eae-bcca8f548f42\">\n",
              "    <div class=\"colab-df-container\">\n",
              "      <div>\n",
              "<style scoped>\n",
              "    .dataframe tbody tr th:only-of-type {\n",
              "        vertical-align: middle;\n",
              "    }\n",
              "\n",
              "    .dataframe tbody tr th {\n",
              "        vertical-align: top;\n",
              "    }\n",
              "\n",
              "    .dataframe thead th {\n",
              "        text-align: right;\n",
              "    }\n",
              "</style>\n",
              "<table border=\"1\" class=\"dataframe\">\n",
              "  <thead>\n",
              "    <tr style=\"text-align: right;\">\n",
              "      <th></th>\n",
              "      <th>ID</th>\n",
              "      <th>Month</th>\n",
              "      <th>Name</th>\n",
              "      <th>Age</th>\n",
              "      <th>SSN</th>\n",
              "      <th>Occupation</th>\n",
              "      <th>Annual_Income</th>\n",
              "      <th>Monthly_Inhand_Salary</th>\n",
              "      <th>Num_Bank_Accounts</th>\n",
              "      <th>Num_Credit_Card</th>\n",
              "      <th>...</th>\n",
              "      <th>Credit_Mix</th>\n",
              "      <th>Outstanding_Debt</th>\n",
              "      <th>Credit_Utilization_Ratio</th>\n",
              "      <th>Credit_History_Age</th>\n",
              "      <th>Payment_of_Min_Amount</th>\n",
              "      <th>Total_EMI_per_month</th>\n",
              "      <th>Amount_invested_monthly</th>\n",
              "      <th>Payment_Behaviour</th>\n",
              "      <th>Monthly_Balance</th>\n",
              "      <th>Credit_Score</th>\n",
              "    </tr>\n",
              "    <tr>\n",
              "      <th>Customer_ID</th>\n",
              "      <th></th>\n",
              "      <th></th>\n",
              "      <th></th>\n",
              "      <th></th>\n",
              "      <th></th>\n",
              "      <th></th>\n",
              "      <th></th>\n",
              "      <th></th>\n",
              "      <th></th>\n",
              "      <th></th>\n",
              "      <th></th>\n",
              "      <th></th>\n",
              "      <th></th>\n",
              "      <th></th>\n",
              "      <th></th>\n",
              "      <th></th>\n",
              "      <th></th>\n",
              "      <th></th>\n",
              "      <th></th>\n",
              "      <th></th>\n",
              "      <th></th>\n",
              "    </tr>\n",
              "  </thead>\n",
              "  <tbody>\n",
              "    <tr>\n",
              "      <th>CUS_0x1000</th>\n",
              "      <td>8</td>\n",
              "      <td>8</td>\n",
              "      <td>7</td>\n",
              "      <td>8</td>\n",
              "      <td>8</td>\n",
              "      <td>8</td>\n",
              "      <td>8</td>\n",
              "      <td>7</td>\n",
              "      <td>8</td>\n",
              "      <td>8</td>\n",
              "      <td>...</td>\n",
              "      <td>8</td>\n",
              "      <td>8</td>\n",
              "      <td>8</td>\n",
              "      <td>8</td>\n",
              "      <td>8</td>\n",
              "      <td>8</td>\n",
              "      <td>8</td>\n",
              "      <td>8</td>\n",
              "      <td>8</td>\n",
              "      <td>8</td>\n",
              "    </tr>\n",
              "    <tr>\n",
              "      <th>CUS_0x1009</th>\n",
              "      <td>8</td>\n",
              "      <td>8</td>\n",
              "      <td>8</td>\n",
              "      <td>8</td>\n",
              "      <td>8</td>\n",
              "      <td>8</td>\n",
              "      <td>8</td>\n",
              "      <td>8</td>\n",
              "      <td>8</td>\n",
              "      <td>8</td>\n",
              "      <td>...</td>\n",
              "      <td>8</td>\n",
              "      <td>8</td>\n",
              "      <td>8</td>\n",
              "      <td>7</td>\n",
              "      <td>8</td>\n",
              "      <td>8</td>\n",
              "      <td>8</td>\n",
              "      <td>8</td>\n",
              "      <td>8</td>\n",
              "      <td>8</td>\n",
              "    </tr>\n",
              "    <tr>\n",
              "      <th>CUS_0x100b</th>\n",
              "      <td>8</td>\n",
              "      <td>8</td>\n",
              "      <td>7</td>\n",
              "      <td>8</td>\n",
              "      <td>8</td>\n",
              "      <td>8</td>\n",
              "      <td>8</td>\n",
              "      <td>7</td>\n",
              "      <td>8</td>\n",
              "      <td>8</td>\n",
              "      <td>...</td>\n",
              "      <td>8</td>\n",
              "      <td>8</td>\n",
              "      <td>8</td>\n",
              "      <td>7</td>\n",
              "      <td>8</td>\n",
              "      <td>8</td>\n",
              "      <td>7</td>\n",
              "      <td>8</td>\n",
              "      <td>8</td>\n",
              "      <td>8</td>\n",
              "    </tr>\n",
              "    <tr>\n",
              "      <th>CUS_0x1011</th>\n",
              "      <td>8</td>\n",
              "      <td>8</td>\n",
              "      <td>8</td>\n",
              "      <td>8</td>\n",
              "      <td>8</td>\n",
              "      <td>8</td>\n",
              "      <td>8</td>\n",
              "      <td>7</td>\n",
              "      <td>8</td>\n",
              "      <td>8</td>\n",
              "      <td>...</td>\n",
              "      <td>8</td>\n",
              "      <td>8</td>\n",
              "      <td>8</td>\n",
              "      <td>8</td>\n",
              "      <td>8</td>\n",
              "      <td>8</td>\n",
              "      <td>8</td>\n",
              "      <td>8</td>\n",
              "      <td>8</td>\n",
              "      <td>8</td>\n",
              "    </tr>\n",
              "    <tr>\n",
              "      <th>CUS_0x1013</th>\n",
              "      <td>8</td>\n",
              "      <td>8</td>\n",
              "      <td>8</td>\n",
              "      <td>8</td>\n",
              "      <td>8</td>\n",
              "      <td>8</td>\n",
              "      <td>8</td>\n",
              "      <td>5</td>\n",
              "      <td>8</td>\n",
              "      <td>8</td>\n",
              "      <td>...</td>\n",
              "      <td>8</td>\n",
              "      <td>8</td>\n",
              "      <td>8</td>\n",
              "      <td>7</td>\n",
              "      <td>8</td>\n",
              "      <td>8</td>\n",
              "      <td>8</td>\n",
              "      <td>8</td>\n",
              "      <td>8</td>\n",
              "      <td>8</td>\n",
              "    </tr>\n",
              "    <tr>\n",
              "      <th>...</th>\n",
              "      <td>...</td>\n",
              "      <td>...</td>\n",
              "      <td>...</td>\n",
              "      <td>...</td>\n",
              "      <td>...</td>\n",
              "      <td>...</td>\n",
              "      <td>...</td>\n",
              "      <td>...</td>\n",
              "      <td>...</td>\n",
              "      <td>...</td>\n",
              "      <td>...</td>\n",
              "      <td>...</td>\n",
              "      <td>...</td>\n",
              "      <td>...</td>\n",
              "      <td>...</td>\n",
              "      <td>...</td>\n",
              "      <td>...</td>\n",
              "      <td>...</td>\n",
              "      <td>...</td>\n",
              "      <td>...</td>\n",
              "      <td>...</td>\n",
              "    </tr>\n",
              "    <tr>\n",
              "      <th>CUS_0xff3</th>\n",
              "      <td>8</td>\n",
              "      <td>8</td>\n",
              "      <td>6</td>\n",
              "      <td>8</td>\n",
              "      <td>8</td>\n",
              "      <td>8</td>\n",
              "      <td>8</td>\n",
              "      <td>7</td>\n",
              "      <td>8</td>\n",
              "      <td>8</td>\n",
              "      <td>...</td>\n",
              "      <td>8</td>\n",
              "      <td>8</td>\n",
              "      <td>8</td>\n",
              "      <td>7</td>\n",
              "      <td>8</td>\n",
              "      <td>8</td>\n",
              "      <td>8</td>\n",
              "      <td>8</td>\n",
              "      <td>8</td>\n",
              "      <td>8</td>\n",
              "    </tr>\n",
              "    <tr>\n",
              "      <th>CUS_0xff4</th>\n",
              "      <td>8</td>\n",
              "      <td>8</td>\n",
              "      <td>7</td>\n",
              "      <td>8</td>\n",
              "      <td>8</td>\n",
              "      <td>8</td>\n",
              "      <td>8</td>\n",
              "      <td>7</td>\n",
              "      <td>8</td>\n",
              "      <td>8</td>\n",
              "      <td>...</td>\n",
              "      <td>8</td>\n",
              "      <td>8</td>\n",
              "      <td>8</td>\n",
              "      <td>7</td>\n",
              "      <td>8</td>\n",
              "      <td>8</td>\n",
              "      <td>8</td>\n",
              "      <td>8</td>\n",
              "      <td>8</td>\n",
              "      <td>8</td>\n",
              "    </tr>\n",
              "    <tr>\n",
              "      <th>CUS_0xff6</th>\n",
              "      <td>8</td>\n",
              "      <td>8</td>\n",
              "      <td>8</td>\n",
              "      <td>8</td>\n",
              "      <td>8</td>\n",
              "      <td>8</td>\n",
              "      <td>8</td>\n",
              "      <td>8</td>\n",
              "      <td>8</td>\n",
              "      <td>8</td>\n",
              "      <td>...</td>\n",
              "      <td>8</td>\n",
              "      <td>8</td>\n",
              "      <td>8</td>\n",
              "      <td>8</td>\n",
              "      <td>8</td>\n",
              "      <td>8</td>\n",
              "      <td>7</td>\n",
              "      <td>8</td>\n",
              "      <td>7</td>\n",
              "      <td>8</td>\n",
              "    </tr>\n",
              "    <tr>\n",
              "      <th>CUS_0xffc</th>\n",
              "      <td>8</td>\n",
              "      <td>8</td>\n",
              "      <td>8</td>\n",
              "      <td>8</td>\n",
              "      <td>8</td>\n",
              "      <td>8</td>\n",
              "      <td>8</td>\n",
              "      <td>8</td>\n",
              "      <td>8</td>\n",
              "      <td>8</td>\n",
              "      <td>...</td>\n",
              "      <td>8</td>\n",
              "      <td>8</td>\n",
              "      <td>8</td>\n",
              "      <td>6</td>\n",
              "      <td>8</td>\n",
              "      <td>8</td>\n",
              "      <td>8</td>\n",
              "      <td>8</td>\n",
              "      <td>8</td>\n",
              "      <td>8</td>\n",
              "    </tr>\n",
              "    <tr>\n",
              "      <th>CUS_0xffd</th>\n",
              "      <td>8</td>\n",
              "      <td>8</td>\n",
              "      <td>7</td>\n",
              "      <td>8</td>\n",
              "      <td>8</td>\n",
              "      <td>8</td>\n",
              "      <td>8</td>\n",
              "      <td>7</td>\n",
              "      <td>8</td>\n",
              "      <td>8</td>\n",
              "      <td>...</td>\n",
              "      <td>8</td>\n",
              "      <td>8</td>\n",
              "      <td>8</td>\n",
              "      <td>8</td>\n",
              "      <td>8</td>\n",
              "      <td>8</td>\n",
              "      <td>8</td>\n",
              "      <td>8</td>\n",
              "      <td>8</td>\n",
              "      <td>8</td>\n",
              "    </tr>\n",
              "  </tbody>\n",
              "</table>\n",
              "<p>12500 rows × 27 columns</p>\n",
              "</div>\n",
              "      <button class=\"colab-df-convert\" onclick=\"convertToInteractive('df-aa47b07f-a6ec-427b-9eae-bcca8f548f42')\"\n",
              "              title=\"Convert this dataframe to an interactive table.\"\n",
              "              style=\"display:none;\">\n",
              "        \n",
              "  <svg xmlns=\"http://www.w3.org/2000/svg\" height=\"24px\"viewBox=\"0 0 24 24\"\n",
              "       width=\"24px\">\n",
              "    <path d=\"M0 0h24v24H0V0z\" fill=\"none\"/>\n",
              "    <path d=\"M18.56 5.44l.94 2.06.94-2.06 2.06-.94-2.06-.94-.94-2.06-.94 2.06-2.06.94zm-11 1L8.5 8.5l.94-2.06 2.06-.94-2.06-.94L8.5 2.5l-.94 2.06-2.06.94zm10 10l.94 2.06.94-2.06 2.06-.94-2.06-.94-.94-2.06-.94 2.06-2.06.94z\"/><path d=\"M17.41 7.96l-1.37-1.37c-.4-.4-.92-.59-1.43-.59-.52 0-1.04.2-1.43.59L10.3 9.45l-7.72 7.72c-.78.78-.78 2.05 0 2.83L4 21.41c.39.39.9.59 1.41.59.51 0 1.02-.2 1.41-.59l7.78-7.78 2.81-2.81c.8-.78.8-2.07 0-2.86zM5.41 20L4 18.59l7.72-7.72 1.47 1.35L5.41 20z\"/>\n",
              "  </svg>\n",
              "      </button>\n",
              "      \n",
              "  <style>\n",
              "    .colab-df-container {\n",
              "      display:flex;\n",
              "      flex-wrap:wrap;\n",
              "      gap: 12px;\n",
              "    }\n",
              "\n",
              "    .colab-df-convert {\n",
              "      background-color: #E8F0FE;\n",
              "      border: none;\n",
              "      border-radius: 50%;\n",
              "      cursor: pointer;\n",
              "      display: none;\n",
              "      fill: #1967D2;\n",
              "      height: 32px;\n",
              "      padding: 0 0 0 0;\n",
              "      width: 32px;\n",
              "    }\n",
              "\n",
              "    .colab-df-convert:hover {\n",
              "      background-color: #E2EBFA;\n",
              "      box-shadow: 0px 1px 2px rgba(60, 64, 67, 0.3), 0px 1px 3px 1px rgba(60, 64, 67, 0.15);\n",
              "      fill: #174EA6;\n",
              "    }\n",
              "\n",
              "    [theme=dark] .colab-df-convert {\n",
              "      background-color: #3B4455;\n",
              "      fill: #D2E3FC;\n",
              "    }\n",
              "\n",
              "    [theme=dark] .colab-df-convert:hover {\n",
              "      background-color: #434B5C;\n",
              "      box-shadow: 0px 1px 3px 1px rgba(0, 0, 0, 0.15);\n",
              "      filter: drop-shadow(0px 1px 2px rgba(0, 0, 0, 0.3));\n",
              "      fill: #FFFFFF;\n",
              "    }\n",
              "  </style>\n",
              "\n",
              "      <script>\n",
              "        const buttonEl =\n",
              "          document.querySelector('#df-aa47b07f-a6ec-427b-9eae-bcca8f548f42 button.colab-df-convert');\n",
              "        buttonEl.style.display =\n",
              "          google.colab.kernel.accessAllowed ? 'block' : 'none';\n",
              "\n",
              "        async function convertToInteractive(key) {\n",
              "          const element = document.querySelector('#df-aa47b07f-a6ec-427b-9eae-bcca8f548f42');\n",
              "          const dataTable =\n",
              "            await google.colab.kernel.invokeFunction('convertToInteractive',\n",
              "                                                     [key], {});\n",
              "          if (!dataTable) return;\n",
              "\n",
              "          const docLinkHtml = 'Like what you see? Visit the ' +\n",
              "            '<a target=\"_blank\" href=https://colab.research.google.com/notebooks/data_table.ipynb>data table notebook</a>'\n",
              "            + ' to learn more about interactive tables.';\n",
              "          element.innerHTML = '';\n",
              "          dataTable['output_type'] = 'display_data';\n",
              "          await google.colab.output.renderOutput(dataTable, element);\n",
              "          const docLink = document.createElement('div');\n",
              "          docLink.innerHTML = docLinkHtml;\n",
              "          element.appendChild(docLink);\n",
              "        }\n",
              "      </script>\n",
              "    </div>\n",
              "  </div>\n",
              "  "
            ]
          },
          "metadata": {},
          "execution_count": 11
        }
      ],
      "source": [
        "df_full.groupby('Customer_ID').count()"
      ]
    },
    {
      "cell_type": "markdown",
      "metadata": {
        "id": "J8wXGwyAmYQb"
      },
      "source": [
        "Vemos que cada cliente aparece entre 7 y 8 veces, de ahí que debemos sumarizar de alguna manera los datos. (agrupación de features)"
      ]
    },
    {
      "cell_type": "markdown",
      "metadata": {
        "id": "VdPE2AvydX7x"
      },
      "source": [
        "A continuación trabajaremos y limpiaremos las variables del set para luego sumarizarlo. Cada variable se tratará de manera independiente haciendo imputaciones sensibles, estadísticas o predictivas según corresponda."
      ]
    },
    {
      "cell_type": "markdown",
      "metadata": {
        "id": "N2SGMf57Hu4e"
      },
      "source": [
        "# Tratamiento de variables"
      ]
    },
    {
      "cell_type": "markdown",
      "metadata": {
        "id": "R_9sjoQHInrd"
      },
      "source": [
        "En primera instancia tratareremos la variable Annual_Income, como práctica unitaria de limpieza de una variable. Luego, siendo que son bastante columnas, trataremos de recorrer masívamente aquellas que se pueda aplicar la mísma lógica."
      ]
    },
    {
      "cell_type": "markdown",
      "metadata": {
        "id": "xBP2I5t7rTH_"
      },
      "source": [
        "# Acondicionando la variable 'Annual_Income'"
      ]
    },
    {
      "cell_type": "code",
      "execution_count": null,
      "metadata": {
        "colab": {
          "base_uri": "https://localhost:8080/"
        },
        "id": "Js74un5m4L1d",
        "outputId": "381c6967-fc42-497e-98f0-b6a8a18868f2"
      },
      "outputs": [
        {
          "output_type": "execute_result",
          "data": {
            "text/plain": [
              "count       100000\n",
              "unique       18940\n",
              "top       36585.12\n",
              "freq            16\n",
              "Name: Annual_Income, dtype: object"
            ]
          },
          "metadata": {},
          "execution_count": 12
        }
      ],
      "source": [
        "#arrancamos con un describe de la variable\n",
        "df_full.Annual_Income.describe()"
      ]
    },
    {
      "cell_type": "markdown",
      "metadata": {
        "id": "vvNVT5VB7IvY"
      },
      "source": [
        "Si bien al hacer el .info() ya sabiamos que la variable en estudio es un object / string o similar. de ahi que el describe nos provee menos información. Procederemos entonces a castearla a float."
      ]
    },
    {
      "cell_type": "code",
      "execution_count": null,
      "metadata": {
        "id": "pU40nsej-yA4"
      },
      "outputs": [],
      "source": [
        "#df_full['Annual_Incomecasted2']=df_full['Annual_Income'].astype(float)"
      ]
    },
    {
      "cell_type": "markdown",
      "metadata": {
        "id": "XaceGGdZ8ozc"
      },
      "source": [
        "Vemos que el casteo falla porque no sabe como convertir los \"_\" a float, así que previo al casteo la limpiaremos mediante un apply."
      ]
    },
    {
      "cell_type": "code",
      "execution_count": null,
      "metadata": {
        "id": "fesZVN6YreY0"
      },
      "outputs": [],
      "source": [
        "#volvemos a string, aplicamos funcion y casteamos otra vez\n",
        "# esta funcion remplaza los \"_\" por \"\"\n",
        "def quitarcaracter(celda):\n",
        "  return celda.replace('_','') \n",
        "df_full['Annual_Income']=df_full['Annual_Income'].astype(str)\n",
        "df_full['Annual_Income']=df_full['Annual_Income'].apply(quitarcaracter)\n",
        "df_full['Annual_Income']=df_full['Annual_Income'].astype(float)"
      ]
    },
    {
      "cell_type": "markdown",
      "metadata": {
        "id": "5VX70Y9a_hEU"
      },
      "source": [
        "Hacemos un nuevo describe y ya tenemos la variable lista para operar."
      ]
    },
    {
      "cell_type": "code",
      "execution_count": null,
      "metadata": {
        "colab": {
          "base_uri": "https://localhost:8080/"
        },
        "id": "PCetWGkN_lz5",
        "outputId": "4a7b4080-0a86-4805-9d53-73b900bd3ab2"
      },
      "outputs": [
        {
          "output_type": "execute_result",
          "data": {
            "text/plain": [
              "count    1.000000e+05\n",
              "mean     1.764157e+05\n",
              "std      1.429618e+06\n",
              "min      7.005930e+03\n",
              "25%      1.945750e+04\n",
              "50%      3.757861e+04\n",
              "75%      7.279092e+04\n",
              "max      2.419806e+07\n",
              "Name: Annual_Income, dtype: float64"
            ]
          },
          "metadata": {},
          "execution_count": 15
        }
      ],
      "source": [
        "df_full.Annual_Income.describe()"
      ]
    },
    {
      "cell_type": "markdown",
      "metadata": {
        "id": "Agixn7PJz_VN"
      },
      "source": [
        "Verificamos si existen valores nulos dentro de nuestra variable \"Annual Income\".\n",
        "Y observamos que no te exite ninguno."
      ]
    },
    {
      "cell_type": "code",
      "execution_count": null,
      "metadata": {
        "colab": {
          "base_uri": "https://localhost:8080/"
        },
        "id": "NBlvpoMhz_ik",
        "outputId": "c9907b43-c0d8-412b-8101-53053ceab060"
      },
      "outputs": [
        {
          "output_type": "execute_result",
          "data": {
            "text/plain": [
              "0"
            ]
          },
          "metadata": {},
          "execution_count": 16
        }
      ],
      "source": [
        "df_full.Annual_Income.isna().sum()"
      ]
    },
    {
      "cell_type": "markdown",
      "metadata": {
        "id": "c9VSkZg5_wd7"
      },
      "source": [
        "Ahora vamos a proceder con mirar un poco la variable mediante distintos graficos.\n",
        "\n",
        "Primero podemos hacer un histograma."
      ]
    },
    {
      "cell_type": "code",
      "execution_count": null,
      "metadata": {
        "colab": {
          "base_uri": "https://localhost:8080/"
        },
        "id": "4eLRbsIdDl5A",
        "outputId": "1f21f762-10da-436a-a6ad-28772008b49c"
      },
      "outputs": [
        {
          "output_type": "stream",
          "name": "stdout",
          "text": [
            "AxesSubplot(0.125,0.125;0.775x0.755)\n"
          ]
        },
        {
          "output_type": "display_data",
          "data": {
            "text/plain": [
              "<Figure size 432x288 with 1 Axes>"
            ],
            "image/png": "[encoded data removed]"
          },
          "metadata": {
            "needs_background": "light"
          }
        }
      ],
      "source": [
        "print(df_full.Annual_Income.plot.hist())"
      ]
    },
    {
      "cell_type": "code",
      "execution_count": null,
      "metadata": {
        "colab": {
          "base_uri": "https://localhost:8080/"
        },
        "id": "YskBzBkIzhKW",
        "outputId": "1b424da2-fc50-4d7c-f516-e8c6a3bee62c"
      },
      "outputs": [
        {
          "output_type": "display_data",
          "data": {
            "text/plain": [
              "<Figure size 1440x360 with 1 Axes>"
            ],
            "image/png": "[encoded data removed]"
          },
          "metadata": {
            "needs_background": "light"
          }
        }
      ],
      "source": [
        "plt.figure(figsize=(20,5))\n",
        "stud_bplt = df_full.boxplot(column = ['Annual_Income'],  rot = 45, fontsize= '10', grid = True, vert=False)\n",
        "stud_bplt.plot()\n",
        "plt.show()"
      ]
    },
    {
      "cell_type": "markdown",
      "metadata": {
        "id": "o62tZ847HxkQ"
      },
      "source": [
        "Puede verse que hay valores muy dispersos, muy altos o son outliers. Quizas es conveniente truncar la variable.\n",
        "\n",
        "Usaremos la definicion vista, si el salario es muy alto truncaremos por Tope = q3 + 1,5*(q3-q1).\n",
        "\n",
        "Podemos aprovechar el apply para quitar decimales.\n"
      ]
    },
    {
      "cell_type": "code",
      "execution_count": null,
      "metadata": {
        "colab": {
          "base_uri": "https://localhost:8080/"
        },
        "id": "vO9p7Zt9KMBW",
        "outputId": "eb8178bb-bd3a-4c12-822a-15d196228b8c"
      },
      "outputs": [
        {
          "output_type": "execute_result",
          "data": {
            "text/plain": [
              "152791.05"
            ]
          },
          "metadata": {},
          "execution_count": 19
        }
      ],
      "source": [
        "Q3=df_full.Annual_Income.quantile(q=.75)\n",
        "Q1=df_full.Annual_Income.quantile(q=.25)\n",
        "Tope=(Q3-Q1)*1.5+Q3\n",
        "Tope"
      ]
    },
    {
      "cell_type": "code",
      "execution_count": null,
      "metadata": {
        "id": "0KrRZQbDIgEq"
      },
      "outputs": [],
      "source": [
        "def truncartope(x):\n",
        "  if x >Tope:\n",
        "    value = round(Tope/1000, 2)\n",
        "  else:\n",
        "    value = round(x/1000, 2)\n",
        "  return value "
      ]
    },
    {
      "cell_type": "code",
      "execution_count": null,
      "metadata": {
        "colab": {
          "base_uri": "https://localhost:8080/"
        },
        "id": "2PDHJl9bNOtW",
        "outputId": "d521c411-e65d-4656-dc18-6ac1ef8b46ac"
      },
      "outputs": [
        {
          "output_type": "stream",
          "name": "stdout",
          "text": [
            "0    19.11\n",
            "1    19.11\n",
            "2    19.11\n",
            "3    19.11\n",
            "4    19.11\n",
            "Name: Annual_Income, dtype: float64\n"
          ]
        },
        {
          "output_type": "execute_result",
          "data": {
            "text/plain": [
              "count    100000.000000\n",
              "mean         51.253250\n",
              "std          38.684785\n",
              "min           7.010000\n",
              "25%          19.460000\n",
              "50%          37.580000\n",
              "75%          72.790000\n",
              "max         152.790000\n",
              "Name: Annual_Income, dtype: float64"
            ]
          },
          "metadata": {},
          "execution_count": 21
        }
      ],
      "source": [
        "df_full['Annual_Income']=df_full['Annual_Income'].apply(truncartope)\n",
        "print(df_full['Annual_Income'].head())\n",
        "df_full['Annual_Income'].describe()"
      ]
    },
    {
      "cell_type": "markdown",
      "metadata": {
        "id": "Et3ZLmkHOLUy"
      },
      "source": [
        "Ahora podemos dibujar y entender mejor la variable."
      ]
    },
    {
      "cell_type": "code",
      "execution_count": null,
      "metadata": {
        "colab": {
          "base_uri": "https://localhost:8080/"
        },
        "id": "YkEfgzWbzwdq",
        "outputId": "2358a5f4-19a1-4dde-da29-6a6903f0dae3"
      },
      "outputs": [
        {
          "output_type": "display_data",
          "data": {
            "text/plain": [
              "<Figure size 1440x360 with 1 Axes>"
            ],
            "image/png": "[encoded data removed]"
          },
          "metadata": {
            "needs_background": "light"
          }
        }
      ],
      "source": [
        "plt.figure(figsize=(20,5))\n",
        "stud_bplt = df_full.boxplot(column = ['Annual_Income'],  rot = 45, fontsize= '10', grid = True, vert=False)\n",
        "stud_bplt.plot()\n",
        "plt.show()"
      ]
    },
    {
      "cell_type": "code",
      "execution_count": null,
      "metadata": {
        "colab": {
          "base_uri": "https://localhost:8080/"
        },
        "id": "_8vHOsG3Yzn2",
        "outputId": "ebc8b655-bca9-407a-a4d8-890d4a2e4cd0"
      },
      "outputs": [
        {
          "output_type": "execute_result",
          "data": {
            "text/plain": [
              "<matplotlib.axes._subplots.AxesSubplot at 0x7fa3f12e28d0>"
            ]
          },
          "metadata": {},
          "execution_count": 23
        },
        {
          "output_type": "display_data",
          "data": {
            "text/plain": [
              "<Figure size 432x288 with 1 Axes>"
            ],
            "image/png": "[encoded data removed]"
          },
          "metadata": {
            "needs_background": "light"
          }
        }
      ],
      "source": [
        "df_full['Annual_Income'].hist(bins=80)"
      ]
    },
    {
      "cell_type": "markdown",
      "metadata": {
        "id": "d6oC-sL2gNwf"
      },
      "source": [
        "**La asimetría y curtosis** \n",
        "Informan sobre la forma de la distribución de una variable. \n",
        "\n",
        "Estas medidas permiten saber las características de su asimetría y homogeneidad sin necesidad de representarlos gráficamente.\n",
        "\n",
        "**¿Cómo se interpreta la curtosis?**\n",
        "Indica que tan apuntada o achatada se encuentra una distribución respecto a un comportamiento normal (distribución normal). Si los datos están muy concentrado hacia la media, la distribución es leptocúrtica (curtosis mayor a 0). Si los datos están muy dispersos, la distribución es platicúrtica (curtosis menor a 0).\n",
        "\n",
        "**¿Cómo se interpreta la asimetría?**\n",
        "En las interpretaciones de los coeficientes de asimetría los valores menores que 0 indican asimetría negativa; los mayores, asimetría positiva y cuando sea cero, o muy próximo a cero, simétrica. \n",
        "\n",
        "![image.png](data:image/png;base64,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)"
      ]
    },
    {
      "cell_type": "code",
      "execution_count": null,
      "metadata": {
        "colab": {
          "base_uri": "https://localhost:8080/"
        },
        "id": "QBN6sPnlfrOL",
        "outputId": "f247c2ae-8924-4a67-9547-688734197f9b"
      },
      "outputs": [
        {
          "output_type": "stream",
          "name": "stdout",
          "text": [
            "Asimetría: 1.039967\n",
            "Curtosis: 0.169995\n"
          ]
        }
      ],
      "source": [
        "print(\"Asimetría: %f\" % df_full['Annual_Income'].skew())\n",
        "print(\"Curtosis: %f\" % df_full['Annual_Income'].kurt())"
      ]
    },
    {
      "cell_type": "markdown",
      "metadata": {
        "id": "M3m5i0twgTaa"
      },
      "source": [
        "El análisis univariado nos lleva a la conclusión que debemos analizar en detalle las columnas para emprolijarlas y convertirlas antes de seguir con un profiling."
      ]
    },
    {
      "cell_type": "code",
      "execution_count": null,
      "metadata": {
        "colab": {
          "base_uri": "https://localhost:8080/"
        },
        "id": "MEQ2j2xiqWxH",
        "outputId": "2730af94-5044-41e2-da18-2ed78eda6ed7"
      },
      "outputs": [
        {
          "output_type": "execute_result",
          "data": {
            "text/plain": [
              "count    100000.000000\n",
              "mean         51.253250\n",
              "std          38.684785\n",
              "min           7.010000\n",
              "25%          19.460000\n",
              "50%          37.580000\n",
              "75%          72.790000\n",
              "max         152.790000\n",
              "Name: Annual_Income, dtype: float64"
            ]
          },
          "metadata": {},
          "execution_count": 25
        }
      ],
      "source": [
        "df_full.Annual_Income.describe()"
      ]
    },
    {
      "cell_type": "markdown",
      "metadata": {
        "id": "IOsp2NmCMQxs"
      },
      "source": [
        "# Limpieza del resto de las variables"
      ]
    },
    {
      "cell_type": "markdown",
      "metadata": {
        "id": "hmGGyK4IJ_lh"
      },
      "source": [
        "# Imputación y correccion masiva de variables numéricas almacenadas como texto"
      ]
    },
    {
      "cell_type": "markdown",
      "metadata": {
        "id": "ZdghFoDADcK6"
      },
      "source": [
        "Primero trataremos de manera masiva las variablles que son numericas, deberían ser numericas y que pueden estar almamacenadas como objetc."
      ]
    },
    {
      "cell_type": "code",
      "execution_count": null,
      "metadata": {
        "colab": {
          "base_uri": "https://localhost:8080/"
        },
        "id": "X6q_1e0GKtA1",
        "outputId": "57f15a57-25b5-47fa-9247-f5d0df5b4d2e"
      },
      "outputs": [
        {
          "output_type": "stream",
          "name": "stdout",
          "text": [
            "Trataremos  15  variables.\n"
          ]
        },
        {
          "output_type": "execute_result",
          "data": {
            "text/plain": [
              "{'Age',\n",
              " 'Amount_invested_monthly',\n",
              " 'Changed_Credit_Limit',\n",
              " 'Credit_Utilization_Ratio',\n",
              " 'Delay_from_due_date',\n",
              " 'Interest_Rate',\n",
              " 'Monthly_Balance',\n",
              " 'Monthly_Inhand_Salary',\n",
              " 'Num_Bank_Accounts',\n",
              " 'Num_Credit_Card',\n",
              " 'Num_Credit_Inquiries',\n",
              " 'Num_of_Delayed_Payment',\n",
              " 'Num_of_Loan',\n",
              " 'Outstanding_Debt',\n",
              " 'Total_EMI_per_month'}"
            ]
          },
          "metadata": {},
          "execution_count": 26
        }
      ],
      "source": [
        "#hacemos una lista de las VARIABLES que recorreremos\n",
        "colobject={'Age','Monthly_Inhand_Salary', 'Num_Bank_Accounts',\n",
        "       'Num_Credit_Card', 'Interest_Rate', 'Num_of_Loan','Delay_from_due_date', 'Num_of_Delayed_Payment', 'Changed_Credit_Limit',\n",
        "       'Num_Credit_Inquiries', 'Outstanding_Debt',\n",
        "       'Credit_Utilization_Ratio',  'Total_EMI_per_month',\n",
        "       'Amount_invested_monthly','Monthly_Balance'\n",
        "       }\n",
        "print('Trataremos ',len(colobject),' variables.')\n",
        "colobject"
      ]
    },
    {
      "cell_type": "markdown",
      "metadata": {
        "id": "JDixq-N4S-4_"
      },
      "source": [
        "Para estas variables realizaremos las siguientes acciones de imputación masiva:\n",
        "\n",
        "\n",
        "1.   Convertiremos a float mediante la función pd.to numeric + coerce.\n",
        "2.   Truncaremos los valores improbables a acorde al 1,5 veces el rango intercuartil. Si el valor de corte inferior da negativo, dejaremos 0 por entendimiento de las variables.\n",
        "\n"
      ]
    },
    {
      "cell_type": "code",
      "execution_count": null,
      "metadata": {
        "colab": {
          "base_uri": "https://localhost:8080/",
          "height": 1000
        },
        "id": "xYOaHJv4L34L",
        "outputId": "0ce604d7-e5ba-4a14-a078-91260bcc7baa"
      },
      "outputs": [
        {
          "output_type": "stream",
          "name": "stdout",
          "text": [
            "1 \n",
            "\n",
            "Amount_invested_monthly -Antes\n",
            "\n",
            "count         95521\n",
            "unique        91049\n",
            "top       __10000__\n",
            "freq           4305\n",
            "Name: Amount_invested_monthly, dtype: object\n"
          ]
        },
        {
          "output_type": "display_data",
          "data": {
            "text/plain": [
              "<Figure size 576x360 with 1 Axes>"
            ],
            "image/png": "[encoded data removed]"
          },
          "metadata": {
            "needs_background": "light"
          }
        },
        {
          "output_type": "stream",
          "name": "stdout",
          "text": [
            "\n",
            "\n",
            " Amount_invested_monthly -Despues\n",
            "count    100000.000000\n",
            "mean        202.519901\n",
            "std         157.108666\n",
            "min           0.000000\n",
            "25%          77.017414\n",
            "50%         143.127915\n",
            "75%         304.765600\n",
            "max         483.684497\n",
            "Name: Amount_invested_monthly, dtype: float64\n"
          ]
        },
        {
          "output_type": "display_data",
          "data": {
            "text/plain": [
              "<Figure size 576x360 with 1 Axes>"
            ],
            "image/png": "[encoded data removed]"
          },
          "metadata": {
            "needs_background": "light"
          }
        },
        {
          "output_type": "stream",
          "name": "stdout",
          "text": [
            "*******************************\n",
            "2 \n",
            "\n",
            "Changed_Credit_Limit -Antes\n",
            "\n",
            "count     100000\n",
            "unique      4384\n",
            "top            _\n",
            "freq        2091\n",
            "Name: Changed_Credit_Limit, dtype: object\n"
          ]
        },
        {
          "output_type": "display_data",
          "data": {
            "text/plain": [
              "<Figure size 576x360 with 1 Axes>"
            ],
            "image/png": "[encoded data removed]"
          },
          "metadata": {
            "needs_background": "light"
          }
        },
        {
          "output_type": "stream",
          "name": "stdout",
          "text": [
            "\n",
            "\n",
            " Changed_Credit_Limit -Despues\n",
            "count    100000.000000\n",
            "mean         10.199846\n",
            "std           6.786516\n",
            "min           0.000000\n",
            "25%           4.970000\n",
            "50%           9.250000\n",
            "75%          14.660000\n",
            "max          29.195000\n",
            "Name: Changed_Credit_Limit, dtype: float64\n"
          ]
        },
        {
          "output_type": "display_data",
          "data": {
            "text/plain": [
              "<Figure size 576x360 with 1 Axes>"
            ],
            "image/png": "[encoded data removed]"
          },
          "metadata": {
            "needs_background": "light"
          }
        },
        {
          "output_type": "stream",
          "name": "stdout",
          "text": [
            "*******************************\n",
            "3 \n",
            "\n",
            "Interest_Rate -Antes\n",
            "\n",
            "count    100000.000000\n",
            "mean         72.466040\n",
            "std         466.422621\n",
            "min           1.000000\n",
            "25%           8.000000\n",
            "50%          13.000000\n",
            "75%          20.000000\n",
            "max        5797.000000\n",
            "Name: Interest_Rate, dtype: float64\n"
          ]
        },
        {
          "output_type": "display_data",
          "data": {
            "text/plain": [
              "<Figure size 576x360 with 1 Axes>"
            ],
            "image/png": "[encoded data removed]"
          },
          "metadata": {
            "needs_background": "light"
          }
        },
        {
          "output_type": "stream",
          "name": "stdout",
          "text": [
            "\n",
            "\n",
            " Interest_Rate -Despues\n",
            "count    100000.000000\n",
            "mean         15.008950\n",
            "std           9.263065\n",
            "min           1.000000\n",
            "25%           8.000000\n",
            "50%          13.000000\n",
            "75%          20.000000\n",
            "max          38.000000\n",
            "Name: Interest_Rate, dtype: float64\n"
          ]
        },
        {
          "output_type": "display_data",
          "data": {
            "text/plain": [
              "<Figure size 576x360 with 1 Axes>"
            ],
            "image/png": "[encoded data removed]"
          },
          "metadata": {
            "needs_background": "light"
          }
        },
        {
          "output_type": "stream",
          "name": "stdout",
          "text": [
            "*******************************\n",
            "4 \n",
            "\n",
            "Outstanding_Debt -Antes\n",
            "\n",
            "count      100000\n",
            "unique      13178\n",
            "top       1360.45\n",
            "freq           24\n",
            "Name: Outstanding_Debt, dtype: object\n"
          ]
        },
        {
          "output_type": "display_data",
          "data": {
            "text/plain": [
              "<Figure size 576x360 with 1 Axes>"
            ],
            "image/png": "[encoded data removed]"
          },
          "metadata": {
            "needs_background": "light"
          }
        },
        {
          "output_type": "stream",
          "name": "stdout",
          "text": [
            "\n",
            "\n",
            " Outstanding_Debt -Despues\n",
            "count    100000.000000\n",
            "mean       1426.874623\n",
            "std        1112.578253\n",
            "min           0.230000\n",
            "25%         571.650000\n",
            "50%        1175.880000\n",
            "75%        1996.600000\n",
            "max        4021.380000\n",
            "Name: Outstanding_Debt, dtype: float64\n"
          ]
        },
        {
          "output_type": "display_data",
          "data": {
            "text/plain": [
              "<Figure size 576x360 with 1 Axes>"
            ],
            "image/png": "[encoded data removed]"
          },
          "metadata": {
            "needs_background": "light"
          }
        },
        {
          "output_type": "stream",
          "name": "stdout",
          "text": [
            "*******************************\n",
            "5 \n",
            "\n",
            "Age -Antes\n",
            "\n",
            "count     100000\n",
            "unique      1788\n",
            "top           38\n",
            "freq        2833\n",
            "Name: Age, dtype: object\n"
          ]
        },
        {
          "output_type": "display_data",
          "data": {
            "text/plain": [
              "<Figure size 576x360 with 1 Axes>"
            ],
            "image/png": "[encoded data removed]"
          },
          "metadata": {
            "needs_background": "light"
          }
        },
        {
          "output_type": "stream",
          "name": "stdout",
          "text": [
            "\n",
            "\n",
            " Age -Despues\n",
            "count    100000.000000\n",
            "mean         33.896330\n",
            "std          11.864593\n",
            "min           0.000000\n",
            "25%          25.000000\n",
            "50%          34.000000\n",
            "75%          42.000000\n",
            "max          69.000000\n",
            "Name: Age, dtype: float64\n"
          ]
        },
        {
          "output_type": "display_data",
          "data": {
            "text/plain": [
              "<Figure size 576x360 with 1 Axes>"
            ],
            "image/png": "[encoded data removed]"
          },
          "metadata": {
            "needs_background": "light"
          }
        },
        {
          "output_type": "stream",
          "name": "stdout",
          "text": [
            "*******************************\n",
            "6 \n",
            "\n",
            "Monthly_Inhand_Salary -Antes\n",
            "\n",
            "count    84998.000000\n",
            "mean      4194.170850\n",
            "std       3183.686167\n",
            "min        303.645417\n",
            "25%       1625.568229\n",
            "50%       3093.745000\n",
            "75%       5957.448333\n",
            "max      15204.633333\n",
            "Name: Monthly_Inhand_Salary, dtype: float64\n"
          ]
        },
        {
          "output_type": "display_data",
          "data": {
            "text/plain": [
              "<Figure size 576x360 with 1 Axes>"
            ],
            "image/png": "[encoded data removed]"
          },
          "metadata": {
            "needs_background": "light"
          }
        },
        {
          "output_type": "stream",
          "name": "stdout",
          "text": [
            "\n",
            "\n",
            " Monthly_Inhand_Salary -Despues\n",
            "count    100000.000000\n",
            "mean       5410.563971\n",
            "std        4117.569101\n",
            "min         303.645417\n",
            "25%        1792.084167\n",
            "50%        3852.736667\n",
            "75%        8595.465000\n",
            "max       12455.268490\n",
            "Name: Monthly_Inhand_Salary, dtype: float64\n"
          ]
        },
        {
          "output_type": "display_data",
          "data": {
            "text/plain": [
              "<Figure size 576x360 with 1 Axes>"
            ],
            "image/png": "[encoded data removed]"
          },
          "metadata": {
            "needs_background": "light"
          }
        },
        {
          "output_type": "stream",
          "name": "stdout",
          "text": [
            "*******************************\n",
            "7 \n",
            "\n",
            "Delay_from_due_date -Antes\n",
            "\n",
            "count    100000.000000\n",
            "mean         21.068780\n",
            "std          14.860104\n",
            "min          -5.000000\n",
            "25%          10.000000\n",
            "50%          18.000000\n",
            "75%          28.000000\n",
            "max          67.000000\n",
            "Name: Delay_from_due_date, dtype: float64\n"
          ]
        },
        {
          "output_type": "display_data",
          "data": {
            "text/plain": [
              "<Figure size 576x360 with 1 Axes>"
            ],
            "image/png": "[encoded data removed]"
          },
          "metadata": {
            "needs_background": "light"
          }
        },
        {
          "output_type": "stream",
          "name": "stdout",
          "text": [
            "\n",
            "\n",
            " Delay_from_due_date -Despues\n",
            "count    100000.000000\n",
            "mean         20.909770\n",
            "std          14.406884\n",
            "min           0.000000\n",
            "25%          10.000000\n",
            "50%          18.000000\n",
            "75%          28.000000\n",
            "max          55.000000\n",
            "Name: Delay_from_due_date, dtype: float64\n"
          ]
        },
        {
          "output_type": "display_data",
          "data": {
            "text/plain": [
              "<Figure size 576x360 with 1 Axes>"
            ],
            "image/png": "[encoded data removed]"
          },
          "metadata": {
            "needs_background": "light"
          }
        },
        {
          "output_type": "stream",
          "name": "stdout",
          "text": [
            "*******************************\n",
            "8 \n",
            "\n",
            "Num_Bank_Accounts -Antes\n",
            "\n",
            "count    100000.000000\n",
            "mean         17.091280\n",
            "std         117.404834\n",
            "min          -1.000000\n",
            "25%           3.000000\n",
            "50%           6.000000\n",
            "75%           7.000000\n",
            "max        1798.000000\n",
            "Name: Num_Bank_Accounts, dtype: float64\n"
          ]
        },
        {
          "output_type": "display_data",
          "data": {
            "text/plain": [
              "<Figure size 576x360 with 1 Axes>"
            ],
            "image/png": "[encoded data removed]"
          },
          "metadata": {
            "needs_background": "light"
          }
        },
        {
          "output_type": "stream",
          "name": "stdout",
          "text": [
            "\n",
            "\n",
            " Num_Bank_Accounts -Despues\n",
            "count    100000.000000\n",
            "mean          5.468200\n",
            "std           2.719004\n",
            "min           0.000000\n",
            "25%           3.000000\n",
            "50%           6.000000\n",
            "75%           7.000000\n",
            "max          13.000000\n",
            "Name: Num_Bank_Accounts, dtype: float64\n"
          ]
        },
        {
          "output_type": "display_data",
          "data": {
            "text/plain": [
              "<Figure size 576x360 with 1 Axes>"
            ],
            "image/png": "[encoded data removed]"
          },
          "metadata": {
            "needs_background": "light"
          }
        },
        {
          "output_type": "stream",
          "name": "stdout",
          "text": [
            "*******************************\n",
            "9 \n",
            "\n",
            "Credit_Utilization_Ratio -Antes\n",
            "\n",
            "count    100000.000000\n",
            "mean         32.285173\n",
            "std           5.116875\n",
            "min          20.000000\n",
            "25%          28.052567\n",
            "50%          32.305784\n",
            "75%          36.496663\n",
            "max          50.000000\n",
            "Name: Credit_Utilization_Ratio, dtype: float64\n"
          ]
        },
        {
          "output_type": "display_data",
          "data": {
            "text/plain": [
              "<Figure size 576x360 with 1 Axes>"
            ],
            "image/png": "[encoded data removed]"
          },
          "metadata": {
            "needs_background": "light"
          }
        },
        {
          "output_type": "stream",
          "name": "stdout",
          "text": [
            "\n",
            "\n",
            " Credit_Utilization_Ratio -Despues\n",
            "count    100000.000000\n",
            "mean         32.285156\n",
            "std           5.116818\n",
            "min          20.000000\n",
            "25%          28.052567\n",
            "50%          32.305784\n",
            "75%          36.496663\n",
            "max          49.162808\n",
            "Name: Credit_Utilization_Ratio, dtype: float64\n"
          ]
        },
        {
          "output_type": "display_data",
          "data": {
            "text/plain": [
              "<Figure size 576x360 with 1 Axes>"
            ],
            "image/png": "[encoded data removed]"
          },
          "metadata": {
            "needs_background": "light"
          }
        },
        {
          "output_type": "stream",
          "name": "stdout",
          "text": [
            "*******************************\n",
            "10 \n",
            "\n",
            "Num_of_Delayed_Payment -Antes\n",
            "\n",
            "count     92998\n",
            "unique      749\n",
            "top          19\n",
            "freq       5327\n",
            "Name: Num_of_Delayed_Payment, dtype: object\n"
          ]
        },
        {
          "output_type": "display_data",
          "data": {
            "text/plain": [
              "<Figure size 576x360 with 1 Axes>"
            ],
            "image/png": "[encoded data removed]"
          },
          "metadata": {
            "needs_background": "light"
          }
        },
        {
          "output_type": "stream",
          "name": "stdout",
          "text": [
            "\n",
            "\n",
            " Num_of_Delayed_Payment -Despues\n",
            "count    100000.000000\n",
            "mean         14.014015\n",
            "std           6.356430\n",
            "min           0.000000\n",
            "25%           9.000000\n",
            "50%          15.000000\n",
            "75%          19.000000\n",
            "max          31.500000\n",
            "Name: Num_of_Delayed_Payment, dtype: float64\n"
          ]
        },
        {
          "output_type": "display_data",
          "data": {
            "text/plain": [
              "<Figure size 576x360 with 1 Axes>"
            ],
            "image/png": "[encoded data removed]"
          },
          "metadata": {
            "needs_background": "light"
          }
        },
        {
          "output_type": "stream",
          "name": "stdout",
          "text": [
            "*******************************\n",
            "11 \n",
            "\n",
            "Monthly_Balance -Antes\n",
            "\n",
            "count                                98800\n",
            "unique                               98792\n",
            "top       __-333333333333333333333333333__\n",
            "freq                                     9\n",
            "Name: Monthly_Balance, dtype: object\n"
          ]
        },
        {
          "output_type": "display_data",
          "data": {
            "text/plain": [
              "<Figure size 576x360 with 1 Axes>"
            ],
            "image/png": "[encoded data removed]"
          },
          "metadata": {
            "needs_background": "light"
          }
        },
        {
          "output_type": "stream",
          "name": "stdout",
          "text": [
            "\n",
            "\n",
            " Monthly_Balance -Despues\n",
            "count    100000.000000\n",
            "mean        392.960628\n",
            "std         179.051011\n",
            "min           0.007760\n",
            "25%         270.913865\n",
            "50%         338.672152\n",
            "75%         478.580624\n",
            "max         770.497401\n",
            "Name: Monthly_Balance, dtype: float64\n"
          ]
        },
        {
          "output_type": "display_data",
          "data": {
            "text/plain": [
              "<Figure size 576x360 with 1 Axes>"
            ],
            "image/png": "[encoded data removed]"
          },
          "metadata": {
            "needs_background": "light"
          }
        },
        {
          "output_type": "stream",
          "name": "stdout",
          "text": [
            "*******************************\n",
            "12 \n",
            "\n",
            "Total_EMI_per_month -Antes\n",
            "\n",
            "count    100000.000000\n",
            "mean       1403.118217\n",
            "std        8306.041270\n",
            "min           0.000000\n",
            "25%          30.306660\n",
            "50%          69.249473\n",
            "75%         161.224249\n",
            "max       82331.000000\n",
            "Name: Total_EMI_per_month, dtype: float64\n"
          ]
        },
        {
          "output_type": "display_data",
          "data": {
            "text/plain": [
              "<Figure size 576x360 with 1 Axes>"
            ],
            "image/png": "[encoded data removed]"
          },
          "metadata": {
            "needs_background": "light"
          }
        },
        {
          "output_type": "stream",
          "name": "stdout",
          "text": [
            "\n",
            "\n",
            " Total_EMI_per_month -Despues\n",
            "count    100000.000000\n",
            "mean        108.054040\n",
            "std         104.531770\n",
            "min           0.000000\n",
            "25%          30.306660\n",
            "50%          69.249473\n",
            "75%         161.224249\n",
            "max         357.600632\n",
            "Name: Total_EMI_per_month, dtype: float64\n"
          ]
        },
        {
          "output_type": "display_data",
          "data": {
            "text/plain": [
              "<Figure size 576x360 with 1 Axes>"
            ],
            "image/png": "[encoded data removed]"
          },
          "metadata": {
            "needs_background": "light"
          }
        },
        {
          "output_type": "stream",
          "name": "stdout",
          "text": [
            "*******************************\n",
            "13 \n",
            "\n",
            "Num_Credit_Card -Antes\n",
            "\n",
            "count    100000.00000\n",
            "mean         22.47443\n",
            "std         129.05741\n",
            "min           0.00000\n",
            "25%           4.00000\n",
            "50%           5.00000\n",
            "75%           7.00000\n",
            "max        1499.00000\n",
            "Name: Num_Credit_Card, dtype: float64\n"
          ]
        },
        {
          "output_type": "display_data",
          "data": {
            "text/plain": [
              "<Figure size 576x360 with 1 Axes>"
            ],
            "image/png": "[encoded data removed]"
          },
          "metadata": {
            "needs_background": "light"
          }
        },
        {
          "output_type": "stream",
          "name": "stdout",
          "text": [
            "\n",
            "\n",
            " Num_Credit_Card -Despues\n",
            "count    100000.000000\n",
            "mean          5.668825\n",
            "std           2.229002\n",
            "min           0.000000\n",
            "25%           4.000000\n",
            "50%           5.000000\n",
            "75%           7.000000\n",
            "max          11.500000\n",
            "Name: Num_Credit_Card, dtype: float64\n"
          ]
        },
        {
          "output_type": "display_data",
          "data": {
            "text/plain": [
              "<Figure size 576x360 with 1 Axes>"
            ],
            "image/png": "[encoded data removed]"
          },
          "metadata": {
            "needs_background": "light"
          }
        },
        {
          "output_type": "stream",
          "name": "stdout",
          "text": [
            "*******************************\n",
            "14 \n",
            "\n",
            "Num_Credit_Inquiries -Antes\n",
            "\n",
            "count    98035.000000\n",
            "mean        27.754251\n",
            "std        193.177339\n",
            "min          0.000000\n",
            "25%          3.000000\n",
            "50%          6.000000\n",
            "75%          9.000000\n",
            "max       2597.000000\n",
            "Name: Num_Credit_Inquiries, dtype: float64\n"
          ]
        },
        {
          "output_type": "display_data",
          "data": {
            "text/plain": [
              "<Figure size 576x360 with 1 Axes>"
            ],
            "image/png": "[encoded data removed]"
          },
          "metadata": {
            "needs_background": "light"
          }
        },
        {
          "output_type": "stream",
          "name": "stdout",
          "text": [
            "\n",
            "\n",
            " Num_Credit_Inquiries -Despues\n",
            "count    100000.000000\n",
            "mean          5.947730\n",
            "std           4.106622\n",
            "min           0.000000\n",
            "25%           3.000000\n",
            "50%           5.000000\n",
            "75%           9.000000\n",
            "max          18.000000\n",
            "Name: Num_Credit_Inquiries, dtype: float64\n"
          ]
        },
        {
          "output_type": "display_data",
          "data": {
            "text/plain": [
              "<Figure size 576x360 with 1 Axes>"
            ],
            "image/png": "[encoded data removed]"
          },
          "metadata": {
            "needs_background": "light"
          }
        },
        {
          "output_type": "stream",
          "name": "stdout",
          "text": [
            "*******************************\n",
            "15 \n",
            "\n",
            "Num_of_Loan -Antes\n",
            "\n",
            "count     100000\n",
            "unique       434\n",
            "top            3\n",
            "freq       14386\n",
            "Name: Num_of_Loan, dtype: object\n"
          ]
        },
        {
          "output_type": "display_data",
          "data": {
            "text/plain": [
              "<Figure size 576x360 with 1 Axes>"
            ],
            "image/png": "[encoded data removed]"
          },
          "metadata": {
            "needs_background": "light"
          }
        },
        {
          "output_type": "stream",
          "name": "stdout",
          "text": [
            "\n",
            "\n",
            " Num_of_Loan -Despues\n",
            "count    100000.000000\n",
            "mean          3.405000\n",
            "std           2.484926\n",
            "min           0.000000\n",
            "25%           2.000000\n",
            "50%           3.000000\n",
            "75%           5.000000\n",
            "max          11.000000\n",
            "Name: Num_of_Loan, dtype: float64\n"
          ]
        },
        {
          "output_type": "display_data",
          "data": {
            "text/plain": [
              "<Figure size 576x360 with 1 Axes>"
            ],
            "image/png": "[encoded data removed]"
          },
          "metadata": {
            "needs_background": "light"
          }
        },
        {
          "output_type": "stream",
          "name": "stdout",
          "text": [
            "*******************************\n",
            "\n",
            " se procesaron:  15  variables!\n"
          ]
        }
      ],
      "source": [
        "i=1\n",
        "for colmas in colobject:\n",
        "  print(i,'\\n')\n",
        "  print(colmas,'-Antes\\n')\n",
        "  print(df_full[colmas].describe())\n",
        "  df_full[colmas]=pd.to_numeric(df_full[colmas], errors='coerce')\n",
        "  plt.figure(figsize=(8,5))\n",
        "  stud_bplt = df_full.boxplot(column = [colmas],  rot = 90, fontsize= '10', grid = True)\n",
        "  stud_bplt.plot()\n",
        "  plt.show()\n",
        "  Q3colmas=df_full[colmas].quantile(q=.75)\n",
        "  Q1colmas=df_full[colmas].quantile(q=.25)\n",
        "  topemaxcolmas=(Q3colmas-Q1colmas)*1.5+Q3colmas\n",
        "  topemincolmas=max(-(Q3colmas-Q1colmas)*1.5+Q1colmas,0)\n",
        "  df_full.loc[df_full[colmas] > topemaxcolmas, colmas] = topemaxcolmas\n",
        "  df_full.loc[df_full[colmas] < topemincolmas, colmas] = topemincolmas\n",
        "  df_full[colmas].fillna(value=mode (df_full[colmas]), inplace=True)\n",
        "  print('\\n\\n',colmas,'-Despues')\n",
        "  print(df_full[colmas].describe())\n",
        "  plt.figure(figsize=(8,5))\n",
        "  stud_bplt = df_full.boxplot(column = [colmas],  rot = 90, fontsize= '10', grid = True)\n",
        "  stud_bplt.plot()\n",
        "  plt.show()\n",
        "  i=i+1\n",
        "  print('*******************************')\n",
        "print('\\n se procesaron: ',i-1,' variables!')\n",
        "  \n"
      ]
    },
    {
      "cell_type": "code",
      "execution_count": null,
      "metadata": {
        "colab": {
          "base_uri": "https://localhost:8080/",
          "height": 520
        },
        "id": "OXiw5JaLTtUz",
        "outputId": "1ae91244-601d-412d-9ee5-d684cdcab9d1"
      },
      "outputs": [
        {
          "output_type": "execute_result",
          "data": {
            "text/plain": [
              "                             count     mean      std     min      25%  \\\n",
              "Amount_invested_monthly   100000.0   202.52   157.11    0.00    77.02   \n",
              "Changed_Credit_Limit      100000.0    10.20     6.79    0.00     4.97   \n",
              "Interest_Rate             100000.0    15.01     9.26    1.00     8.00   \n",
              "Outstanding_Debt          100000.0  1426.87  1112.58    0.23   571.65   \n",
              "Age                       100000.0    33.90    11.86    0.00    25.00   \n",
              "Monthly_Inhand_Salary     100000.0  5410.56  4117.57  303.65  1792.08   \n",
              "Delay_from_due_date       100000.0    20.91    14.41    0.00    10.00   \n",
              "Num_Bank_Accounts         100000.0     5.47     2.72    0.00     3.00   \n",
              "Credit_Utilization_Ratio  100000.0    32.29     5.12   20.00    28.05   \n",
              "Num_of_Delayed_Payment    100000.0    14.01     6.36    0.00     9.00   \n",
              "Monthly_Balance           100000.0   392.96   179.05    0.01   270.91   \n",
              "Total_EMI_per_month       100000.0   108.05   104.53    0.00    30.31   \n",
              "Num_Credit_Card           100000.0     5.67     2.23    0.00     4.00   \n",
              "Num_Credit_Inquiries      100000.0     5.95     4.11    0.00     3.00   \n",
              "Num_of_Loan               100000.0     3.40     2.48    0.00     2.00   \n",
              "\n",
              "                              50%      75%       max  \n",
              "Amount_invested_monthly    143.13   304.77    483.68  \n",
              "Changed_Credit_Limit         9.25    14.66     29.20  \n",
              "Interest_Rate               13.00    20.00     38.00  \n",
              "Outstanding_Debt          1175.88  1996.60   4021.38  \n",
              "Age                         34.00    42.00     69.00  \n",
              "Monthly_Inhand_Salary     3852.74  8595.46  12455.27  \n",
              "Delay_from_due_date         18.00    28.00     55.00  \n",
              "Num_Bank_Accounts            6.00     7.00     13.00  \n",
              "Credit_Utilization_Ratio    32.31    36.50     49.16  \n",
              "Num_of_Delayed_Payment      15.00    19.00     31.50  \n",
              "Monthly_Balance            338.67   478.58    770.50  \n",
              "Total_EMI_per_month         69.25   161.22    357.60  \n",
              "Num_Credit_Card              5.00     7.00     11.50  \n",
              "Num_Credit_Inquiries         5.00     9.00     18.00  \n",
              "Num_of_Loan                  3.00     5.00     11.00  "
            ],
            "text/html": [
              "\n",
              "  <div id=\"df-9fa28920-f96f-441f-bc47-24d4fb35a499\">\n",
              "    <div class=\"colab-df-container\">\n",
              "      <div>\n",
              "<style scoped>\n",
              "    .dataframe tbody tr th:only-of-type {\n",
              "        vertical-align: middle;\n",
              "    }\n",
              "\n",
              "    .dataframe tbody tr th {\n",
              "        vertical-align: top;\n",
              "    }\n",
              "\n",
              "    .dataframe thead th {\n",
              "        text-align: right;\n",
              "    }\n",
              "</style>\n",
              "<table border=\"1\" class=\"dataframe\">\n",
              "  <thead>\n",
              "    <tr style=\"text-align: right;\">\n",
              "      <th></th>\n",
              "      <th>count</th>\n",
              "      <th>mean</th>\n",
              "      <th>std</th>\n",
              "      <th>min</th>\n",
              "      <th>25%</th>\n",
              "      <th>50%</th>\n",
              "      <th>75%</th>\n",
              "      <th>max</th>\n",
              "    </tr>\n",
              "  </thead>\n",
              "  <tbody>\n",
              "    <tr>\n",
              "      <th>Amount_invested_monthly</th>\n",
              "      <td>100000.0</td>\n",
              "      <td>202.52</td>\n",
              "      <td>157.11</td>\n",
              "      <td>0.00</td>\n",
              "      <td>77.02</td>\n",
              "      <td>143.13</td>\n",
              "      <td>304.77</td>\n",
              "      <td>483.68</td>\n",
              "    </tr>\n",
              "    <tr>\n",
              "      <th>Changed_Credit_Limit</th>\n",
              "      <td>100000.0</td>\n",
              "      <td>10.20</td>\n",
              "      <td>6.79</td>\n",
              "      <td>0.00</td>\n",
              "      <td>4.97</td>\n",
              "      <td>9.25</td>\n",
              "      <td>14.66</td>\n",
              "      <td>29.20</td>\n",
              "    </tr>\n",
              "    <tr>\n",
              "      <th>Interest_Rate</th>\n",
              "      <td>100000.0</td>\n",
              "      <td>15.01</td>\n",
              "      <td>9.26</td>\n",
              "      <td>1.00</td>\n",
              "      <td>8.00</td>\n",
              "      <td>13.00</td>\n",
              "      <td>20.00</td>\n",
              "      <td>38.00</td>\n",
              "    </tr>\n",
              "    <tr>\n",
              "      <th>Outstanding_Debt</th>\n",
              "      <td>100000.0</td>\n",
              "      <td>1426.87</td>\n",
              "      <td>1112.58</td>\n",
              "      <td>0.23</td>\n",
              "      <td>571.65</td>\n",
              "      <td>1175.88</td>\n",
              "      <td>1996.60</td>\n",
              "      <td>4021.38</td>\n",
              "    </tr>\n",
              "    <tr>\n",
              "      <th>Age</th>\n",
              "      <td>100000.0</td>\n",
              "      <td>33.90</td>\n",
              "      <td>11.86</td>\n",
              "      <td>0.00</td>\n",
              "      <td>25.00</td>\n",
              "      <td>34.00</td>\n",
              "      <td>42.00</td>\n",
              "      <td>69.00</td>\n",
              "    </tr>\n",
              "    <tr>\n",
              "      <th>Monthly_Inhand_Salary</th>\n",
              "      <td>100000.0</td>\n",
              "      <td>5410.56</td>\n",
              "      <td>4117.57</td>\n",
              "      <td>303.65</td>\n",
              "      <td>1792.08</td>\n",
              "      <td>3852.74</td>\n",
              "      <td>8595.46</td>\n",
              "      <td>12455.27</td>\n",
              "    </tr>\n",
              "    <tr>\n",
              "      <th>Delay_from_due_date</th>\n",
              "      <td>100000.0</td>\n",
              "      <td>20.91</td>\n",
              "      <td>14.41</td>\n",
              "      <td>0.00</td>\n",
              "      <td>10.00</td>\n",
              "      <td>18.00</td>\n",
              "      <td>28.00</td>\n",
              "      <td>55.00</td>\n",
              "    </tr>\n",
              "    <tr>\n",
              "      <th>Num_Bank_Accounts</th>\n",
              "      <td>100000.0</td>\n",
              "      <td>5.47</td>\n",
              "      <td>2.72</td>\n",
              "      <td>0.00</td>\n",
              "      <td>3.00</td>\n",
              "      <td>6.00</td>\n",
              "      <td>7.00</td>\n",
              "      <td>13.00</td>\n",
              "    </tr>\n",
              "    <tr>\n",
              "      <th>Credit_Utilization_Ratio</th>\n",
              "      <td>100000.0</td>\n",
              "      <td>32.29</td>\n",
              "      <td>5.12</td>\n",
              "      <td>20.00</td>\n",
              "      <td>28.05</td>\n",
              "      <td>32.31</td>\n",
              "      <td>36.50</td>\n",
              "      <td>49.16</td>\n",
              "    </tr>\n",
              "    <tr>\n",
              "      <th>Num_of_Delayed_Payment</th>\n",
              "      <td>100000.0</td>\n",
              "      <td>14.01</td>\n",
              "      <td>6.36</td>\n",
              "      <td>0.00</td>\n",
              "      <td>9.00</td>\n",
              "      <td>15.00</td>\n",
              "      <td>19.00</td>\n",
              "      <td>31.50</td>\n",
              "    </tr>\n",
              "    <tr>\n",
              "      <th>Monthly_Balance</th>\n",
              "      <td>100000.0</td>\n",
              "      <td>392.96</td>\n",
              "      <td>179.05</td>\n",
              "      <td>0.01</td>\n",
              "      <td>270.91</td>\n",
              "      <td>338.67</td>\n",
              "      <td>478.58</td>\n",
              "      <td>770.50</td>\n",
              "    </tr>\n",
              "    <tr>\n",
              "      <th>Total_EMI_per_month</th>\n",
              "      <td>100000.0</td>\n",
              "      <td>108.05</td>\n",
              "      <td>104.53</td>\n",
              "      <td>0.00</td>\n",
              "      <td>30.31</td>\n",
              "      <td>69.25</td>\n",
              "      <td>161.22</td>\n",
              "      <td>357.60</td>\n",
              "    </tr>\n",
              "    <tr>\n",
              "      <th>Num_Credit_Card</th>\n",
              "      <td>100000.0</td>\n",
              "      <td>5.67</td>\n",
              "      <td>2.23</td>\n",
              "      <td>0.00</td>\n",
              "      <td>4.00</td>\n",
              "      <td>5.00</td>\n",
              "      <td>7.00</td>\n",
              "      <td>11.50</td>\n",
              "    </tr>\n",
              "    <tr>\n",
              "      <th>Num_Credit_Inquiries</th>\n",
              "      <td>100000.0</td>\n",
              "      <td>5.95</td>\n",
              "      <td>4.11</td>\n",
              "      <td>0.00</td>\n",
              "      <td>3.00</td>\n",
              "      <td>5.00</td>\n",
              "      <td>9.00</td>\n",
              "      <td>18.00</td>\n",
              "    </tr>\n",
              "    <tr>\n",
              "      <th>Num_of_Loan</th>\n",
              "      <td>100000.0</td>\n",
              "      <td>3.40</td>\n",
              "      <td>2.48</td>\n",
              "      <td>0.00</td>\n",
              "      <td>2.00</td>\n",
              "      <td>3.00</td>\n",
              "      <td>5.00</td>\n",
              "      <td>11.00</td>\n",
              "    </tr>\n",
              "  </tbody>\n",
              "</table>\n",
              "</div>\n",
              "      <button class=\"colab-df-convert\" onclick=\"convertToInteractive('df-9fa28920-f96f-441f-bc47-24d4fb35a499')\"\n",
              "              title=\"Convert this dataframe to an interactive table.\"\n",
              "              style=\"display:none;\">\n",
              "        \n",
              "  <svg xmlns=\"http://www.w3.org/2000/svg\" height=\"24px\"viewBox=\"0 0 24 24\"\n",
              "       width=\"24px\">\n",
              "    <path d=\"M0 0h24v24H0V0z\" fill=\"none\"/>\n",
              "    <path d=\"M18.56 5.44l.94 2.06.94-2.06 2.06-.94-2.06-.94-.94-2.06-.94 2.06-2.06.94zm-11 1L8.5 8.5l.94-2.06 2.06-.94-2.06-.94L8.5 2.5l-.94 2.06-2.06.94zm10 10l.94 2.06.94-2.06 2.06-.94-2.06-.94-.94-2.06-.94 2.06-2.06.94z\"/><path d=\"M17.41 7.96l-1.37-1.37c-.4-.4-.92-.59-1.43-.59-.52 0-1.04.2-1.43.59L10.3 9.45l-7.72 7.72c-.78.78-.78 2.05 0 2.83L4 21.41c.39.39.9.59 1.41.59.51 0 1.02-.2 1.41-.59l7.78-7.78 2.81-2.81c.8-.78.8-2.07 0-2.86zM5.41 20L4 18.59l7.72-7.72 1.47 1.35L5.41 20z\"/>\n",
              "  </svg>\n",
              "      </button>\n",
              "      \n",
              "  <style>\n",
              "    .colab-df-container {\n",
              "      display:flex;\n",
              "      flex-wrap:wrap;\n",
              "      gap: 12px;\n",
              "    }\n",
              "\n",
              "    .colab-df-convert {\n",
              "      background-color: #E8F0FE;\n",
              "      border: none;\n",
              "      border-radius: 50%;\n",
              "      cursor: pointer;\n",
              "      display: none;\n",
              "      fill: #1967D2;\n",
              "      height: 32px;\n",
              "      padding: 0 0 0 0;\n",
              "      width: 32px;\n",
              "    }\n",
              "\n",
              "    .colab-df-convert:hover {\n",
              "      background-color: #E2EBFA;\n",
              "      box-shadow: 0px 1px 2px rgba(60, 64, 67, 0.3), 0px 1px 3px 1px rgba(60, 64, 67, 0.15);\n",
              "      fill: #174EA6;\n",
              "    }\n",
              "\n",
              "    [theme=dark] .colab-df-convert {\n",
              "      background-color: #3B4455;\n",
              "      fill: #D2E3FC;\n",
              "    }\n",
              "\n",
              "    [theme=dark] .colab-df-convert:hover {\n",
              "      background-color: #434B5C;\n",
              "      box-shadow: 0px 1px 3px 1px rgba(0, 0, 0, 0.15);\n",
              "      filter: drop-shadow(0px 1px 2px rgba(0, 0, 0, 0.3));\n",
              "      fill: #FFFFFF;\n",
              "    }\n",
              "  </style>\n",
              "\n",
              "      <script>\n",
              "        const buttonEl =\n",
              "          document.querySelector('#df-9fa28920-f96f-441f-bc47-24d4fb35a499 button.colab-df-convert');\n",
              "        buttonEl.style.display =\n",
              "          google.colab.kernel.accessAllowed ? 'block' : 'none';\n",
              "\n",
              "        async function convertToInteractive(key) {\n",
              "          const element = document.querySelector('#df-9fa28920-f96f-441f-bc47-24d4fb35a499');\n",
              "          const dataTable =\n",
              "            await google.colab.kernel.invokeFunction('convertToInteractive',\n",
              "                                                     [key], {});\n",
              "          if (!dataTable) return;\n",
              "\n",
              "          const docLinkHtml = 'Like what you see? Visit the ' +\n",
              "            '<a target=\"_blank\" href=https://colab.research.google.com/notebooks/data_table.ipynb>data table notebook</a>'\n",
              "            + ' to learn more about interactive tables.';\n",
              "          element.innerHTML = '';\n",
              "          dataTable['output_type'] = 'display_data';\n",
              "          await google.colab.output.renderOutput(dataTable, element);\n",
              "          const docLink = document.createElement('div');\n",
              "          docLink.innerHTML = docLinkHtml;\n",
              "          element.appendChild(docLink);\n",
              "        }\n",
              "      </script>\n",
              "    </div>\n",
              "  </div>\n",
              "  "
            ]
          },
          "metadata": {},
          "execution_count": 28
        }
      ],
      "source": [
        "#Ahora miramos como quedaron.\n",
        "df_full[{'Age','Monthly_Inhand_Salary', 'Num_Bank_Accounts',\n",
        "       'Num_Credit_Card', 'Interest_Rate', 'Num_of_Loan','Delay_from_due_date', 'Num_of_Delayed_Payment', 'Changed_Credit_Limit',\n",
        "       'Num_Credit_Inquiries', 'Outstanding_Debt',\n",
        "       'Credit_Utilization_Ratio',  'Total_EMI_per_month',\n",
        "       'Amount_invested_monthly','Monthly_Balance'}].describe().round(2).T"
      ]
    },
    {
      "cell_type": "markdown",
      "metadata": {
        "id": "6bmb7j7hbOyz"
      },
      "source": [
        "Ahora nos faltan tratar las siguientes columnas:\n",
        "['ID', 'Customer_ID', 'Month', 'Name','SSN', 'Occupation',\n",
        "       'Type_of_Loan','Credit_Mix','Credit_History_Age',\n",
        "       'Payment_of_Min_Amount', 'Payment_Behaviour','Credit_Score']"
      ]
    },
    {
      "cell_type": "code",
      "execution_count": null,
      "metadata": {
        "colab": {
          "base_uri": "https://localhost:8080/",
          "height": 337
        },
        "id": "9bUGq76gbSdt",
        "outputId": "9ff4ff61-f6bb-4445-9582-8cb3875281b5"
      },
      "outputs": [
        {
          "output_type": "execute_result",
          "data": {
            "text/plain": [
              "  Occupation Payment_of_Min_Amount Credit_Mix  \\\n",
              "0  Scientist                    No          _   \n",
              "1  Scientist                    No       Good   \n",
              "2  Scientist                    No       Good   \n",
              "3  Scientist                    No       Good   \n",
              "4  Scientist                    No       Good   \n",
              "\n",
              "                  Payment_Behaviour Credit_Score     Credit_History_Age  \\\n",
              "0   High_spent_Small_value_payments         Good  22 Years and 1 Months   \n",
              "1    Low_spent_Large_value_payments         Good                    NaN   \n",
              "2   Low_spent_Medium_value_payments         Good  22 Years and 3 Months   \n",
              "3    Low_spent_Small_value_payments         Good  22 Years and 4 Months   \n",
              "4  High_spent_Medium_value_payments         Good  22 Years and 5 Months   \n",
              "\n",
              "           SSN Customer_ID      ID     Month  \\\n",
              "0  821-00-0265   CUS_0xd40  0x1602   January   \n",
              "1  821-00-0265   CUS_0xd40  0x1603  February   \n",
              "2  821-00-0265   CUS_0xd40  0x1604     March   \n",
              "3  821-00-0265   CUS_0xd40  0x1605     April   \n",
              "4  821-00-0265   CUS_0xd40  0x1606       May   \n",
              "\n",
              "                                        Type_of_Loan           Name  \n",
              "0  Auto Loan, Credit-Builder Loan, Personal Loan,...  Aaron Maashoh  \n",
              "1  Auto Loan, Credit-Builder Loan, Personal Loan,...  Aaron Maashoh  \n",
              "2  Auto Loan, Credit-Builder Loan, Personal Loan,...  Aaron Maashoh  \n",
              "3  Auto Loan, Credit-Builder Loan, Personal Loan,...  Aaron Maashoh  \n",
              "4  Auto Loan, Credit-Builder Loan, Personal Loan,...  Aaron Maashoh  "
            ],
            "text/html": [
              "\n",
              "  <div id=\"df-86410609-bf58-4f78-a6f5-34d12cc0a96b\">\n",
              "    <div class=\"colab-df-container\">\n",
              "      <div>\n",
              "<style scoped>\n",
              "    .dataframe tbody tr th:only-of-type {\n",
              "        vertical-align: middle;\n",
              "    }\n",
              "\n",
              "    .dataframe tbody tr th {\n",
              "        vertical-align: top;\n",
              "    }\n",
              "\n",
              "    .dataframe thead th {\n",
              "        text-align: right;\n",
              "    }\n",
              "</style>\n",
              "<table border=\"1\" class=\"dataframe\">\n",
              "  <thead>\n",
              "    <tr style=\"text-align: right;\">\n",
              "      <th></th>\n",
              "      <th>Occupation</th>\n",
              "      <th>Payment_of_Min_Amount</th>\n",
              "      <th>Credit_Mix</th>\n",
              "      <th>Payment_Behaviour</th>\n",
              "      <th>Credit_Score</th>\n",
              "      <th>Credit_History_Age</th>\n",
              "      <th>SSN</th>\n",
              "      <th>Customer_ID</th>\n",
              "      <th>ID</th>\n",
              "      <th>Month</th>\n",
              "      <th>Type_of_Loan</th>\n",
              "      <th>Name</th>\n",
              "    </tr>\n",
              "  </thead>\n",
              "  <tbody>\n",
              "    <tr>\n",
              "      <th>0</th>\n",
              "      <td>Scientist</td>\n",
              "      <td>No</td>\n",
              "      <td>_</td>\n",
              "      <td>High_spent_Small_value_payments</td>\n",
              "      <td>Good</td>\n",
              "      <td>22 Years and 1 Months</td>\n",
              "      <td>821-00-0265</td>\n",
              "      <td>CUS_0xd40</td>\n",
              "      <td>0x1602</td>\n",
              "      <td>January</td>\n",
              "      <td>Auto Loan, Credit-Builder Loan, Personal Loan,...</td>\n",
              "      <td>Aaron Maashoh</td>\n",
              "    </tr>\n",
              "    <tr>\n",
              "      <th>1</th>\n",
              "      <td>Scientist</td>\n",
              "      <td>No</td>\n",
              "      <td>Good</td>\n",
              "      <td>Low_spent_Large_value_payments</td>\n",
              "      <td>Good</td>\n",
              "      <td>NaN</td>\n",
              "      <td>821-00-0265</td>\n",
              "      <td>CUS_0xd40</td>\n",
              "      <td>0x1603</td>\n",
              "      <td>February</td>\n",
              "      <td>Auto Loan, Credit-Builder Loan, Personal Loan,...</td>\n",
              "      <td>Aaron Maashoh</td>\n",
              "    </tr>\n",
              "    <tr>\n",
              "      <th>2</th>\n",
              "      <td>Scientist</td>\n",
              "      <td>No</td>\n",
              "      <td>Good</td>\n",
              "      <td>Low_spent_Medium_value_payments</td>\n",
              "      <td>Good</td>\n",
              "      <td>22 Years and 3 Months</td>\n",
              "      <td>821-00-0265</td>\n",
              "      <td>CUS_0xd40</td>\n",
              "      <td>0x1604</td>\n",
              "      <td>March</td>\n",
              "      <td>Auto Loan, Credit-Builder Loan, Personal Loan,...</td>\n",
              "      <td>Aaron Maashoh</td>\n",
              "    </tr>\n",
              "    <tr>\n",
              "      <th>3</th>\n",
              "      <td>Scientist</td>\n",
              "      <td>No</td>\n",
              "      <td>Good</td>\n",
              "      <td>Low_spent_Small_value_payments</td>\n",
              "      <td>Good</td>\n",
              "      <td>22 Years and 4 Months</td>\n",
              "      <td>821-00-0265</td>\n",
              "      <td>CUS_0xd40</td>\n",
              "      <td>0x1605</td>\n",
              "      <td>April</td>\n",
              "      <td>Auto Loan, Credit-Builder Loan, Personal Loan,...</td>\n",
              "      <td>Aaron Maashoh</td>\n",
              "    </tr>\n",
              "    <tr>\n",
              "      <th>4</th>\n",
              "      <td>Scientist</td>\n",
              "      <td>No</td>\n",
              "      <td>Good</td>\n",
              "      <td>High_spent_Medium_value_payments</td>\n",
              "      <td>Good</td>\n",
              "      <td>22 Years and 5 Months</td>\n",
              "      <td>821-00-0265</td>\n",
              "      <td>CUS_0xd40</td>\n",
              "      <td>0x1606</td>\n",
              "      <td>May</td>\n",
              "      <td>Auto Loan, Credit-Builder Loan, Personal Loan,...</td>\n",
              "      <td>Aaron Maashoh</td>\n",
              "    </tr>\n",
              "  </tbody>\n",
              "</table>\n",
              "</div>\n",
              "      <button class=\"colab-df-convert\" onclick=\"convertToInteractive('df-86410609-bf58-4f78-a6f5-34d12cc0a96b')\"\n",
              "              title=\"Convert this dataframe to an interactive table.\"\n",
              "              style=\"display:none;\">\n",
              "        \n",
              "  <svg xmlns=\"http://www.w3.org/2000/svg\" height=\"24px\"viewBox=\"0 0 24 24\"\n",
              "       width=\"24px\">\n",
              "    <path d=\"M0 0h24v24H0V0z\" fill=\"none\"/>\n",
              "    <path d=\"M18.56 5.44l.94 2.06.94-2.06 2.06-.94-2.06-.94-.94-2.06-.94 2.06-2.06.94zm-11 1L8.5 8.5l.94-2.06 2.06-.94-2.06-.94L8.5 2.5l-.94 2.06-2.06.94zm10 10l.94 2.06.94-2.06 2.06-.94-2.06-.94-.94-2.06-.94 2.06-2.06.94z\"/><path d=\"M17.41 7.96l-1.37-1.37c-.4-.4-.92-.59-1.43-.59-.52 0-1.04.2-1.43.59L10.3 9.45l-7.72 7.72c-.78.78-.78 2.05 0 2.83L4 21.41c.39.39.9.59 1.41.59.51 0 1.02-.2 1.41-.59l7.78-7.78 2.81-2.81c.8-.78.8-2.07 0-2.86zM5.41 20L4 18.59l7.72-7.72 1.47 1.35L5.41 20z\"/>\n",
              "  </svg>\n",
              "      </button>\n",
              "      \n",
              "  <style>\n",
              "    .colab-df-container {\n",
              "      display:flex;\n",
              "      flex-wrap:wrap;\n",
              "      gap: 12px;\n",
              "    }\n",
              "\n",
              "    .colab-df-convert {\n",
              "      background-color: #E8F0FE;\n",
              "      border: none;\n",
              "      border-radius: 50%;\n",
              "      cursor: pointer;\n",
              "      display: none;\n",
              "      fill: #1967D2;\n",
              "      height: 32px;\n",
              "      padding: 0 0 0 0;\n",
              "      width: 32px;\n",
              "    }\n",
              "\n",
              "    .colab-df-convert:hover {\n",
              "      background-color: #E2EBFA;\n",
              "      box-shadow: 0px 1px 2px rgba(60, 64, 67, 0.3), 0px 1px 3px 1px rgba(60, 64, 67, 0.15);\n",
              "      fill: #174EA6;\n",
              "    }\n",
              "\n",
              "    [theme=dark] .colab-df-convert {\n",
              "      background-color: #3B4455;\n",
              "      fill: #D2E3FC;\n",
              "    }\n",
              "\n",
              "    [theme=dark] .colab-df-convert:hover {\n",
              "      background-color: #434B5C;\n",
              "      box-shadow: 0px 1px 3px 1px rgba(0, 0, 0, 0.15);\n",
              "      filter: drop-shadow(0px 1px 2px rgba(0, 0, 0, 0.3));\n",
              "      fill: #FFFFFF;\n",
              "    }\n",
              "  </style>\n",
              "\n",
              "      <script>\n",
              "        const buttonEl =\n",
              "          document.querySelector('#df-86410609-bf58-4f78-a6f5-34d12cc0a96b button.colab-df-convert');\n",
              "        buttonEl.style.display =\n",
              "          google.colab.kernel.accessAllowed ? 'block' : 'none';\n",
              "\n",
              "        async function convertToInteractive(key) {\n",
              "          const element = document.querySelector('#df-86410609-bf58-4f78-a6f5-34d12cc0a96b');\n",
              "          const dataTable =\n",
              "            await google.colab.kernel.invokeFunction('convertToInteractive',\n",
              "                                                     [key], {});\n",
              "          if (!dataTable) return;\n",
              "\n",
              "          const docLinkHtml = 'Like what you see? Visit the ' +\n",
              "            '<a target=\"_blank\" href=https://colab.research.google.com/notebooks/data_table.ipynb>data table notebook</a>'\n",
              "            + ' to learn more about interactive tables.';\n",
              "          element.innerHTML = '';\n",
              "          dataTable['output_type'] = 'display_data';\n",
              "          await google.colab.output.renderOutput(dataTable, element);\n",
              "          const docLink = document.createElement('div');\n",
              "          docLink.innerHTML = docLinkHtml;\n",
              "          element.appendChild(docLink);\n",
              "        }\n",
              "      </script>\n",
              "    </div>\n",
              "  </div>\n",
              "  "
            ]
          },
          "metadata": {},
          "execution_count": 29
        }
      ],
      "source": [
        "#miramos un poco las columnas\n",
        "df_full[{'ID', 'Customer_ID', 'Month', 'Name','SSN', 'Occupation', 'Type_of_Loan','Credit_Mix','Credit_History_Age', 'Payment_of_Min_Amount', 'Payment_Behaviour','Credit_Score'}].head()"
      ]
    },
    {
      "cell_type": "markdown",
      "metadata": {
        "id": "BwmFbj2fdo55"
      },
      "source": [
        "# Imputación del resto de variables\n",
        "['Customer_ID', 'Month','Occupation', 'Type_of_Loan','Credit_Mix','Credit_History_Age', 'Payment_of_Min_Amount', 'Payment_Behaviour','Credit_Score']"
      ]
    },
    {
      "cell_type": "code",
      "execution_count": null,
      "metadata": {
        "colab": {
          "base_uri": "https://localhost:8080/",
          "height": 206
        },
        "id": "8ubRK8YKfUxr",
        "outputId": "ac147179-c817-43d6-84e8-b09894f1c74d"
      },
      "outputs": [
        {
          "output_type": "execute_result",
          "data": {
            "text/plain": [
              "  Occupation Payment_of_Min_Amount Credit_Mix  \\\n",
              "0  Scientist                    No          _   \n",
              "1  Scientist                    No       Good   \n",
              "2  Scientist                    No       Good   \n",
              "3  Scientist                    No       Good   \n",
              "4  Scientist                    No       Good   \n",
              "\n",
              "                  Payment_Behaviour Credit_Score     Credit_History_Age  \\\n",
              "0   High_spent_Small_value_payments         Good  22 Years and 1 Months   \n",
              "1    Low_spent_Large_value_payments         Good                    NaN   \n",
              "2   Low_spent_Medium_value_payments         Good  22 Years and 3 Months   \n",
              "3    Low_spent_Small_value_payments         Good  22 Years and 4 Months   \n",
              "4  High_spent_Medium_value_payments         Good  22 Years and 5 Months   \n",
              "\n",
              "  Customer_ID     Month                                       Type_of_Loan  \n",
              "0   CUS_0xd40   January  Auto Loan, Credit-Builder Loan, Personal Loan,...  \n",
              "1   CUS_0xd40  February  Auto Loan, Credit-Builder Loan, Personal Loan,...  \n",
              "2   CUS_0xd40     March  Auto Loan, Credit-Builder Loan, Personal Loan,...  \n",
              "3   CUS_0xd40     April  Auto Loan, Credit-Builder Loan, Personal Loan,...  \n",
              "4   CUS_0xd40       May  Auto Loan, Credit-Builder Loan, Personal Loan,...  "
            ],
            "text/html": [
              "\n",
              "  <div id=\"df-c08a879e-c655-4bbd-ad34-3a54c0513e24\">\n",
              "    <div class=\"colab-df-container\">\n",
              "      <div>\n",
              "<style scoped>\n",
              "    .dataframe tbody tr th:only-of-type {\n",
              "        vertical-align: middle;\n",
              "    }\n",
              "\n",
              "    .dataframe tbody tr th {\n",
              "        vertical-align: top;\n",
              "    }\n",
              "\n",
              "    .dataframe thead th {\n",
              "        text-align: right;\n",
              "    }\n",
              "</style>\n",
              "<table border=\"1\" class=\"dataframe\">\n",
              "  <thead>\n",
              "    <tr style=\"text-align: right;\">\n",
              "      <th></th>\n",
              "      <th>Occupation</th>\n",
              "      <th>Payment_of_Min_Amount</th>\n",
              "      <th>Credit_Mix</th>\n",
              "      <th>Payment_Behaviour</th>\n",
              "      <th>Credit_Score</th>\n",
              "      <th>Credit_History_Age</th>\n",
              "      <th>Customer_ID</th>\n",
              "      <th>Month</th>\n",
              "      <th>Type_of_Loan</th>\n",
              "    </tr>\n",
              "  </thead>\n",
              "  <tbody>\n",
              "    <tr>\n",
              "      <th>0</th>\n",
              "      <td>Scientist</td>\n",
              "      <td>No</td>\n",
              "      <td>_</td>\n",
              "      <td>High_spent_Small_value_payments</td>\n",
              "      <td>Good</td>\n",
              "      <td>22 Years and 1 Months</td>\n",
              "      <td>CUS_0xd40</td>\n",
              "      <td>January</td>\n",
              "      <td>Auto Loan, Credit-Builder Loan, Personal Loan,...</td>\n",
              "    </tr>\n",
              "    <tr>\n",
              "      <th>1</th>\n",
              "      <td>Scientist</td>\n",
              "      <td>No</td>\n",
              "      <td>Good</td>\n",
              "      <td>Low_spent_Large_value_payments</td>\n",
              "      <td>Good</td>\n",
              "      <td>NaN</td>\n",
              "      <td>CUS_0xd40</td>\n",
              "      <td>February</td>\n",
              "      <td>Auto Loan, Credit-Builder Loan, Personal Loan,...</td>\n",
              "    </tr>\n",
              "    <tr>\n",
              "      <th>2</th>\n",
              "      <td>Scientist</td>\n",
              "      <td>No</td>\n",
              "      <td>Good</td>\n",
              "      <td>Low_spent_Medium_value_payments</td>\n",
              "      <td>Good</td>\n",
              "      <td>22 Years and 3 Months</td>\n",
              "      <td>CUS_0xd40</td>\n",
              "      <td>March</td>\n",
              "      <td>Auto Loan, Credit-Builder Loan, Personal Loan,...</td>\n",
              "    </tr>\n",
              "    <tr>\n",
              "      <th>3</th>\n",
              "      <td>Scientist</td>\n",
              "      <td>No</td>\n",
              "      <td>Good</td>\n",
              "      <td>Low_spent_Small_value_payments</td>\n",
              "      <td>Good</td>\n",
              "      <td>22 Years and 4 Months</td>\n",
              "      <td>CUS_0xd40</td>\n",
              "      <td>April</td>\n",
              "      <td>Auto Loan, Credit-Builder Loan, Personal Loan,...</td>\n",
              "    </tr>\n",
              "    <tr>\n",
              "      <th>4</th>\n",
              "      <td>Scientist</td>\n",
              "      <td>No</td>\n",
              "      <td>Good</td>\n",
              "      <td>High_spent_Medium_value_payments</td>\n",
              "      <td>Good</td>\n",
              "      <td>22 Years and 5 Months</td>\n",
              "      <td>CUS_0xd40</td>\n",
              "      <td>May</td>\n",
              "      <td>Auto Loan, Credit-Builder Loan, Personal Loan,...</td>\n",
              "    </tr>\n",
              "  </tbody>\n",
              "</table>\n",
              "</div>\n",
              "      <button class=\"colab-df-convert\" onclick=\"convertToInteractive('df-c08a879e-c655-4bbd-ad34-3a54c0513e24')\"\n",
              "              title=\"Convert this dataframe to an interactive table.\"\n",
              "              style=\"display:none;\">\n",
              "        \n",
              "  <svg xmlns=\"http://www.w3.org/2000/svg\" height=\"24px\"viewBox=\"0 0 24 24\"\n",
              "       width=\"24px\">\n",
              "    <path d=\"M0 0h24v24H0V0z\" fill=\"none\"/>\n",
              "    <path d=\"M18.56 5.44l.94 2.06.94-2.06 2.06-.94-2.06-.94-.94-2.06-.94 2.06-2.06.94zm-11 1L8.5 8.5l.94-2.06 2.06-.94-2.06-.94L8.5 2.5l-.94 2.06-2.06.94zm10 10l.94 2.06.94-2.06 2.06-.94-2.06-.94-.94-2.06-.94 2.06-2.06.94z\"/><path d=\"M17.41 7.96l-1.37-1.37c-.4-.4-.92-.59-1.43-.59-.52 0-1.04.2-1.43.59L10.3 9.45l-7.72 7.72c-.78.78-.78 2.05 0 2.83L4 21.41c.39.39.9.59 1.41.59.51 0 1.02-.2 1.41-.59l7.78-7.78 2.81-2.81c.8-.78.8-2.07 0-2.86zM5.41 20L4 18.59l7.72-7.72 1.47 1.35L5.41 20z\"/>\n",
              "  </svg>\n",
              "      </button>\n",
              "      \n",
              "  <style>\n",
              "    .colab-df-container {\n",
              "      display:flex;\n",
              "      flex-wrap:wrap;\n",
              "      gap: 12px;\n",
              "    }\n",
              "\n",
              "    .colab-df-convert {\n",
              "      background-color: #E8F0FE;\n",
              "      border: none;\n",
              "      border-radius: 50%;\n",
              "      cursor: pointer;\n",
              "      display: none;\n",
              "      fill: #1967D2;\n",
              "      height: 32px;\n",
              "      padding: 0 0 0 0;\n",
              "      width: 32px;\n",
              "    }\n",
              "\n",
              "    .colab-df-convert:hover {\n",
              "      background-color: #E2EBFA;\n",
              "      box-shadow: 0px 1px 2px rgba(60, 64, 67, 0.3), 0px 1px 3px 1px rgba(60, 64, 67, 0.15);\n",
              "      fill: #174EA6;\n",
              "    }\n",
              "\n",
              "    [theme=dark] .colab-df-convert {\n",
              "      background-color: #3B4455;\n",
              "      fill: #D2E3FC;\n",
              "    }\n",
              "\n",
              "    [theme=dark] .colab-df-convert:hover {\n",
              "      background-color: #434B5C;\n",
              "      box-shadow: 0px 1px 3px 1px rgba(0, 0, 0, 0.15);\n",
              "      filter: drop-shadow(0px 1px 2px rgba(0, 0, 0, 0.3));\n",
              "      fill: #FFFFFF;\n",
              "    }\n",
              "  </style>\n",
              "\n",
              "      <script>\n",
              "        const buttonEl =\n",
              "          document.querySelector('#df-c08a879e-c655-4bbd-ad34-3a54c0513e24 button.colab-df-convert');\n",
              "        buttonEl.style.display =\n",
              "          google.colab.kernel.accessAllowed ? 'block' : 'none';\n",
              "\n",
              "        async function convertToInteractive(key) {\n",
              "          const element = document.querySelector('#df-c08a879e-c655-4bbd-ad34-3a54c0513e24');\n",
              "          const dataTable =\n",
              "            await google.colab.kernel.invokeFunction('convertToInteractive',\n",
              "                                                     [key], {});\n",
              "          if (!dataTable) return;\n",
              "\n",
              "          const docLinkHtml = 'Like what you see? Visit the ' +\n",
              "            '<a target=\"_blank\" href=https://colab.research.google.com/notebooks/data_table.ipynb>data table notebook</a>'\n",
              "            + ' to learn more about interactive tables.';\n",
              "          element.innerHTML = '';\n",
              "          dataTable['output_type'] = 'display_data';\n",
              "          await google.colab.output.renderOutput(dataTable, element);\n",
              "          const docLink = document.createElement('div');\n",
              "          docLink.innerHTML = docLinkHtml;\n",
              "          element.appendChild(docLink);\n",
              "        }\n",
              "      </script>\n",
              "    </div>\n",
              "  </div>\n",
              "  "
            ]
          },
          "metadata": {},
          "execution_count": 30
        }
      ],
      "source": [
        "df_full[{'Customer_ID', 'Month','Occupation', 'Type_of_Loan','Credit_Mix','Credit_History_Age', 'Payment_of_Min_Amount', 'Payment_Behaviour','Credit_Score'}].head()"
      ]
    },
    {
      "cell_type": "markdown",
      "metadata": {
        "id": "d_o6En-QBGqB"
      },
      "source": [
        "## Eliminación de las columnas (ID, Name y SSN)\n"
      ]
    },
    {
      "cell_type": "markdown",
      "metadata": {
        "id": "AUFznxX9daQO"
      },
      "source": [
        "Eliminaremos las siguientes por carecer de sentido para el analisis 'ID','Name','SSN'"
      ]
    },
    {
      "cell_type": "code",
      "execution_count": null,
      "metadata": {
        "id": "Umn1gtnwBaln"
      },
      "outputs": [],
      "source": [
        " #Eliminamos las columnas ID, Name y SSN no son relevantes para nuestros estudio\n",
        " df_full = df_full.drop(['ID', 'Name', 'SSN' ],axis = 1)"
      ]
    },
    {
      "cell_type": "code",
      "execution_count": null,
      "metadata": {
        "colab": {
          "base_uri": "https://localhost:8080/"
        },
        "id": "s33ZEs1CC51v",
        "outputId": "0ecb2fe5-a494-403f-aa67-05e430caaff1"
      },
      "outputs": [
        {
          "output_type": "stream",
          "name": "stdout",
          "text": [
            "<class 'pandas.core.frame.DataFrame'>\n",
            "RangeIndex: 100000 entries, 0 to 99999\n",
            "Data columns (total 25 columns):\n",
            " #   Column                    Non-Null Count   Dtype  \n",
            "---  ------                    --------------   -----  \n",
            " 0   Customer_ID               100000 non-null  object \n",
            " 1   Month                     100000 non-null  object \n",
            " 2   Age                       100000 non-null  float64\n",
            " 3   Occupation                100000 non-null  object \n",
            " 4   Annual_Income             100000 non-null  float64\n",
            " 5   Monthly_Inhand_Salary     100000 non-null  float64\n",
            " 6   Num_Bank_Accounts         100000 non-null  int64  \n",
            " 7   Num_Credit_Card           100000 non-null  float64\n",
            " 8   Interest_Rate             100000 non-null  int64  \n",
            " 9   Num_of_Loan               100000 non-null  float64\n",
            " 10  Type_of_Loan              88592 non-null   object \n",
            " 11  Delay_from_due_date       100000 non-null  int64  \n",
            " 12  Num_of_Delayed_Payment    100000 non-null  float64\n",
            " 13  Changed_Credit_Limit      100000 non-null  float64\n",
            " 14  Num_Credit_Inquiries      100000 non-null  float64\n",
            " 15  Credit_Mix                100000 non-null  object \n",
            " 16  Outstanding_Debt          100000 non-null  float64\n",
            " 17  Credit_Utilization_Ratio  100000 non-null  float64\n",
            " 18  Credit_History_Age        90970 non-null   object \n",
            " 19  Payment_of_Min_Amount     100000 non-null  object \n",
            " 20  Total_EMI_per_month       100000 non-null  float64\n",
            " 21  Amount_invested_monthly   100000 non-null  float64\n",
            " 22  Payment_Behaviour         100000 non-null  object \n",
            " 23  Monthly_Balance           100000 non-null  float64\n",
            " 24  Credit_Score              100000 non-null  object \n",
            "dtypes: float64(13), int64(3), object(9)\n",
            "memory usage: 19.1+ MB\n"
          ]
        }
      ],
      "source": [
        "#Comprobamos la eliminación de las columnas deseadas\n",
        "df_full.info()"
      ]
    },
    {
      "cell_type": "markdown",
      "metadata": {
        "id": "H8_8y2yGd7mn"
      },
      "source": [
        "Ahora nos faltan tratar las siguientes columnas:\n",
        "* **Customer_ID** La usaremos para sumarizar.\n",
        "* **Month** La pasaremos a ordinal, y en base a ella elegiremos la forma de usar el algoritmo. (ok)\n",
        "* **Occupation** La pasaremos a dummies o clase llegado el momento\n",
        "\n",
        "* **Credit_Mix** Las pasamos a 0, 1 y -1 (ok).  Pasaremos a Dummies llegada la instancia.(falta)\n",
        "* **Payment_of_Min_Amount** La podemos pasar a 0 y 1.(ok)\n",
        "* **Credit_Score** Es nuestra variable target, la trabajaremos de 3 a 2 niveles. Ok.\n",
        "\n",
        "Variables complejas para pensar luego:\n",
        "* **Type_of_Loan** es una columna muy dificil de trabajar, la dejaremos para otra instancia.\n",
        "* **Payment_Behaviour** Es un texto con varias clases, hay que trabajarla para armar algo así como dummies o clases. Lo dejamos para despues.\n",
        "* **Credit_History_Age** Hay que hacer un trabajo de textos, la dejamos para despues."
      ]
    },
    {
      "cell_type": "markdown",
      "metadata": {
        "id": "HceAgK_lCUee"
      },
      "source": [
        "## Adecuación de la columna Month"
      ]
    },
    {
      "cell_type": "code",
      "execution_count": null,
      "metadata": {
        "colab": {
          "base_uri": "https://localhost:8080/"
        },
        "id": "zHwN-bQ1CaCv",
        "outputId": "df343294-b8e3-44d1-865e-5a7ae8582797"
      },
      "outputs": [
        {
          "output_type": "execute_result",
          "data": {
            "text/plain": [
              "January     12500\n",
              "February    12500\n",
              "March       12500\n",
              "April       12500\n",
              "May         12500\n",
              "June        12500\n",
              "July        12500\n",
              "August      12500\n",
              "Name: Month, dtype: int64"
            ]
          },
          "metadata": {},
          "execution_count": 33
        }
      ],
      "source": [
        "df_full['Month'].value_counts()"
      ]
    },
    {
      "cell_type": "markdown",
      "metadata": {
        "id": "jrrOY7TeCh84"
      },
      "source": [
        "Vemos que no hay nulos, la llevaremos a valores ordinales."
      ]
    },
    {
      "cell_type": "code",
      "execution_count": null,
      "metadata": {
        "id": "Nd69TlClEAY4"
      },
      "outputs": [],
      "source": [
        "df_full['Month'] = df_full['Month'].replace(to_replace=\"January\", value=1, regex=True)\n",
        "df_full['Month'] = df_full['Month'].replace(to_replace=\"February\", value=2, regex=True)\n",
        "df_full['Month'] = df_full['Month'].replace(to_replace=\"March\", value=3, regex=True)\n",
        "df_full['Month'] = df_full['Month'].replace(to_replace=\"April\", value=4, regex=True)\n",
        "df_full['Month'] = df_full['Month'].replace(to_replace=\"May\", value=5, regex=True)\n",
        "df_full['Month'] = df_full['Month'].replace(to_replace=\"June\", value=6, regex=True)\n",
        "df_full['Month'] = df_full['Month'].replace(to_replace=\"July\", value=7, regex=True)\n",
        "df_full['Month'] = df_full['Month'].replace(to_replace=\"August\", value=8, regex=True)"
      ]
    },
    {
      "cell_type": "code",
      "execution_count": null,
      "metadata": {
        "id": "geLDjnjCE1dL"
      },
      "outputs": [],
      "source": [
        "# la llevamos a integer\n",
        "df_full['Month']=df_full['Month'].astype(int)\n"
      ]
    },
    {
      "cell_type": "code",
      "execution_count": null,
      "metadata": {
        "colab": {
          "base_uri": "https://localhost:8080/"
        },
        "id": "oIbfA4sTEeji",
        "outputId": "32ede005-8ce6-496d-bbc4-7cff0b170fae"
      },
      "outputs": [
        {
          "output_type": "execute_result",
          "data": {
            "text/plain": [
              "1    12500\n",
              "2    12500\n",
              "3    12500\n",
              "4    12500\n",
              "5    12500\n",
              "6    12500\n",
              "7    12500\n",
              "8    12500\n",
              "Name: Month, dtype: int64"
            ]
          },
          "metadata": {},
          "execution_count": 36
        }
      ],
      "source": [
        "#chequeamos la data\n",
        "df_full['Month'].value_counts()"
      ]
    },
    {
      "cell_type": "markdown",
      "metadata": {
        "id": "RlHooVciN9Pv"
      },
      "source": []
    },
    {
      "cell_type": "markdown",
      "metadata": {
        "id": "Nh9Vno5cjHBd"
      },
      "source": [
        "## Adecuación de la variable Payment_of_min_Ammount"
      ]
    },
    {
      "cell_type": "markdown",
      "metadata": {
        "id": "9CgkWD_xjryp"
      },
      "source": [
        "pasaremos el no a 0, el yes a 1 y el no data a -1 para asegurar diferencia. luego demos como la llevamos a dummies."
      ]
    },
    {
      "cell_type": "code",
      "execution_count": null,
      "metadata": {
        "colab": {
          "base_uri": "https://localhost:8080/"
        },
        "id": "rQvncH3Ajc8i",
        "outputId": "711d0543-38a8-49ba-ad49-61e47c5ffe2f"
      },
      "outputs": [
        {
          "output_type": "execute_result",
          "data": {
            "text/plain": [
              "Yes    52326\n",
              "No     35667\n",
              "NM     12007\n",
              "Name: Payment_of_Min_Amount, dtype: int64"
            ]
          },
          "metadata": {},
          "execution_count": 37
        }
      ],
      "source": [
        "df_full['Payment_of_Min_Amount'].value_counts()"
      ]
    },
    {
      "cell_type": "code",
      "execution_count": null,
      "metadata": {
        "id": "J9nWhKIfjOwt"
      },
      "outputs": [],
      "source": [
        "df_full['Payment_of_Min_Amount'] = df_full['Payment_of_Min_Amount'].replace(to_replace=\"No\", value=0, regex=True)\n",
        "df_full['Payment_of_Min_Amount'] = df_full['Payment_of_Min_Amount'].replace(to_replace=\"Yes\", value=1, regex=True)\n",
        "df_full['Payment_of_Min_Amount'] = df_full['Payment_of_Min_Amount'].replace(to_replace=\"NM\", value=-1, regex=True)"
      ]
    },
    {
      "cell_type": "code",
      "execution_count": null,
      "metadata": {
        "colab": {
          "base_uri": "https://localhost:8080/"
        },
        "id": "560txkcfj19F",
        "outputId": "3167b714-50f3-4328-fdfa-96df84bda981"
      },
      "outputs": [
        {
          "output_type": "execute_result",
          "data": {
            "text/plain": [
              " 1    52326\n",
              " 0    35667\n",
              "-1    12007\n",
              "Name: Payment_of_Min_Amount, dtype: int64"
            ]
          },
          "metadata": {},
          "execution_count": 39
        }
      ],
      "source": [
        "df_full['Payment_of_Min_Amount'].value_counts()"
      ]
    },
    {
      "cell_type": "markdown",
      "metadata": {
        "id": "Clw_qEKZeJ-p"
      },
      "source": [
        "## Adecuación de la variable Occupation y Credit_Mix"
      ]
    },
    {
      "cell_type": "markdown",
      "metadata": {
        "id": "4KD6vPWXeTXS"
      },
      "source": [
        "Estas variables, se deberán trabajar a Dummyes u Clases una vez sumarizadas o agrupados los registros."
      ]
    },
    {
      "cell_type": "code",
      "execution_count": null,
      "metadata": {
        "colab": {
          "base_uri": "https://localhost:8080/"
        },
        "id": "ac0SRNvhgzrx",
        "outputId": "83a4e59f-4a6e-43be-aedc-e2099db49f18"
      },
      "outputs": [
        {
          "output_type": "execute_result",
          "data": {
            "text/plain": [
              "Standard    36479\n",
              "Good        24337\n",
              "_           20195\n",
              "Bad         18989\n",
              "Name: Credit_Mix, dtype: int64"
            ]
          },
          "metadata": {},
          "execution_count": 40
        }
      ],
      "source": [
        "df_full['Credit_Mix'].value_counts()"
      ]
    },
    {
      "cell_type": "code",
      "execution_count": null,
      "metadata": {
        "colab": {
          "base_uri": "https://localhost:8080/"
        },
        "id": "DgJ8u_uhhxrt",
        "outputId": "2b92ea9f-2cea-4b37-898a-1e9a7428fc08"
      },
      "outputs": [
        {
          "output_type": "execute_result",
          "data": {
            "text/plain": [
              "_______          7062\n",
              "Lawyer           6575\n",
              "Architect        6355\n",
              "Engineer         6350\n",
              "Scientist        6299\n",
              "Mechanic         6291\n",
              "Accountant       6271\n",
              "Developer        6235\n",
              "Media_Manager    6232\n",
              "Teacher          6215\n",
              "Entrepreneur     6174\n",
              "Doctor           6087\n",
              "Journalist       6085\n",
              "Manager          5973\n",
              "Musician         5911\n",
              "Writer           5885\n",
              "Name: Occupation, dtype: int64"
            ]
          },
          "metadata": {},
          "execution_count": 41
        }
      ],
      "source": [
        "df_full['Occupation'].value_counts()"
      ]
    },
    {
      "cell_type": "markdown",
      "metadata": {
        "id": "yRByarDFDWYz"
      },
      "source": [
        "# Acondicionando Variable de Salida: Credit_Score\n",
        "(Dos valores posibles: Poor & Good) Good se convirtió en Standard siendo conservadores. Y se volvió númérica **Poor=0 & Standard=1**"
      ]
    },
    {
      "cell_type": "code",
      "execution_count": null,
      "metadata": {
        "colab": {
          "base_uri": "https://localhost:8080/"
        },
        "id": "Syw4dVjODbbF",
        "outputId": "46b939f9-ad47-4ba7-ae5d-4333bda1ec4e"
      },
      "outputs": [
        {
          "output_type": "execute_result",
          "data": {
            "text/plain": [
              "Standard    53174\n",
              "Poor        28998\n",
              "Good        17828\n",
              "Name: Credit_Score, dtype: int64"
            ]
          },
          "metadata": {},
          "execution_count": 42
        }
      ],
      "source": [
        "df_full['Credit_Score'].value_counts()"
      ]
    },
    {
      "cell_type": "code",
      "execution_count": null,
      "metadata": {
        "id": "9PKIIN1GE9XN"
      },
      "outputs": [],
      "source": [
        "df_full['Credit_Score'] = df_full['Credit_Score'].replace(to_replace=\"Standard\", value=1, regex=True) #Standard es igual a Good\n",
        "df_full['Credit_Score'] = df_full['Credit_Score'].replace(to_replace=\"Poor\", value=0, regex=True) \n",
        "df_full['Credit_Score'] = df_full['Credit_Score'].replace(to_replace=\"Good\", value=1, regex=True) "
      ]
    },
    {
      "cell_type": "code",
      "execution_count": null,
      "metadata": {
        "colab": {
          "base_uri": "https://localhost:8080/"
        },
        "id": "PLujz4DzE9gF",
        "outputId": "c7a40c15-b920-41e9-a7ed-659bf2e56992"
      },
      "outputs": [
        {
          "output_type": "execute_result",
          "data": {
            "text/plain": [
              "1    71002\n",
              "0    28998\n",
              "Name: Credit_Score, dtype: int64"
            ]
          },
          "metadata": {},
          "execution_count": 44
        }
      ],
      "source": [
        "df_full['Credit_Score'].value_counts()"
      ]
    },
    {
      "cell_type": "code",
      "execution_count": null,
      "metadata": {
        "colab": {
          "base_uri": "https://localhost:8080/",
          "height": 582
        },
        "id": "5AdbFyE5Hn97",
        "outputId": "973bcdb6-8857-440f-aa91-7bd627aa040d"
      },
      "outputs": [
        {
          "output_type": "execute_result",
          "data": {
            "text/plain": [
              "                             count         mean          std         min  \\\n",
              "Month                     100000.0     4.500000     2.291299    1.000000   \n",
              "Age                       100000.0    33.896330    11.864593    0.000000   \n",
              "Annual_Income             100000.0    51.253250    38.684785    7.010000   \n",
              "Monthly_Inhand_Salary     100000.0  5410.563971  4117.569101  303.645417   \n",
              "Num_Bank_Accounts         100000.0     5.468200     2.719004    0.000000   \n",
              "Num_Credit_Card           100000.0     5.668825     2.229002    0.000000   \n",
              "Interest_Rate             100000.0    15.008950     9.263065    1.000000   \n",
              "Num_of_Loan               100000.0     3.405000     2.484926    0.000000   \n",
              "Delay_from_due_date       100000.0    20.909770    14.406884    0.000000   \n",
              "Num_of_Delayed_Payment    100000.0    14.014015     6.356430    0.000000   \n",
              "Changed_Credit_Limit      100000.0    10.199846     6.786516    0.000000   \n",
              "Num_Credit_Inquiries      100000.0     5.947730     4.106622    0.000000   \n",
              "Outstanding_Debt          100000.0  1426.874623  1112.578253    0.230000   \n",
              "Credit_Utilization_Ratio  100000.0    32.285156     5.116818   20.000000   \n",
              "Total_EMI_per_month       100000.0   108.054040   104.531770    0.000000   \n",
              "Amount_invested_monthly   100000.0   202.519901   157.108666    0.000000   \n",
              "Monthly_Balance           100000.0   392.960628   179.051011    0.007760   \n",
              "\n",
              "                                  25%          50%          75%           max  \n",
              "Month                        2.750000     4.500000     6.250000      8.000000  \n",
              "Age                         25.000000    34.000000    42.000000     69.000000  \n",
              "Annual_Income               19.460000    37.580000    72.790000    152.790000  \n",
              "Monthly_Inhand_Salary     1792.084167  3852.736667  8595.465000  12455.268490  \n",
              "Num_Bank_Accounts            3.000000     6.000000     7.000000     13.000000  \n",
              "Num_Credit_Card              4.000000     5.000000     7.000000     11.500000  \n",
              "Interest_Rate                8.000000    13.000000    20.000000     38.000000  \n",
              "Num_of_Loan                  2.000000     3.000000     5.000000     11.000000  \n",
              "Delay_from_due_date         10.000000    18.000000    28.000000     55.000000  \n",
              "Num_of_Delayed_Payment       9.000000    15.000000    19.000000     31.500000  \n",
              "Changed_Credit_Limit         4.970000     9.250000    14.660000     29.195000  \n",
              "Num_Credit_Inquiries         3.000000     5.000000     9.000000     18.000000  \n",
              "Outstanding_Debt           571.650000  1175.880000  1996.600000   4021.380000  \n",
              "Credit_Utilization_Ratio    28.052567    32.305784    36.496663     49.162808  \n",
              "Total_EMI_per_month         30.306660    69.249473   161.224249    357.600632  \n",
              "Amount_invested_monthly     77.017414   143.127915   304.765600    483.684497  \n",
              "Monthly_Balance            270.913865   338.672152   478.580624    770.497401  "
            ],
            "text/html": [
              "\n",
              "  <div id=\"df-c553f8ea-b617-4549-9d05-23456fbb46c7\">\n",
              "    <div class=\"colab-df-container\">\n",
              "      <div>\n",
              "<style scoped>\n",
              "    .dataframe tbody tr th:only-of-type {\n",
              "        vertical-align: middle;\n",
              "    }\n",
              "\n",
              "    .dataframe tbody tr th {\n",
              "        vertical-align: top;\n",
              "    }\n",
              "\n",
              "    .dataframe thead th {\n",
              "        text-align: right;\n",
              "    }\n",
              "</style>\n",
              "<table border=\"1\" class=\"dataframe\">\n",
              "  <thead>\n",
              "    <tr style=\"text-align: right;\">\n",
              "      <th></th>\n",
              "      <th>count</th>\n",
              "      <th>mean</th>\n",
              "      <th>std</th>\n",
              "      <th>min</th>\n",
              "      <th>25%</th>\n",
              "      <th>50%</th>\n",
              "      <th>75%</th>\n",
              "      <th>max</th>\n",
              "    </tr>\n",
              "  </thead>\n",
              "  <tbody>\n",
              "    <tr>\n",
              "      <th>Month</th>\n",
              "      <td>100000.0</td>\n",
              "      <td>4.500000</td>\n",
              "      <td>2.291299</td>\n",
              "      <td>1.000000</td>\n",
              "      <td>2.750000</td>\n",
              "      <td>4.500000</td>\n",
              "      <td>6.250000</td>\n",
              "      <td>8.000000</td>\n",
              "    </tr>\n",
              "    <tr>\n",
              "      <th>Age</th>\n",
              "      <td>100000.0</td>\n",
              "      <td>33.896330</td>\n",
              "      <td>11.864593</td>\n",
              "      <td>0.000000</td>\n",
              "      <td>25.000000</td>\n",
              "      <td>34.000000</td>\n",
              "      <td>42.000000</td>\n",
              "      <td>69.000000</td>\n",
              "    </tr>\n",
              "    <tr>\n",
              "      <th>Annual_Income</th>\n",
              "      <td>100000.0</td>\n",
              "      <td>51.253250</td>\n",
              "      <td>38.684785</td>\n",
              "      <td>7.010000</td>\n",
              "      <td>19.460000</td>\n",
              "      <td>37.580000</td>\n",
              "      <td>72.790000</td>\n",
              "      <td>152.790000</td>\n",
              "    </tr>\n",
              "    <tr>\n",
              "      <th>Monthly_Inhand_Salary</th>\n",
              "      <td>100000.0</td>\n",
              "      <td>5410.563971</td>\n",
              "      <td>4117.569101</td>\n",
              "      <td>303.645417</td>\n",
              "      <td>1792.084167</td>\n",
              "      <td>3852.736667</td>\n",
              "      <td>8595.465000</td>\n",
              "      <td>12455.268490</td>\n",
              "    </tr>\n",
              "    <tr>\n",
              "      <th>Num_Bank_Accounts</th>\n",
              "      <td>100000.0</td>\n",
              "      <td>5.468200</td>\n",
              "      <td>2.719004</td>\n",
              "      <td>0.000000</td>\n",
              "      <td>3.000000</td>\n",
              "      <td>6.000000</td>\n",
              "      <td>7.000000</td>\n",
              "      <td>13.000000</td>\n",
              "    </tr>\n",
              "    <tr>\n",
              "      <th>Num_Credit_Card</th>\n",
              "      <td>100000.0</td>\n",
              "      <td>5.668825</td>\n",
              "      <td>2.229002</td>\n",
              "      <td>0.000000</td>\n",
              "      <td>4.000000</td>\n",
              "      <td>5.000000</td>\n",
              "      <td>7.000000</td>\n",
              "      <td>11.500000</td>\n",
              "    </tr>\n",
              "    <tr>\n",
              "      <th>Interest_Rate</th>\n",
              "      <td>100000.0</td>\n",
              "      <td>15.008950</td>\n",
              "      <td>9.263065</td>\n",
              "      <td>1.000000</td>\n",
              "      <td>8.000000</td>\n",
              "      <td>13.000000</td>\n",
              "      <td>20.000000</td>\n",
              "      <td>38.000000</td>\n",
              "    </tr>\n",
              "    <tr>\n",
              "      <th>Num_of_Loan</th>\n",
              "      <td>100000.0</td>\n",
              "      <td>3.405000</td>\n",
              "      <td>2.484926</td>\n",
              "      <td>0.000000</td>\n",
              "      <td>2.000000</td>\n",
              "      <td>3.000000</td>\n",
              "      <td>5.000000</td>\n",
              "      <td>11.000000</td>\n",
              "    </tr>\n",
              "    <tr>\n",
              "      <th>Delay_from_due_date</th>\n",
              "      <td>100000.0</td>\n",
              "      <td>20.909770</td>\n",
              "      <td>14.406884</td>\n",
              "      <td>0.000000</td>\n",
              "      <td>10.000000</td>\n",
              "      <td>18.000000</td>\n",
              "      <td>28.000000</td>\n",
              "      <td>55.000000</td>\n",
              "    </tr>\n",
              "    <tr>\n",
              "      <th>Num_of_Delayed_Payment</th>\n",
              "      <td>100000.0</td>\n",
              "      <td>14.014015</td>\n",
              "      <td>6.356430</td>\n",
              "      <td>0.000000</td>\n",
              "      <td>9.000000</td>\n",
              "      <td>15.000000</td>\n",
              "      <td>19.000000</td>\n",
              "      <td>31.500000</td>\n",
              "    </tr>\n",
              "    <tr>\n",
              "      <th>Changed_Credit_Limit</th>\n",
              "      <td>100000.0</td>\n",
              "      <td>10.199846</td>\n",
              "      <td>6.786516</td>\n",
              "      <td>0.000000</td>\n",
              "      <td>4.970000</td>\n",
              "      <td>9.250000</td>\n",
              "      <td>14.660000</td>\n",
              "      <td>29.195000</td>\n",
              "    </tr>\n",
              "    <tr>\n",
              "      <th>Num_Credit_Inquiries</th>\n",
              "      <td>100000.0</td>\n",
              "      <td>5.947730</td>\n",
              "      <td>4.106622</td>\n",
              "      <td>0.000000</td>\n",
              "      <td>3.000000</td>\n",
              "      <td>5.000000</td>\n",
              "      <td>9.000000</td>\n",
              "      <td>18.000000</td>\n",
              "    </tr>\n",
              "    <tr>\n",
              "      <th>Outstanding_Debt</th>\n",
              "      <td>100000.0</td>\n",
              "      <td>1426.874623</td>\n",
              "      <td>1112.578253</td>\n",
              "      <td>0.230000</td>\n",
              "      <td>571.650000</td>\n",
              "      <td>1175.880000</td>\n",
              "      <td>1996.600000</td>\n",
              "      <td>4021.380000</td>\n",
              "    </tr>\n",
              "    <tr>\n",
              "      <th>Credit_Utilization_Ratio</th>\n",
              "      <td>100000.0</td>\n",
              "      <td>32.285156</td>\n",
              "      <td>5.116818</td>\n",
              "      <td>20.000000</td>\n",
              "      <td>28.052567</td>\n",
              "      <td>32.305784</td>\n",
              "      <td>36.496663</td>\n",
              "      <td>49.162808</td>\n",
              "    </tr>\n",
              "    <tr>\n",
              "      <th>Total_EMI_per_month</th>\n",
              "      <td>100000.0</td>\n",
              "      <td>108.054040</td>\n",
              "      <td>104.531770</td>\n",
              "      <td>0.000000</td>\n",
              "      <td>30.306660</td>\n",
              "      <td>69.249473</td>\n",
              "      <td>161.224249</td>\n",
              "      <td>357.600632</td>\n",
              "    </tr>\n",
              "    <tr>\n",
              "      <th>Amount_invested_monthly</th>\n",
              "      <td>100000.0</td>\n",
              "      <td>202.519901</td>\n",
              "      <td>157.108666</td>\n",
              "      <td>0.000000</td>\n",
              "      <td>77.017414</td>\n",
              "      <td>143.127915</td>\n",
              "      <td>304.765600</td>\n",
              "      <td>483.684497</td>\n",
              "    </tr>\n",
              "    <tr>\n",
              "      <th>Monthly_Balance</th>\n",
              "      <td>100000.0</td>\n",
              "      <td>392.960628</td>\n",
              "      <td>179.051011</td>\n",
              "      <td>0.007760</td>\n",
              "      <td>270.913865</td>\n",
              "      <td>338.672152</td>\n",
              "      <td>478.580624</td>\n",
              "      <td>770.497401</td>\n",
              "    </tr>\n",
              "  </tbody>\n",
              "</table>\n",
              "</div>\n",
              "      <button class=\"colab-df-convert\" onclick=\"convertToInteractive('df-c553f8ea-b617-4549-9d05-23456fbb46c7')\"\n",
              "              title=\"Convert this dataframe to an interactive table.\"\n",
              "              style=\"display:none;\">\n",
              "        \n",
              "  <svg xmlns=\"http://www.w3.org/2000/svg\" height=\"24px\"viewBox=\"0 0 24 24\"\n",
              "       width=\"24px\">\n",
              "    <path d=\"M0 0h24v24H0V0z\" fill=\"none\"/>\n",
              "    <path d=\"M18.56 5.44l.94 2.06.94-2.06 2.06-.94-2.06-.94-.94-2.06-.94 2.06-2.06.94zm-11 1L8.5 8.5l.94-2.06 2.06-.94-2.06-.94L8.5 2.5l-.94 2.06-2.06.94zm10 10l.94 2.06.94-2.06 2.06-.94-2.06-.94-.94-2.06-.94 2.06-2.06.94z\"/><path d=\"M17.41 7.96l-1.37-1.37c-.4-.4-.92-.59-1.43-.59-.52 0-1.04.2-1.43.59L10.3 9.45l-7.72 7.72c-.78.78-.78 2.05 0 2.83L4 21.41c.39.39.9.59 1.41.59.51 0 1.02-.2 1.41-.59l7.78-7.78 2.81-2.81c.8-.78.8-2.07 0-2.86zM5.41 20L4 18.59l7.72-7.72 1.47 1.35L5.41 20z\"/>\n",
              "  </svg>\n",
              "      </button>\n",
              "      \n",
              "  <style>\n",
              "    .colab-df-container {\n",
              "      display:flex;\n",
              "      flex-wrap:wrap;\n",
              "      gap: 12px;\n",
              "    }\n",
              "\n",
              "    .colab-df-convert {\n",
              "      background-color: #E8F0FE;\n",
              "      border: none;\n",
              "      border-radius: 50%;\n",
              "      cursor: pointer;\n",
              "      display: none;\n",
              "      fill: #1967D2;\n",
              "      height: 32px;\n",
              "      padding: 0 0 0 0;\n",
              "      width: 32px;\n",
              "    }\n",
              "\n",
              "    .colab-df-convert:hover {\n",
              "      background-color: #E2EBFA;\n",
              "      box-shadow: 0px 1px 2px rgba(60, 64, 67, 0.3), 0px 1px 3px 1px rgba(60, 64, 67, 0.15);\n",
              "      fill: #174EA6;\n",
              "    }\n",
              "\n",
              "    [theme=dark] .colab-df-convert {\n",
              "      background-color: #3B4455;\n",
              "      fill: #D2E3FC;\n",
              "    }\n",
              "\n",
              "    [theme=dark] .colab-df-convert:hover {\n",
              "      background-color: #434B5C;\n",
              "      box-shadow: 0px 1px 3px 1px rgba(0, 0, 0, 0.15);\n",
              "      filter: drop-shadow(0px 1px 2px rgba(0, 0, 0, 0.3));\n",
              "      fill: #FFFFFF;\n",
              "    }\n",
              "  </style>\n",
              "\n",
              "      <script>\n",
              "        const buttonEl =\n",
              "          document.querySelector('#df-c553f8ea-b617-4549-9d05-23456fbb46c7 button.colab-df-convert');\n",
              "        buttonEl.style.display =\n",
              "          google.colab.kernel.accessAllowed ? 'block' : 'none';\n",
              "\n",
              "        async function convertToInteractive(key) {\n",
              "          const element = document.querySelector('#df-c553f8ea-b617-4549-9d05-23456fbb46c7');\n",
              "          const dataTable =\n",
              "            await google.colab.kernel.invokeFunction('convertToInteractive',\n",
              "                                                     [key], {});\n",
              "          if (!dataTable) return;\n",
              "\n",
              "          const docLinkHtml = 'Like what you see? Visit the ' +\n",
              "            '<a target=\"_blank\" href=https://colab.research.google.com/notebooks/data_table.ipynb>data table notebook</a>'\n",
              "            + ' to learn more about interactive tables.';\n",
              "          element.innerHTML = '';\n",
              "          dataTable['output_type'] = 'display_data';\n",
              "          await google.colab.output.renderOutput(dataTable, element);\n",
              "          const docLink = document.createElement('div');\n",
              "          docLink.innerHTML = docLinkHtml;\n",
              "          element.appendChild(docLink);\n",
              "        }\n",
              "      </script>\n",
              "    </div>\n",
              "  </div>\n",
              "  "
            ]
          },
          "metadata": {},
          "execution_count": 45
        }
      ],
      "source": [
        "df_full.describe().T"
      ]
    },
    {
      "cell_type": "markdown",
      "metadata": {
        "id": "RsN4gNDjHykO"
      },
      "source": [
        "# **<<< Termina Limpieza y trabajo de variables >>>**"
      ]
    },
    {
      "cell_type": "code",
      "execution_count": null,
      "metadata": {
        "id": "XfeBumhfHoHV"
      },
      "outputs": [],
      "source": [
        "#en proceso"
      ]
    },
    {
      "cell_type": "markdown",
      "metadata": {
        "id": "QbqBSnjUE9-x"
      },
      "source": [
        "# **Agrupación:** Utilizando Customer_ID para sumarizar la información (existen varios registros por cliente)\n"
      ]
    },
    {
      "cell_type": "code",
      "execution_count": null,
      "metadata": {
        "colab": {
          "base_uri": "https://localhost:8080/"
        },
        "id": "gNRgCJ2-ERNv",
        "outputId": "e01115d6-c869-44e8-9ec7-029eae027302"
      },
      "outputs": [
        {
          "output_type": "stream",
          "name": "stdout",
          "text": [
            "<class 'pandas.core.frame.DataFrame'>\n",
            "RangeIndex: 100000 entries, 0 to 99999\n",
            "Data columns (total 25 columns):\n",
            " #   Column                    Non-Null Count   Dtype  \n",
            "---  ------                    --------------   -----  \n",
            " 0   Customer_ID               100000 non-null  object \n",
            " 1   Month                     100000 non-null  int64  \n",
            " 2   Age                       100000 non-null  float64\n",
            " 3   Occupation                100000 non-null  object \n",
            " 4   Annual_Income             100000 non-null  float64\n",
            " 5   Monthly_Inhand_Salary     100000 non-null  float64\n",
            " 6   Num_Bank_Accounts         100000 non-null  int64  \n",
            " 7   Num_Credit_Card           100000 non-null  float64\n",
            " 8   Interest_Rate             100000 non-null  int64  \n",
            " 9   Num_of_Loan               100000 non-null  float64\n",
            " 10  Type_of_Loan              88592 non-null   object \n",
            " 11  Delay_from_due_date       100000 non-null  int64  \n",
            " 12  Num_of_Delayed_Payment    100000 non-null  float64\n",
            " 13  Changed_Credit_Limit      100000 non-null  float64\n",
            " 14  Num_Credit_Inquiries      100000 non-null  float64\n",
            " 15  Credit_Mix                100000 non-null  object \n",
            " 16  Outstanding_Debt          100000 non-null  float64\n",
            " 17  Credit_Utilization_Ratio  100000 non-null  float64\n",
            " 18  Credit_History_Age        90970 non-null   object \n",
            " 19  Payment_of_Min_Amount     100000 non-null  object \n",
            " 20  Total_EMI_per_month       100000 non-null  float64\n",
            " 21  Amount_invested_monthly   100000 non-null  float64\n",
            " 22  Payment_Behaviour         100000 non-null  object \n",
            " 23  Monthly_Balance           100000 non-null  float64\n",
            " 24  Credit_Score              100000 non-null  object \n",
            "dtypes: float64(13), int64(4), object(8)\n",
            "memory usage: 19.1+ MB\n"
          ]
        }
      ],
      "source": [
        "#recordamos el data set a momento:\n",
        "df_full.info()"
      ]
    },
    {
      "cell_type": "code",
      "execution_count": null,
      "metadata": {
        "colab": {
          "base_uri": "https://localhost:8080/"
        },
        "id": "4kcoLZZrEhrS",
        "outputId": "2160ef21-8ae7-464a-be30-d5226a71d626"
      },
      "outputs": [
        {
          "output_type": "execute_result",
          "data": {
            "text/plain": [
              "Index(['Customer_ID', 'Month', 'Age', 'Occupation', 'Annual_Income',\n",
              "       'Monthly_Inhand_Salary', 'Num_Bank_Accounts', 'Num_Credit_Card',\n",
              "       'Interest_Rate', 'Num_of_Loan', 'Type_of_Loan', 'Delay_from_due_date',\n",
              "       'Num_of_Delayed_Payment', 'Changed_Credit_Limit',\n",
              "       'Num_Credit_Inquiries', 'Credit_Mix', 'Outstanding_Debt',\n",
              "       'Credit_Utilization_Ratio', 'Credit_History_Age',\n",
              "       'Payment_of_Min_Amount', 'Total_EMI_per_month',\n",
              "       'Amount_invested_monthly', 'Payment_Behaviour', 'Monthly_Balance',\n",
              "       'Credit_Score'],\n",
              "      dtype='object')"
            ]
          },
          "metadata": {},
          "execution_count": 48
        }
      ],
      "source": [
        "df_full.columns"
      ]
    },
    {
      "cell_type": "code",
      "execution_count": null,
      "metadata": {
        "id": "Bqb8uyfXE-Je"
      },
      "outputs": [],
      "source": [
        "df_agrupado_median = df_full.groupby(\"Customer_ID\")[['Age', 'Annual_Income',\n",
        "       'Monthly_Inhand_Salary', 'Num_Bank_Accounts', 'Num_Credit_Card',\n",
        "       'Interest_Rate', 'Num_of_Loan','Delay_from_due_date',\n",
        "       'Num_of_Delayed_Payment', 'Changed_Credit_Limit',\n",
        "       'Num_Credit_Inquiries', 'Outstanding_Debt',\n",
        "       'Credit_Utilization_Ratio','Total_EMI_per_month',\n",
        "       'Amount_invested_monthly',  'Monthly_Balance']].median()\n"
      ]
    },
    {
      "cell_type": "code",
      "execution_count": null,
      "metadata": {
        "colab": {
          "base_uri": "https://localhost:8080/"
        },
        "id": "fUILOIAQDkYp",
        "outputId": "c5a364dd-5f7c-44d4-f88e-7c64a67d1fe4"
      },
      "outputs": [
        {
          "output_type": "stream",
          "name": "stdout",
          "text": [
            "<class 'pandas.core.frame.DataFrame'>\n",
            "Index: 12500 entries, CUS_0x1000 to CUS_0xffd\n",
            "Data columns (total 16 columns):\n",
            " #   Column                    Non-Null Count  Dtype  \n",
            "---  ------                    --------------  -----  \n",
            " 0   Age                       12500 non-null  float64\n",
            " 1   Annual_Income             12500 non-null  float64\n",
            " 2   Monthly_Inhand_Salary     12500 non-null  float64\n",
            " 3   Num_Bank_Accounts         12500 non-null  float64\n",
            " 4   Num_Credit_Card           12500 non-null  float64\n",
            " 5   Interest_Rate             12500 non-null  float64\n",
            " 6   Num_of_Loan               12500 non-null  float64\n",
            " 7   Delay_from_due_date       12500 non-null  float64\n",
            " 8   Num_of_Delayed_Payment    12500 non-null  float64\n",
            " 9   Changed_Credit_Limit      12500 non-null  float64\n",
            " 10  Num_Credit_Inquiries      12500 non-null  float64\n",
            " 11  Outstanding_Debt          12500 non-null  float64\n",
            " 12  Credit_Utilization_Ratio  12500 non-null  float64\n",
            " 13  Total_EMI_per_month       12500 non-null  float64\n",
            " 14  Amount_invested_monthly   12500 non-null  float64\n",
            " 15  Monthly_Balance           12500 non-null  float64\n",
            "dtypes: float64(16)\n",
            "memory usage: 1.6+ MB\n"
          ]
        }
      ],
      "source": [
        "df_agrupado_median.info()"
      ]
    },
    {
      "cell_type": "code",
      "execution_count": null,
      "metadata": {
        "id": "kM7iY-PzF9jh"
      },
      "outputs": [],
      "source": [
        "df_agrupar_salida = df_full.groupby('Customer_ID')['Credit_Score'].mean().astype(int)\n"
      ]
    },
    {
      "cell_type": "code",
      "execution_count": null,
      "metadata": {
        "id": "EzJczKMGFdNi"
      },
      "outputs": [],
      "source": [
        "df_agrupar_salida2 = df_full.groupby('Customer_ID')['Credit_Score'].value_counts()"
      ]
    },
    {
      "cell_type": "code",
      "execution_count": null,
      "metadata": {
        "colab": {
          "base_uri": "https://localhost:8080/",
          "height": 328
        },
        "id": "q2VB2Nv2HlTJ",
        "outputId": "4330231e-a647-4521-f272-75a509c8e282"
      },
      "outputs": [
        {
          "output_type": "error",
          "ename": "ValueError",
          "evalue": "ignored",
          "traceback": [
            "\u001b[0;31m---------------------------------------------------------------------------\u001b[0m",
            "\u001b[0;31mValueError\u001b[0m                                Traceback (most recent call last)",
            "\u001b[0;32m<ipython-input-53-f27f5813ed80>\u001b[0m in \u001b[0;36m<module>\u001b[0;34m\u001b[0m\n\u001b[0;32m----> 1\u001b[0;31m \u001b[0mdf_agrupar_salida2\u001b[0m\u001b[0;34m.\u001b[0m\u001b[0mreset_index\u001b[0m\u001b[0;34m(\u001b[0m\u001b[0;34m)\u001b[0m\u001b[0;34m\u001b[0m\u001b[0;34m\u001b[0m\u001b[0m\n\u001b[0m\u001b[1;32m      2\u001b[0m \u001b[0mdf_agrupar_salida2\u001b[0m\u001b[0;34m\u001b[0m\u001b[0;34m\u001b[0m\u001b[0m\n",
            "\u001b[0;32m/usr/local/lib/python3.7/dist-packages/pandas/util/_decorators.py\u001b[0m in \u001b[0;36mwrapper\u001b[0;34m(*args, **kwargs)\u001b[0m\n\u001b[1;32m    309\u001b[0m                     \u001b[0mstacklevel\u001b[0m\u001b[0;34m=\u001b[0m\u001b[0mstacklevel\u001b[0m\u001b[0;34m,\u001b[0m\u001b[0;34m\u001b[0m\u001b[0;34m\u001b[0m\u001b[0m\n\u001b[1;32m    310\u001b[0m                 )\n\u001b[0;32m--> 311\u001b[0;31m             \u001b[0;32mreturn\u001b[0m \u001b[0mfunc\u001b[0m\u001b[0;34m(\u001b[0m\u001b[0;34m*\u001b[0m\u001b[0margs\u001b[0m\u001b[0;34m,\u001b[0m \u001b[0;34m**\u001b[0m\u001b[0mkwargs\u001b[0m\u001b[0;34m)\u001b[0m\u001b[0;34m\u001b[0m\u001b[0;34m\u001b[0m\u001b[0m\n\u001b[0m\u001b[1;32m    312\u001b[0m \u001b[0;34m\u001b[0m\u001b[0m\n\u001b[1;32m    313\u001b[0m         \u001b[0;32mreturn\u001b[0m \u001b[0mwrapper\u001b[0m\u001b[0;34m\u001b[0m\u001b[0;34m\u001b[0m\u001b[0m\n",
            "\u001b[0;32m/usr/local/lib/python3.7/dist-packages/pandas/core/series.py\u001b[0m in \u001b[0;36mreset_index\u001b[0;34m(self, level, drop, name, inplace)\u001b[0m\n\u001b[1;32m   1440\u001b[0m         \u001b[0;32melse\u001b[0m\u001b[0;34m:\u001b[0m\u001b[0;34m\u001b[0m\u001b[0;34m\u001b[0m\u001b[0m\n\u001b[1;32m   1441\u001b[0m             \u001b[0mdf\u001b[0m \u001b[0;34m=\u001b[0m \u001b[0mself\u001b[0m\u001b[0;34m.\u001b[0m\u001b[0mto_frame\u001b[0m\u001b[0;34m(\u001b[0m\u001b[0mname\u001b[0m\u001b[0;34m)\u001b[0m\u001b[0;34m\u001b[0m\u001b[0;34m\u001b[0m\u001b[0m\n\u001b[0;32m-> 1442\u001b[0;31m             \u001b[0;32mreturn\u001b[0m \u001b[0mdf\u001b[0m\u001b[0;34m.\u001b[0m\u001b[0mreset_index\u001b[0m\u001b[0;34m(\u001b[0m\u001b[0mlevel\u001b[0m\u001b[0;34m=\u001b[0m\u001b[0mlevel\u001b[0m\u001b[0;34m,\u001b[0m \u001b[0mdrop\u001b[0m\u001b[0;34m=\u001b[0m\u001b[0mdrop\u001b[0m\u001b[0;34m)\u001b[0m\u001b[0;34m\u001b[0m\u001b[0;34m\u001b[0m\u001b[0m\n\u001b[0m\u001b[1;32m   1443\u001b[0m \u001b[0;34m\u001b[0m\u001b[0m\n\u001b[1;32m   1444\u001b[0m     \u001b[0;31m# ----------------------------------------------------------------------\u001b[0m\u001b[0;34m\u001b[0m\u001b[0;34m\u001b[0m\u001b[0;34m\u001b[0m\u001b[0m\n",
            "\u001b[0;32m/usr/local/lib/python3.7/dist-packages/pandas/util/_decorators.py\u001b[0m in \u001b[0;36mwrapper\u001b[0;34m(*args, **kwargs)\u001b[0m\n\u001b[1;32m    309\u001b[0m                     \u001b[0mstacklevel\u001b[0m\u001b[0;34m=\u001b[0m\u001b[0mstacklevel\u001b[0m\u001b[0;34m,\u001b[0m\u001b[0;34m\u001b[0m\u001b[0;34m\u001b[0m\u001b[0m\n\u001b[1;32m    310\u001b[0m                 )\n\u001b[0;32m--> 311\u001b[0;31m             \u001b[0;32mreturn\u001b[0m \u001b[0mfunc\u001b[0m\u001b[0;34m(\u001b[0m\u001b[0;34m*\u001b[0m\u001b[0margs\u001b[0m\u001b[0;34m,\u001b[0m \u001b[0;34m**\u001b[0m\u001b[0mkwargs\u001b[0m\u001b[0;34m)\u001b[0m\u001b[0;34m\u001b[0m\u001b[0;34m\u001b[0m\u001b[0m\n\u001b[0m\u001b[1;32m    312\u001b[0m \u001b[0;34m\u001b[0m\u001b[0m\n\u001b[1;32m    313\u001b[0m         \u001b[0;32mreturn\u001b[0m \u001b[0mwrapper\u001b[0m\u001b[0;34m\u001b[0m\u001b[0;34m\u001b[0m\u001b[0m\n",
            "\u001b[0;32m/usr/local/lib/python3.7/dist-packages/pandas/core/frame.py\u001b[0m in \u001b[0;36mreset_index\u001b[0;34m(self, level, drop, inplace, col_level, col_fill)\u001b[0m\n\u001b[1;32m   5797\u001b[0m                     )\n\u001b[1;32m   5798\u001b[0m \u001b[0;34m\u001b[0m\u001b[0m\n\u001b[0;32m-> 5799\u001b[0;31m                 \u001b[0mnew_obj\u001b[0m\u001b[0;34m.\u001b[0m\u001b[0minsert\u001b[0m\u001b[0;34m(\u001b[0m\u001b[0;36m0\u001b[0m\u001b[0;34m,\u001b[0m \u001b[0mname\u001b[0m\u001b[0;34m,\u001b[0m \u001b[0mlevel_values\u001b[0m\u001b[0;34m)\u001b[0m\u001b[0;34m\u001b[0m\u001b[0;34m\u001b[0m\u001b[0m\n\u001b[0m\u001b[1;32m   5800\u001b[0m \u001b[0;34m\u001b[0m\u001b[0m\n\u001b[1;32m   5801\u001b[0m         \u001b[0mnew_obj\u001b[0m\u001b[0;34m.\u001b[0m\u001b[0mindex\u001b[0m \u001b[0;34m=\u001b[0m \u001b[0mnew_index\u001b[0m\u001b[0;34m\u001b[0m\u001b[0;34m\u001b[0m\u001b[0m\n",
            "\u001b[0;32m/usr/local/lib/python3.7/dist-packages/pandas/core/frame.py\u001b[0m in \u001b[0;36minsert\u001b[0;34m(self, loc, column, value, allow_duplicates)\u001b[0m\n\u001b[1;32m   4412\u001b[0m         \u001b[0;32mif\u001b[0m \u001b[0;32mnot\u001b[0m \u001b[0mallow_duplicates\u001b[0m \u001b[0;32mand\u001b[0m \u001b[0mcolumn\u001b[0m \u001b[0;32min\u001b[0m \u001b[0mself\u001b[0m\u001b[0;34m.\u001b[0m\u001b[0mcolumns\u001b[0m\u001b[0;34m:\u001b[0m\u001b[0;34m\u001b[0m\u001b[0;34m\u001b[0m\u001b[0m\n\u001b[1;32m   4413\u001b[0m             \u001b[0;31m# Should this be a different kind of error??\u001b[0m\u001b[0;34m\u001b[0m\u001b[0;34m\u001b[0m\u001b[0;34m\u001b[0m\u001b[0m\n\u001b[0;32m-> 4414\u001b[0;31m             \u001b[0;32mraise\u001b[0m \u001b[0mValueError\u001b[0m\u001b[0;34m(\u001b[0m\u001b[0;34mf\"cannot insert {column}, already exists\"\u001b[0m\u001b[0;34m)\u001b[0m\u001b[0;34m\u001b[0m\u001b[0;34m\u001b[0m\u001b[0m\n\u001b[0m\u001b[1;32m   4415\u001b[0m         \u001b[0;32mif\u001b[0m \u001b[0;32mnot\u001b[0m \u001b[0misinstance\u001b[0m\u001b[0;34m(\u001b[0m\u001b[0mloc\u001b[0m\u001b[0;34m,\u001b[0m \u001b[0mint\u001b[0m\u001b[0;34m)\u001b[0m\u001b[0;34m:\u001b[0m\u001b[0;34m\u001b[0m\u001b[0;34m\u001b[0m\u001b[0m\n\u001b[1;32m   4416\u001b[0m             \u001b[0;32mraise\u001b[0m \u001b[0mTypeError\u001b[0m\u001b[0;34m(\u001b[0m\u001b[0;34m\"loc must be int\"\u001b[0m\u001b[0;34m)\u001b[0m\u001b[0;34m\u001b[0m\u001b[0;34m\u001b[0m\u001b[0m\n",
            "\u001b[0;31mValueError\u001b[0m: cannot insert Credit_Score, already exists"
          ]
        }
      ],
      "source": [
        "df_agrupar_salida2.reset_index()\n",
        "df_agrupar_salida2"
      ]
    },
    {
      "cell_type": "code",
      "execution_count": null,
      "metadata": {
        "id": "AsQPAQyaH6by"
      },
      "outputs": [],
      "source": [
        "df_full = pd.merge(df_agrupado_median, df_agrupar_salida, on='Customer_ID', how='inner')  #El Credit Score se ajustará para la 3era entrega (Goo & Poor)."
      ]
    },
    {
      "cell_type": "code",
      "execution_count": null,
      "metadata": {
        "id": "pBlOHsnSE-ZF"
      },
      "outputs": [],
      "source": [
        "df_full.head(10)\n",
        "#df_agrupado_full.head(10)"
      ]
    },
    {
      "cell_type": "markdown",
      "metadata": {
        "id": "wurB5AnrNW0p"
      },
      "source": [
        "# Analisis Multivariado"
      ]
    },
    {
      "cell_type": "markdown",
      "metadata": {
        "id": "JFEururANb06"
      },
      "source": [
        "Luego de la limpieza y adecuación de datos, comenzamos a realizar un analisis multivariado del Dataset, si bien sabemos que nuestro target es \"Credit_Score\", nos servirá para poder avanzar en el entrenamiento de nuestro algoritmo, y luego para calcular la probabilidad de otorgamiento de credito"
      ]
    },
    {
      "cell_type": "code",
      "execution_count": null,
      "metadata": {
        "id": "8RIBarGFbjKT"
      },
      "outputs": [],
      "source": [
        "#REalizamos un previo XXX (Falta aclarar el tipo de grafico y el objetivo)\n",
        "plt.figure(figsize = (16,5))\n",
        "corr = df_full.corr()\n",
        "chart = sns.heatmap(corr, annot = True, cmap='Blues')\n",
        "#Rotamos el texto de las eitquetas del eje X en 45 grados\n",
        "chart.set_xticklabels(chart.get_xticklabels(), rotation=45)"
      ]
    },
    {
      "cell_type": "code",
      "execution_count": null,
      "metadata": {
        "id": "S1pGefMuOq_D"
      },
      "outputs": [],
      "source": [
        "#Identificamos las variables con valores nulos\n",
        "df_full.isna().sum().sort_values(ascending = False)"
      ]
    },
    {
      "cell_type": "code",
      "execution_count": null,
      "metadata": {
        "id": "gPGzojSDPOuh"
      },
      "outputs": [],
      "source": [
        "#Crear un Pairplot del dataset\n",
        "plt.figure(dpi=120)\n",
        "sns.pairplot(df_full)\n",
        "plt.show()\n"
      ]
    },
    {
      "cell_type": "code",
      "execution_count": null,
      "metadata": {
        "id": "B8LyonkORYPq"
      },
      "outputs": [],
      "source": [
        "#Correlaciones\n",
        "plt.figure(dpi = 120,figsize= (10,6))\n",
        "mask = np.triu(np.ones_like(df_full.corr(),dtype = bool))\n",
        "sns.heatmap(df_full.corr(),mask = mask, fmt = \".2f\",annot=True,lw=1,cmap = 'plasma')\n",
        "plt.yticks(rotation = 0)\n",
        "plt.xticks(rotation = 90)\n",
        "plt.title('Correlation Heatmap')\n",
        "plt.show()"
      ]
    },
    {
      "cell_type": "code",
      "execution_count": null,
      "metadata": {
        "id": "y6yOcuowP9Cf"
      },
      "outputs": [],
      "source": [
        "#Finalmente utilizamos para mayor obtención de información y toma de decisiones sobre los algoritmos a utilziar, un Reporte de profile\n",
        "profile = pandas_profiling.ProfileReport(df_full)\n",
        "profile"
      ]
    },
    {
      "cell_type": "markdown",
      "metadata": {
        "id": "EztLay9WR4om"
      },
      "source": [
        "Algunas conclusiones preliminares viendo un poco el profiling son:\n",
        "\n",
        "A) Estadisticas:\n",
        "  - Contamos con un  32% de variables Categoricas(8) y un 68% de variables númericas(17) de un total de 25 variables.\n",
        "  - Un 0.8% de valores del total del Dataset, como missing values.\n",
        "\n",
        "B) Correlaciones\n",
        "- Visualizamos un distintos porcentajes de variables que podrian servir como entrenamiento del modelo\n",
        "![mapa.jpg](data:image/jpeg;base64,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)\n",
        "\n",
        "\n",
        "C) Interacciones\n",
        "Tomando las correlaciones, creemos que las mejores opciones de interacción son \n",
        "- 'Monthly_Inhand_Salary' vs 'Annual_Income'\n",
        "- 'Credit_Score' vs 'Annual_Income'\n",
        "- 'Monthly_Balance' vs 'Annual_Income'\n",
        "\n",
        "  "
      ]
    },
    {
      "cell_type": "markdown",
      "metadata": {
        "id": "g746Ol34YYjf"
      },
      "source": [
        "#Realizamos un analisis bivariado de las interacciones anteriormente mencionadas"
      ]
    },
    {
      "cell_type": "code",
      "execution_count": null,
      "metadata": {
        "id": "xWRdQLoPYEwB"
      },
      "outputs": [],
      "source": [
        "#'Monthly_Inhand_Salary' vs 'Annual_Income'\n",
        "df_full.plot.hexbin(x='Monthly_Inhand_Salary', y='Annual_Income',gridsize=15)\n"
      ]
    },
    {
      "cell_type": "code",
      "execution_count": null,
      "metadata": {
        "id": "QXpqSgZ6VWnp"
      },
      "outputs": [],
      "source": [
        "#- 'Credit_Score' vs 'Annual_Income'\n",
        "plt.rcParams['figure.figsize'] = (9, 6)\n",
        "sns.boxplot(df_full['Credit_Score'], df_full['Annual_Income'], palette = 'viridis')\n",
        "plt.xticks([0, 1], ['Poor', 'Standard'],fontsize=15)\n",
        "plt.title('Ingreso annual vs situación crediticia', fontsize = 20)\n",
        "plt.show()"
      ]
    },
    {
      "cell_type": "markdown",
      "metadata": {
        "id": "pjFQM1my0QUJ"
      },
      "source": [
        "# Algoritmos de Clasificación\n",
        "\n",
        "Variable de Salida\n",
        "- 'Credit_Score'"
      ]
    },
    {
      "cell_type": "code",
      "execution_count": null,
      "metadata": {
        "id": "--fbS_M9c9JZ"
      },
      "outputs": [],
      "source": [
        "#Importo la libreria\n",
        "# ==============================================================================\n",
        "#RF\n",
        "# ==============================================================================\n",
        "from sklearn.model_selection import train_test_split \n",
        "from sklearn.tree import DecisionTreeClassifier \n",
        "from sklearn import tree\n",
        "from sklearn.metrics import accuracy_score\n",
        "from sklearn.ensemble import RandomForestClassifier\n",
        "from sklearn.metrics import classification_report\n",
        "\n",
        "# ==============================================================================\n",
        "#SVM\n",
        "# ==============================================================================\n",
        "# Preprocesado y modelado\n",
        "from sklearn.svm import SVC\n",
        "from sklearn.model_selection import train_test_split\n",
        "from sklearn.metrics import accuracy_score\n",
        "\n",
        "# ==============================================================================\n",
        "# Configuración warnings\n",
        "# ==============================================================================\n",
        "import warnings\n",
        "warnings.filterwarnings('ignore')"
      ]
    },
    {
      "cell_type": "code",
      "execution_count": null,
      "metadata": {
        "id": "tLk-CM8Nb5xn"
      },
      "outputs": [],
      "source": [
        "# Función para crear las matrices de confusión y no repetir el código.\n",
        "def metrics_score(actual, predicted):\n",
        "    print(classification_report(actual, predicted))\n",
        "\n",
        "    cm = confusion_matrix(actual, predicted)\n",
        "    plt.figure(figsize=(8,5))\n",
        "    \n",
        "    sns.heatmap(cm, annot=True,  fmt='.2f', xticklabels=['Good', 'Poor'], yticklabels=['Good', 'Poor'])\n",
        "    plt.ylabel('Actual')\n",
        "    plt.xlabel('Predicted')\n",
        "    plt.show()"
      ]
    },
    {
      "cell_type": "markdown",
      "metadata": {
        "id": "MXOwHOzqeXXi"
      },
      "source": [
        "## Random Forest"
      ]
    },
    {
      "cell_type": "code",
      "execution_count": null,
      "metadata": {
        "id": "audwIa4FQKfS"
      },
      "outputs": [],
      "source": [
        "#Random Forest\n",
        "#Seperamos en X e y\n",
        "#Preparación de datos para el modelado\n",
        "#Eliminando Variable de Salida y Variables Categóricas que No agregan valor, para una segunda iteración del modelo, posiblemente incluiremos alguna después de convertirlas a numéricas y quizás de las que ya incluimos sea necesario eliminar alguna.\n",
        "X = df_full.drop(['Credit_Score'], axis=1) \n",
        "y = df_full.Credit_Score.astype('int') #Defino el Target"
      ]
    },
    {
      "cell_type": "code",
      "execution_count": null,
      "metadata": {
        "id": "il_a8zxHxDsI"
      },
      "outputs": [],
      "source": [
        "#Separamos en train y test y nos quedamos 30% para test y 70% para train\n",
        "X_train, X_test, y_train, y_test = train_test_split(X, y, test_size=0.33, random_state=42)"
      ]
    },
    {
      "cell_type": "code",
      "execution_count": null,
      "metadata": {
        "id": "EbOIKanlxjLp"
      },
      "outputs": [],
      "source": [
        " #Creamos el modelo\n",
        "clf = RandomForestClassifier(max_depth=6, random_state=42, n_estimators=70,criterion='gini')\n",
        "clf.fit(X_train, y_train)"
      ]
    },
    {
      "cell_type": "code",
      "execution_count": null,
      "metadata": {
        "id": "WrEiCtbRx90q"
      },
      "outputs": [],
      "source": [
        "# Obtenemos predicciones\n",
        "y_pred= clf.predict(X_test)"
      ]
    },
    {
      "cell_type": "code",
      "execution_count": null,
      "metadata": {
        "id": "R9t89eYByTc-"
      },
      "outputs": [],
      "source": [
        "#Imprimimos las predicciones\n",
        "print(classification_report(y_pred=y_pred, y_true= y_test))"
      ]
    },
    {
      "cell_type": "code",
      "execution_count": null,
      "metadata": {
        "id": "tIcjm4meyhvf"
      },
      "outputs": [],
      "source": [
        "clf.feature_importances_"
      ]
    },
    {
      "cell_type": "code",
      "execution_count": null,
      "metadata": {
        "id": "55WdRHePylPN"
      },
      "outputs": [],
      "source": [
        "#Imprimimos un grafico de barras con las variables mas importantes (Random Forest)\n",
        "sorted_idx = clf.feature_importances_.argsort()\n",
        "plt.barh(X_train.columns[sorted_idx], clf.feature_importances_[sorted_idx])\n",
        "plt.xlabel(\"Random Forest Feature Importance\")"
      ]
    },
    {
      "cell_type": "code",
      "execution_count": null,
      "metadata": {
        "id": "xhzGsqqebuIn"
      },
      "outputs": [],
      "source": [
        "# Comprobación del performance en los datos de ENTRENAMIENTO (Random Forest)\n",
        "from sklearn.metrics import confusion_matrix,classification_report,roc_auc_score,plot_confusion_matrix,precision_recall_curve,roc_curve,make_scorer\n",
        "rf_estimator = RandomForestClassifier( random_state = 1)\n",
        "rf_estimator.fit(X_train, y_train)\n",
        "\n",
        "y_pred_train_rf = rf_estimator.predict(X_train)\n",
        "metrics_score(y_train, y_pred_train_rf)"
      ]
    },
    {
      "cell_type": "code",
      "execution_count": null,
      "metadata": {
        "id": "cqpsa6hacEoa"
      },
      "outputs": [],
      "source": [
        "# Comprobación del performance en los datos de PRUEBA (Random Forest)\n",
        "y_pred_test_rf = rf_estimator.predict(X_test)\n",
        "metrics_score(y_test, y_pred_test_rf)"
      ]
    },
    {
      "cell_type": "markdown",
      "metadata": {
        "id": "YaiXgP2SRY-v"
      },
      "source": [
        "## Logistic Regression"
      ]
    },
    {
      "cell_type": "code",
      "execution_count": null,
      "metadata": {
        "id": "_P0qxrwRRelG"
      },
      "outputs": [],
      "source": [
        "#Preparación de datos para el modelado\n",
        "#Eliminando Variable de Salida y Variables Categóricas que No agregan valor, para una segunda iteración del modelo, posiblemente incluiremos alguna después de convertirlas a numéricas y quizás de las que ya incluimos sea necesario eliminar alguna.\n",
        "X = df_full.drop(['Credit_Score'], axis=1)"
      ]
    },
    {
      "cell_type": "code",
      "execution_count": null,
      "metadata": {
        "id": "PA6OBewJ0Owp"
      },
      "outputs": [],
      "source": [
        "#Defino el Target\n",
        "Y = df_full.Credit_Score.astype('int') #Defino el Target"
      ]
    },
    {
      "cell_type": "code",
      "execution_count": null,
      "metadata": {
        "id": "GFcD2cLdZ8GP"
      },
      "outputs": [],
      "source": [
        "# Dividir los datos en un 70 % para entrenamiento y un 30 % para pruebas\n",
        "X_train, X_test, y_train, y_test = train_test_split(X, Y, test_size=0.30,stratify=Y, random_state=1)"
      ]
    },
    {
      "cell_type": "code",
      "execution_count": null,
      "metadata": {
        "id": "5Qa4Pkk7aQrl"
      },
      "outputs": [],
      "source": [
        "print(\"Shape of Training set : \", X_train.shape)\n",
        "print(\"Shape of test set : \", X_test.shape)\n",
        "print(\"Percentage of classes in training set:\")\n",
        "print(y_train.value_counts(normalize=True))\n",
        "print(\"Percentage of classes in test set:\")\n",
        "print(y_test.value_counts(normalize=True))"
      ]
    },
    {
      "cell_type": "code",
      "execution_count": null,
      "metadata": {
        "id": "aKiz9NtXadq5"
      },
      "outputs": [],
      "source": [
        "# Ajuste del modelo de regresión logística\n",
        "from sklearn.linear_model import LogisticRegression\n",
        "lg = LogisticRegression()\n",
        "lg.fit(X_train,y_train)"
      ]
    },
    {
      "cell_type": "code",
      "execution_count": null,
      "metadata": {
        "id": "czGgMD6oag81"
      },
      "outputs": [],
      "source": [
        "# Comprobación del performance en los datos de ENTRENAMIENTO (Regresión Logística)\n",
        "from sklearn.metrics import confusion_matrix,classification_report,roc_auc_score,plot_confusion_matrix,precision_recall_curve,roc_curve,make_scorer\n",
        "y_pred_train = lg.predict(X_train)\n",
        "metrics_score(y_train, y_pred_train)"
      ]
    },
    {
      "cell_type": "code",
      "execution_count": null,
      "metadata": {
        "id": "8orj4gjOc1W5"
      },
      "outputs": [],
      "source": [
        "# Comprobación del rendimiento en el conjunto de DATOS DE PRUEBA (Regresión Logística)\n",
        "y_pred_test = lg.predict(X_test)\n",
        "metrics_score(y_test, y_pred_test)"
      ]
    },
    {
      "cell_type": "code",
      "execution_count": null,
      "metadata": {
        "id": "a4qg1C4HpgeR"
      },
      "outputs": [],
      "source": [
        "# Predecir sobre los datos de ENTRENAMIENTO\n",
        "# Predict_proba da la probabilidad de que cada observación pertenezca a cada clase\n",
        "y_scores_lg=lg.predict_proba(X_train)\n",
        "\n",
        "precisions_lg, recalls_lg, thresholds_lg = precision_recall_curve(y_train, y_scores_lg[:,1])\n",
        "\n",
        "# Graficar valores:  precisions, recalls, and thresholds\n",
        "# Para obtener el threshold óptimo para el modelo\n",
        "plt.figure(figsize=(10,7))\n",
        "plt.plot(thresholds_lg, precisions_lg[:-1], 'b--', label='precision')\n",
        "plt.plot(thresholds_lg, recalls_lg[:-1], 'g--', label = 'recall')\n",
        "plt.xlabel('Threshold')\n",
        "plt.legend(loc='upper left')\n",
        "plt.ylim([0,1])\n",
        "plt.show()"
      ]
    },
    {
      "cell_type": "code",
      "execution_count": null,
      "metadata": {
        "id": "9v3NT8LCpkwz"
      },
      "outputs": [],
      "source": [
        "#Obtenemos el valor ótimo\n",
        "optimal_threshold =0.65"
      ]
    },
    {
      "cell_type": "code",
      "execution_count": null,
      "metadata": {
        "id": "hKGcmvVgpms_"
      },
      "outputs": [],
      "source": [
        "# Comprobación del performance en los datos de ENTRENAMIENTO considerando el Valor Óptimo de umbral\n",
        "y_pred_train = lg.predict_proba(X_train)\n",
        "metrics_score(y_train, y_pred_train[:,1]>optimal_threshold)"
      ]
    },
    {
      "cell_type": "code",
      "execution_count": null,
      "metadata": {
        "id": "bpvXs2qLpqYx"
      },
      "outputs": [],
      "source": [
        "# # Comprobación del performance en los datos de PRUEBA considerando el Valor Óptimo de umbral\n",
        "y_pred_test = lg.predict_proba(X_test)\n",
        "metrics_score(y_test, y_pred_test[:,1]>optimal_threshold)"
      ]
    },
    {
      "cell_type": "markdown",
      "metadata": {
        "id": "x2csZ_iNd4QY"
      },
      "source": [
        "## Decision Tree"
      ]
    },
    {
      "cell_type": "code",
      "execution_count": null,
      "metadata": {
        "id": "Fb8xaA66d3WG"
      },
      "outputs": [],
      "source": [
        "model_dt = DecisionTreeClassifier(random_state=1)\n",
        "model_dt.fit(X_train, y_train)"
      ]
    },
    {
      "cell_type": "code",
      "execution_count": null,
      "metadata": {
        "id": "Y60wnlVAeEb5"
      },
      "outputs": [],
      "source": [
        "pred_train_dt = model_dt.predict(X_train)\n",
        "metrics_score(y_train, pred_train_dt)"
      ]
    },
    {
      "cell_type": "code",
      "execution_count": null,
      "metadata": {
        "id": "nxBUIrrYeHJw"
      },
      "outputs": [],
      "source": [
        "pred_test_dt = model_dt.predict(X_test)\n",
        "metrics_score(y_test, pred_test_dt)"
      ]
    },
    {
      "cell_type": "code",
      "execution_count": null,
      "metadata": {
        "id": "yVzOWZi6eY_L"
      },
      "outputs": [],
      "source": [
        "from sklearn.model_selection import train_test_split, GridSearchCV\n",
        "estimator = DecisionTreeClassifier(random_state=1)\n",
        "\n",
        "# Cuadrícula de parámetros\n",
        "parameters = {\n",
        "    \"max_depth\": np.arange(2, 7, 2),\n",
        "    \"max_leaf_nodes\": [50, 75, 150, 250],\n",
        "    \"min_samples_split\": [10, 30, 50, 70],\n",
        "}\n",
        "\n",
        "# Ejecutar la búsqueda\n",
        "grid_obj = GridSearchCV(estimator, parameters, cv=5,scoring='recall',n_jobs=-1)\n",
        "grid_obj = grid_obj.fit(X_train, y_train)\n",
        "\n",
        "# Establecer el clf a la mejor combinación de parámetros\n",
        "estimator = grid_obj.best_estimator_\n",
        "\n",
        "# Ajuste el mejor algoritmo a los datos.\n",
        "estimator.fit(X_train, y_train)"
      ]
    },
    {
      "cell_type": "code",
      "execution_count": null,
      "metadata": {
        "id": "PDLWbQoHeRW0"
      },
      "outputs": [],
      "source": [
        "#Visualizando el Árbol de Decisión\n",
        "feature_names = list(X_train.columns)\n",
        "plt.figure(figsize=(20, 10))\n",
        "out = tree.plot_tree(\n",
        "    estimator,max_depth=3,\n",
        "    feature_names=feature_names,\n",
        "    filled=True,\n",
        "    fontsize=9,\n",
        "    node_ids=False,\n",
        "    class_names=None,\n",
        ")\n",
        "# El siguiente código agregará flechas a la división del árbol de decisión si faltan\n",
        "for o in out:\n",
        "    arrow = o.arrow_patch\n",
        "    if arrow is not None:\n",
        "        arrow.set_edgecolor(\"black\")\n",
        "        arrow.set_linewidth(1)\n",
        "plt.show()"
      ]
    },
    {
      "cell_type": "code",
      "execution_count": null,
      "metadata": {
        "id": "43_BoXh3e--D"
      },
      "outputs": [],
      "source": [
        "#Imprimimos un grafico de barras con las variables mas importantes (Árbol de decisión)\n",
        "importances = model_dt.feature_importances_\n",
        "indices = np.argsort(importances)\n",
        "\n",
        "plt.figure(figsize=(8, 8))\n",
        "plt.title(\"Feature Importances\")\n",
        "plt.barh(range(len(indices)), importances[indices], color=\"violet\", align=\"center\")\n",
        "plt.yticks(range(len(indices)), [feature_names[i] for i in indices])\n",
        "plt.xlabel(\"Relative Importance\")\n",
        "plt.show()"
      ]
    }
  ],
  "metadata": {
    "colab": {
      "collapsed_sections": [
        "hnd9sOKrN15l",
        "xBP2I5t7rTH_"
      ],
      "provenance": []
    },
    "kernelspec": {
      "display_name": "Python 3",
      "name": "python3"
    },
    "language_info": {
      "name": "python"
    }
  },
  "nbformat": 4,
  "nbformat_minor": 0
}
